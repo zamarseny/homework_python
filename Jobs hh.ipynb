{
 "cells": [
  {
   "cell_type": "markdown",
   "metadata": {},
   "source": [
    "Цель дипломной работы: построить регрессию зависимость ЗП в области Data Science от факторов: (знаний, опыта,\n",
    "места работы и т.д.) "
   ]
  },
  {
   "cell_type": "markdown",
   "metadata": {},
   "source": [
    "Этапы:\n",
    "1. Сбор данных hh.ru, ods.ai, indeed.com (включая архив)\n",
    "2. Приведение к одному формату\n",
    "3. Анализ\n",
    "4. Предобработка\n",
    "5. Построение модели\n",
    "6. Выводы"
   ]
  },
  {
   "cell_type": "code",
   "execution_count": 2,
   "metadata": {},
   "outputs": [],
   "source": [
    "import urllib.request\n",
    "import json\n",
    "import re\n",
    "import pandas as pd\n",
    "from tqdm import tqdm\n",
    "import time"
   ]
  },
  {
   "cell_type": "markdown",
   "metadata": {},
   "source": [
    "#https://nahabino.hh.ru/search/vacancy?text=Data+scientist&area=1&salary=&currency_code=RUR&experience=doesNotMatter&order_by=relevance&search_period=&items_on_page=20&no_magic=true&from=suggest_post\n",
    "https://nahabino.hh.ru/search/vacancy?text=Data+scientist\n",
    "    &area=1\n",
    "    &salary=\n",
    "    &currency_code=RUR\n",
    "    &experience=doesNotMatter\n",
    "    &order_by=relevance\n",
    "    &search_period=\n",
    "    &items_on_page=20\n",
    "    &no_magic=true\n",
    "    &from=suggest_post"
   ]
  },
  {
   "cell_type": "code",
   "execution_count": null,
   "metadata": {},
   "outputs": [],
   "source": [
    "&archived=true"
   ]
  },
  {
   "cell_type": "code",
   "execution_count": null,
   "metadata": {},
   "outputs": [],
   "source": [
    "машинное обучение, Machine learning, data engineer, "
   ]
  },
  {
   "cell_type": "code",
   "execution_count": 3,
   "metadata": {},
   "outputs": [
    {
     "name": "stderr",
     "output_type": "stream",
     "text": [
      "100%|██████████| 84/84 [16:14<00:00, 10.75s/it]\n"
     ]
    }
   ],
   "source": [
    "#Modified\n",
    "per_page = 20\n",
    "page = 100\n",
    "specialization = 1\n",
    "\n",
    "request = urllib.request.Request(\"https://api.hh.ru/areas\")\n",
    "response = urllib.request.urlopen(request)\n",
    "response = json.loads(response.read().decode('utf-8'))\n",
    "response = [d for d in response if d['id'] == '113'][0]['areas']\n",
    "area_dict = {int(d[\"id\"]): d['name'] for d in response}\n",
    "docs = []\n",
    "for j in tqdm(area_dict.keys()):\n",
    "    for i in range(page):\n",
    "        # поиск вакансий в регионе с заданой специализацией\n",
    "        request = urllib.request.Request(\"https://api.hh.ru/vacancies?area=\" + str(j) + \\\n",
    "                                         \"&text=Data+scientist=\"  +\n",
    "                                         #&specialization=\" + str(specialization) +\n",
    "                                         \"&only_with_salary=true\" + \"&per_page=\" + str(per_page) \\\n",
    "                                         + '&page=' + str(i))\n",
    "        response = urllib.request.urlopen(request)\n",
    "        data = json.loads(response.read().decode('utf-8'))['items']\n",
    "        for v, d in enumerate(data):\n",
    "            time.sleep(1.0)\n",
    "            request = urllib.request.Request(\"https://api.hh.ru/vacancies/{}\".format(d['id']))\n",
    "            response = urllib.request.urlopen(request)\n",
    "            full = json.loads(response.read().decode('utf-8'))\n",
    "            d['description'] = full['description']\n",
    "            d['experience'] = full['experience']['id']\n",
    "            if d['address']:\n",
    "                d['region'] = {'city': d['address']['city'], 'lat': d['address']['lat'], 'lng': d['address']['lng']}\n",
    "            if not d.get('region', None):\n",
    "                d['region'] = {'city': area_dict[j], 'lat': None, 'lng': None}\n",
    "            d['area'] = area_dict[j]\n",
    "            docs.append(d)\n",
    "\n",
    "docs = set([json.dumps(d) for d in docs])\n",
    "docs = [json.loads(d) for d in docs]\n",
    "\n"
   ]
  },
  {
   "cell_type": "code",
   "execution_count": 12,
   "metadata": {},
   "outputs": [
    {
     "data": {
      "text/plain": [
       "62"
      ]
     },
     "execution_count": 12,
     "metadata": {},
     "output_type": "execute_result"
    }
   ],
   "source": [
    "i=0\n",
    "for d in docs:\n",
    "    i+=1\n",
    "i"
   ]
  },
  {
   "cell_type": "code",
   "execution_count": 13,
   "metadata": {},
   "outputs": [
    {
     "name": "stderr",
     "output_type": "stream",
     "text": [
      "100%|██████████| 62/62 [00:00<00:00, 141253.04it/s]\n"
     ]
    }
   ],
   "source": [
    "def process_salary(salary):\n",
    "    if salary['to'] and salary['from']:\n",
    "        sal = (salary['from'] + salary['to']) / 2.\n",
    "    elif salary['to']:\n",
    "        sal = salary['to']\n",
    "    else:\n",
    "        sal = salary['from']\n",
    "    if salary['gross']:\n",
    "        sal *= 0.87\n",
    "    if salary['currency'] == 'EUR':\n",
    "        sal *= 75.99\n",
    "    elif salary['currency'] == 'USD':\n",
    "        sal *= 65.57\n",
    "    return sal\n",
    "\n",
    "#def process_tech(text):\n",
    "#    tech_dict = {key: 0 for key in regexs.keys()}\n",
    "#    for key, reg in regexs.items():\n",
    "#        search = reg.search(text)\n",
    "#        if search:\n",
    "#            tech_dict[key] = 1\n",
    "#    return tech_dict\n",
    "\n",
    "\n",
    "#techs_case = ['C', 'R']\n",
    "#techs = ['javascript', 'sql', 'java', 'c#', 'PHP', 'Python', 'C++', 'Swift', 'ruby', 'go', 'typescript', 'scala',\n",
    "#         'objective-c', 'kotlin', 'pl-sql', 'pascal', 'delphi', 'perl', 'clojure', 'swift', 'vb .net', 'groovy',\n",
    "#         'lua', 'haskell', 'hibernate', 'spring', 'tensorflow', 'keras', 'caffe', 'theano', 'matlab', 'angular',\n",
    "#         'ruby on rails', 'yii', 'django', 'flask', 'asp', 'knockout', 'bootstrap', 'html', 'css', 'vue',\n",
    "#         'pytorch', 'cuda', 'react', 'meteor', 'jsf', 'laravel', 'node', 'networkx', 'matplotlib', 'plotly',\n",
    "#         'beautifulsoup']\n",
    "\n",
    "\n",
    "#regexs = {tech: re.compile(r\"\\s+\"+re.escape(tech)+r\"(\\s+|\\.|,|;)\") for tech in techs_case}\n",
    "#regexs.update({tech: re.compile(r\"\\s+\"+re.escape(tech)+r\"(\\s+|\\.|,|;)\", flags=re.IGNORECASE) for tech in techs})\n",
    "#regexs['1С'] = re.compile(r\"\\s+(1С|1C)-?\"+r\"(\\s+|\\.|,|;)\", flags=re.IGNORECASE)\n",
    "\n",
    "second_docs = []\n",
    "for i, doc in enumerate(tqdm(docs)):\n",
    "    if doc['salary']:\n",
    "        out_doc = {}\n",
    "        out_doc['id'] = i\n",
    "        out_doc['title'] = doc['name']\n",
    "        out_doc['employer'] = doc['employer']['name']\n",
    "        out_doc['salary'] = process_salary(doc['salary'])\n",
    "        out_doc['description'] = doc['description']    # description in html format\n",
    "        #current_techs = process_tech(out_doc['description'])\n",
    "        out_doc['city'], out_doc['lat'], out_doc['lng'] = doc['region']['city'], doc['region']['lat'],\\\n",
    "                                                          doc['region']['lng']\n",
    "        out_doc['experience'] = doc['experience']\n",
    "        out_doc['area'] = doc['area']\n",
    "        #if any(list(current_techs.values())):\n",
    "        #    second_docs.append({**out_doc, **current_techs})\n",
    "        second_docs.append(out_doc)\n",
    "\n",
    "data = pd.DataFrame(second_docs)\n",
    "data.to_csv('hh_dataset.csv')"
   ]
  },
  {
   "cell_type": "code",
   "execution_count": 17,
   "metadata": {
    "scrolled": true
   },
   "outputs": [
    {
     "data": {
      "text/html": [
       "<div>\n",
       "<style scoped>\n",
       "    .dataframe tbody tr th:only-of-type {\n",
       "        vertical-align: middle;\n",
       "    }\n",
       "\n",
       "    .dataframe tbody tr th {\n",
       "        vertical-align: top;\n",
       "    }\n",
       "\n",
       "    .dataframe thead th {\n",
       "        text-align: right;\n",
       "    }\n",
       "</style>\n",
       "<table border=\"1\" class=\"dataframe\">\n",
       "  <thead>\n",
       "    <tr style=\"text-align: right;\">\n",
       "      <th></th>\n",
       "      <th>area</th>\n",
       "      <th>title</th>\n",
       "      <th>city</th>\n",
       "      <th>description</th>\n",
       "      <th>employer</th>\n",
       "      <th>salary</th>\n",
       "      <th>lat</th>\n",
       "      <th>lng</th>\n",
       "      <th>experience</th>\n",
       "    </tr>\n",
       "  </thead>\n",
       "  <tbody>\n",
       "    <tr>\n",
       "      <th>0</th>\n",
       "      <td>Москва</td>\n",
       "      <td>Архитектор решений (IT/IoT/автоматизация)</td>\n",
       "      <td>Москва</td>\n",
       "      <td>&lt;p&gt;Международный холдинг Tibbo - ведущий произ...</td>\n",
       "      <td>Tibbo</td>\n",
       "      <td>87000.0</td>\n",
       "      <td>NaN</td>\n",
       "      <td>NaN</td>\n",
       "      <td>between1And3</td>\n",
       "    </tr>\n",
       "    <tr>\n",
       "      <th>1</th>\n",
       "      <td>Москва</td>\n",
       "      <td>Ведущий специалист / data scientist (big data,...</td>\n",
       "      <td>Москва</td>\n",
       "      <td>&lt;p&gt;IT-компании, специализирующейся в области d...</td>\n",
       "      <td>Прогностические решения</td>\n",
       "      <td>150000.0</td>\n",
       "      <td>55.762556</td>\n",
       "      <td>37.627175</td>\n",
       "      <td>between3And6</td>\n",
       "    </tr>\n",
       "    <tr>\n",
       "      <th>2</th>\n",
       "      <td>Санкт-Петербург</td>\n",
       "      <td>Маркетолог-аналитик / Data Scientist</td>\n",
       "      <td>None</td>\n",
       "      <td>&lt;p&gt;&lt;strong&gt;Центр образовательных технологий Ad...</td>\n",
       "      <td>Центр образовательных технологий Николая Ягодк...</td>\n",
       "      <td>60000.0</td>\n",
       "      <td>NaN</td>\n",
       "      <td>NaN</td>\n",
       "      <td>between1And3</td>\n",
       "    </tr>\n",
       "    <tr>\n",
       "      <th>3</th>\n",
       "      <td>Новосибирская область</td>\n",
       "      <td>Data scientist (Machine Learning Engineer)</td>\n",
       "      <td>Новосибирск</td>\n",
       "      <td>&lt;p&gt;Всем привет!&lt;br /&gt;&lt;br /&gt;Мы - команда корпор...</td>\n",
       "      <td>Dialog</td>\n",
       "      <td>100000.0</td>\n",
       "      <td>54.858025</td>\n",
       "      <td>83.110567</td>\n",
       "      <td>between1And3</td>\n",
       "    </tr>\n",
       "    <tr>\n",
       "      <th>4</th>\n",
       "      <td>Москва</td>\n",
       "      <td>Аналитик данных (Data Scientist)</td>\n",
       "      <td>Москва</td>\n",
       "      <td>&lt;p&gt;&lt;strong&gt;Агентство Мерчендайзинга &amp;quot;Прем...</td>\n",
       "      <td>Премьер Аналитика</td>\n",
       "      <td>150000.0</td>\n",
       "      <td>55.818882</td>\n",
       "      <td>37.618893</td>\n",
       "      <td>between3And6</td>\n",
       "    </tr>\n",
       "  </tbody>\n",
       "</table>\n",
       "</div>"
      ],
      "text/plain": [
       "                    area                                              title  \\\n",
       "0                 Москва          Архитектор решений (IT/IoT/автоматизация)   \n",
       "1                 Москва  Ведущий специалист / data scientist (big data,...   \n",
       "2        Санкт-Петербург               Маркетолог-аналитик / Data Scientist   \n",
       "3  Новосибирская область         Data scientist (Machine Learning Engineer)   \n",
       "4                 Москва                   Аналитик данных (Data Scientist)   \n",
       "\n",
       "          city                                        description  \\\n",
       "0       Москва  <p>Международный холдинг Tibbo - ведущий произ...   \n",
       "1       Москва  <p>IT-компании, специализирующейся в области d...   \n",
       "2         None  <p><strong>Центр образовательных технологий Ad...   \n",
       "3  Новосибирск  <p>Всем привет!<br /><br />Мы - команда корпор...   \n",
       "4       Москва  <p><strong>Агентство Мерчендайзинга &quot;Прем...   \n",
       "\n",
       "                                            employer    salary        lat  \\\n",
       "0                                              Tibbo   87000.0        NaN   \n",
       "1                            Прогностические решения  150000.0  55.762556   \n",
       "2  Центр образовательных технологий Николая Ягодк...   60000.0        NaN   \n",
       "3                                             Dialog  100000.0  54.858025   \n",
       "4                                  Премьер Аналитика  150000.0  55.818882   \n",
       "\n",
       "         lng    experience  \n",
       "0        NaN  between1And3  \n",
       "1  37.627175  between3And6  \n",
       "2        NaN  between1And3  \n",
       "3  83.110567  between1And3  \n",
       "4  37.618893  between3And6  "
      ]
     },
     "execution_count": 17,
     "metadata": {},
     "output_type": "execute_result"
    }
   ],
   "source": [
    "#df=pd.read_csv('hh_dataset.csv')\n",
    "#df.head()\n",
    "#data\n",
    "data[['area', 'title', 'city', 'description', 'employer', 'salary', 'lat', 'lng', 'experience']].head()"
   ]
  },
  {
   "cell_type": "code",
   "execution_count": 15,
   "metadata": {
    "scrolled": true
   },
   "outputs": [
    {
     "name": "stdout",
     "output_type": "stream",
     "text": [
      "<class 'pandas.core.frame.DataFrame'>\n",
      "RangeIndex: 62 entries, 0 to 61\n",
      "Data columns (total 10 columns):\n",
      "area           62 non-null object\n",
      "city           57 non-null object\n",
      "description    62 non-null object\n",
      "employer       62 non-null object\n",
      "experience     62 non-null object\n",
      "id             62 non-null int64\n",
      "lat            33 non-null float64\n",
      "lng            33 non-null float64\n",
      "salary         62 non-null float64\n",
      "title          62 non-null object\n",
      "dtypes: float64(3), int64(1), object(6)\n",
      "memory usage: 4.9+ KB\n"
     ]
    }
   ],
   "source": [
    "data.info()"
   ]
  },
  {
   "cell_type": "code",
   "execution_count": 31,
   "metadata": {},
   "outputs": [
    {
     "data": {
      "text/plain": [
       "count        62.000000\n",
       "mean     143418.158871\n",
       "std       63655.990105\n",
       "min       25000.000000\n",
       "25%      100000.000000\n",
       "50%      148950.000000\n",
       "75%      180000.000000\n",
       "max      300000.000000\n",
       "Name: salary, dtype: float64"
      ]
     },
     "execution_count": 31,
     "metadata": {},
     "output_type": "execute_result"
    }
   ],
   "source": [
    "data['salary'].describe()"
   ]
  },
  {
   "cell_type": "code",
   "execution_count": 23,
   "metadata": {},
   "outputs": [],
   "source": [
    "import matplotlib.pyplot as plt\n",
    "import numpy as np\n",
    "from matplotlib import colors\n",
    "from matplotlib.ticker import PercentFormatter"
   ]
  },
  {
   "cell_type": "code",
   "execution_count": 54,
   "metadata": {},
   "outputs": [
    {
     "data": {
      "text/plain": [
       "(array([ 8., 17., 18.,  7., 10.,  2.]),\n",
       " array([ 25000.        ,  70833.33333333, 116666.66666667, 162500.        ,\n",
       "        208333.33333333, 254166.66666667, 300000.        ]),\n",
       " <a list of 6 Patch objects>)"
      ]
     },
     "execution_count": 54,
     "metadata": {},
     "output_type": "execute_result"
    },
    {
     "data": {
      "image/png": "[encoded data removed]",
      "text/plain": [
       "<Figure size 432x288 with 1 Axes>"
      ]
     },
     "metadata": {
      "needs_background": "light"
     },
     "output_type": "display_data"
    }
   ],
   "source": [
    "#plt.hist(data['experience'])\n",
    "plt.hist(data['salary'], bins=6)"
   ]
  },
  {
   "cell_type": "code",
   "execution_count": 49,
   "metadata": {},
   "outputs": [
    {
     "data": {
      "text/plain": [
       "<matplotlib.axes._subplots.AxesSubplot at 0x7fef9a942828>"
      ]
     },
     "execution_count": 49,
     "metadata": {},
     "output_type": "execute_result"
    },
    {
     "data": {
      "image/png": "[encoded data removed]",
      "text/plain": [
       "<Figure size 432x288 with 1 Axes>"
      ]
     },
     "metadata": {
      "needs_background": "light"
     },
     "output_type": "display_data"
    }
   ],
   "source": [
    "by_experience=data.pivot_table(index = 'experience', \\\n",
    "                               #columns = 'student_netology', \\\n",
    "                       values = 'title', aggfunc = 'count', fill_value = 0)\n",
    "by_experience.plot(kind='bar', rot=45)"
   ]
  },
  {
   "cell_type": "code",
   "execution_count": null,
   "metadata": {},
   "outputs": [],
   "source": []
  },
  {
   "cell_type": "code",
   "execution_count": 51,
   "metadata": {},
   "outputs": [
    {
     "data": {
      "text/plain": [
       "<matplotlib.axes._subplots.AxesSubplot at 0x7fef9a288390>"
      ]
     },
     "execution_count": 51,
     "metadata": {},
     "output_type": "execute_result"
    },
    {
     "data": {
      "image/png": "[encoded data removed]",
      "text/plain": [
       "<Figure size 432x288 with 1 Axes>"
      ]
     },
     "metadata": {
      "needs_background": "light"
     },
     "output_type": "display_data"
    }
   ],
   "source": [
    "by_experience_with_sal=data.pivot_table(index = 'experience', \\\n",
    "                               #columns = 'student_netology', \\\n",
    "                       values = 'salary', aggfunc = 'mean', fill_value = 0)\n",
    "by_experience_with_sal.plot(kind='bar', rot=45)"
   ]
  },
  {
   "cell_type": "code",
   "execution_count": 57,
   "metadata": {},
   "outputs": [
    {
     "data": {
      "text/plain": [
       "<matplotlib.axes._subplots.AxesSubplot at 0x7fef99e2f0b8>"
      ]
     },
     "execution_count": 57,
     "metadata": {},
     "output_type": "execute_result"
    },
    {
     "data": {
      "image/png": "[encoded data removed]",
      "text/plain": [
       "<Figure size 432x288 with 1 Axes>"
      ]
     },
     "metadata": {
      "needs_background": "light"
     },
     "output_type": "display_data"
    }
   ],
   "source": [
    "data.boxplot(column='salary', by='experience', ax=None, \\\n",
    "            # fontsize=None, rot=0, grid=True, figsize=None, layout=None, return_type=None, **kwds\\\n",
    "            )"
   ]
  },
  {
   "cell_type": "code",
   "execution_count": null,
   "metadata": {},
   "outputs": [],
   "source": []
  }
 ],
 "metadata": {
  "kernelspec": {
   "display_name": "Python 3",
   "language": "python",
   "name": "python3"
  },
  "language_info": {
   "codemirror_mode": {
    "name": "ipython",
    "version": 3
   },
   "file_extension": ".py",
   "mimetype": "text/x-python",
   "name": "python",
   "nbconvert_exporter": "python",
   "pygments_lexer": "ipython3",
   "version": "3.6.8"
  }
 },
 "nbformat": 4,
 "nbformat_minor": 2
}
