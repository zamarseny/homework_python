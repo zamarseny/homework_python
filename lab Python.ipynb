{
 "cells": [
  {
   "cell_type": "markdown",
   "metadata": {},
   "source": [
    "1. Дан произвольный список, содержащий только числа. Выведите результат сложения всех чисел больше 10."
   ]
  },
  {
   "cell_type": "code",
   "execution_count": 6,
   "metadata": {},
   "outputs": [],
   "source": [
    "lis=(3, 15, 1.1, 0.1, 0, -1, 29, 1000)"
   ]
  },
  {
   "cell_type": "code",
   "execution_count": 7,
   "metadata": {},
   "outputs": [
    {
     "name": "stdout",
     "output_type": "stream",
     "text": [
      "1044\n"
     ]
    }
   ],
   "source": [
    "sum=0\n",
    "for i in lis:\n",
    "    if i>10: \n",
    "        sum+=i\n",
    "\n",
    "#sum+=i: for i in lis if i>10\n",
    "        \n",
    "print(sum)"
   ]
  },
  {
   "cell_type": "markdown",
   "metadata": {},
   "source": [
    "2. Пусть задан список, содержащий строки. Выведите все строки, заканчивающиеся буковой r."
   ]
  },
  {
   "cell_type": "code",
   "execution_count": 9,
   "metadata": {},
   "outputs": [],
   "source": [
    "listok=['ma', 'pa', 'igor', 'rigos', 'Thor']"
   ]
  },
  {
   "cell_type": "code",
   "execution_count": 13,
   "metadata": {},
   "outputs": [
    {
     "name": "stdout",
     "output_type": "stream",
     "text": [
      "['igor', 'Thor']\n"
     ]
    }
   ],
   "source": [
    "listochek=[]\n",
    "for s in listok:\n",
    "    #print(s[-1])\n",
    "    if s[-1]=='r':\n",
    "        listochek.append(s)\n",
    "print(listochek)"
   ]
  },
  {
   "cell_type": "markdown",
   "metadata": {},
   "source": [
    "3. Сгенерируйте и выведите cлучайную строку размером 6 символов, содержащую только цифры. Строка должна\n",
    "содержать хотя бы одну цифру 3."
   ]
  },
  {
   "cell_type": "code",
   "execution_count": 55,
   "metadata": {},
   "outputs": [
    {
     "name": "stdout",
     "output_type": "stream",
     "text": [
      "[7, 9, 9, 2, 1, 3]\n"
     ]
    }
   ],
   "source": [
    "from random import  random, choice, randint\n",
    "li=[]\n",
    "\n",
    "for i in range(6):\n",
    "    li.append(randint(0, 9))\n",
    "#print(li)\n",
    "if 3 not in li:\n",
    "    li[randint(0, 5)]=3\n",
    "print(li)"
   ]
  },
  {
   "cell_type": "code",
   "execution_count": null,
   "metadata": {},
   "outputs": [],
   "source": []
  },
  {
   "cell_type": "markdown",
   "metadata": {},
   "source": [
    "4. Пусть дана строка произвольной длины. Выведите информацию о том, сколько в ней символов и сколько слов."
   ]
  },
  {
   "cell_type": "code",
   "execution_count": 99,
   "metadata": {},
   "outputs": [],
   "source": [
    "stri='cмотреть  сериалы   бесплатно без регистрации онлайн в HD 720. всегда'"
   ]
  },
  {
   "cell_type": "code",
   "execution_count": 103,
   "metadata": {},
   "outputs": [
    {
     "name": "stdout",
     "output_type": "stream",
     "text": [
      "количество символов - 69 , количество слов - 10\n"
     ]
    }
   ],
   "source": [
    "print('количество символов -',len(stri), ', количество слов -', len(stri.split()))"
   ]
  },
  {
   "cell_type": "markdown",
   "metadata": {},
   "source": [
    "5. Пусть дана матрица чисел размером NхN. Представьте данную матрицу в виде списка. Выведите результат сложения\n",
    "всех элементов матрицы."
   ]
  },
  {
   "cell_type": "code",
   "execution_count": 144,
   "metadata": {},
   "outputs": [
    {
     "name": "stdout",
     "output_type": "stream",
     "text": [
      "[0.8960318492663252, 0.42209598682414196, 0.30599219284771895, 0.7136081485957039]\n",
      "[0.37103101662580407, 0.8595761410338872, 0.8313503308745784, 0.21780878306775364]\n",
      "[0.6815422154323736, 0.8195525911311174, 0.3150627578520363, 0.04840639109355038]\n",
      "[0.4439994043093686, 0.061638006142050616, 0.18322081776679255, 0.6329853451230116]\n",
      "результат сложения всех элементов матрицы 7.803901977986215\n"
     ]
    }
   ],
   "source": [
    "import numpy as np\n",
    "\n",
    "N=4\n",
    "matr=np.random.rand(N,N)\n",
    "\n",
    "\n",
    "sq_spis= [[0] * N] * N\n",
    "summ=0\n",
    "\n",
    "for i in range(N):\n",
    "    for j in range(N):\n",
    "        sq_spis[i][j]=matr[i][j]\n",
    "        summ+=matr[i][j]\n",
    "    print(sq_spis[i])\n",
    "#print(sq_spis)\n",
    "print('результат сложения всех элементов матрицы',summ)"
   ]
  },
  {
   "cell_type": "code",
   "execution_count": null,
   "metadata": {},
   "outputs": [],
   "source": []
  },
  {
   "cell_type": "markdown",
   "metadata": {},
   "source": [
    "6. Пусть список студентов представлен в виде структуры \n",
    "[[No, ФИО, Возраст,Группа],[No, ФИО, Возраст, Группа],[No, ФИО,\n",
    "\n",
    "Возраст, Группа]]. \n",
    "Преобразуйте список в словарь вида: {No: [ФИО, Возраст, Группа], No:[....], No: [....]}"
   ]
  },
  {
   "cell_type": "code",
   "execution_count": 231,
   "metadata": {},
   "outputs": [],
   "source": [
    "spi=[[1, 'Krug', 70, '1'],\n",
    "    [2, 'Sever', 67, '2'],\n",
    "    [3, 'Shufutinsky', 81, '2'],\n",
    "    [4, 'Kobzon', 85, '1'],\n",
    "    [5, 'Trofim', 50, '2'],]"
   ]
  },
  {
   "cell_type": "code",
   "execution_count": 232,
   "metadata": {},
   "outputs": [
    {
     "name": "stdout",
     "output_type": "stream",
     "text": [
      "{1: ['Krug', 70, '1'], 2: ['Sever', 67, '2'], 3: ['Shufutinsky', 81, '2'], 4: ['Kobzon', 85, '1'], 5: ['Trofim', 50, '2']}\n"
     ]
    }
   ],
   "source": [
    "dicti={}\n",
    "\n",
    "for i in range(len(spi)):\n",
    "    dicti.setdefault(spi[i][0],[spi[i][1], spi[i][2], spi[i][3]])\n",
    "print(dicti)"
   ]
  },
  {
   "cell_type": "markdown",
   "metadata": {},
   "source": [
    "7. Добавьте к задаче No6 для словаря возможность \n",
    "(без преобразования словаря обратно в список) изменить группу студента. \n",
    "Поиск по «ФИО» («ФИО» студента и новый номер группы необходимо ввести с клавиатуры).\n"
   ]
  },
  {
   "cell_type": "code",
   "execution_count": 239,
   "metadata": {},
   "outputs": [
    {
     "name": "stdout",
     "output_type": "stream",
     "text": [
      "enter the nameSer\n",
      "enter the new group number5\n",
      "{1: ['Krug', 70, '6'], 2: ['Sever', 67, '2'], 3: ['Shufutinsky', 81, '2'], 4: ['Kobzon', 85, '1'], 5: ['Trofim', 50, '2']}\n"
     ]
    }
   ],
   "source": [
    "#print(len(dicti.values))\n",
    "Name = input(\"enter the name\")\n",
    "Group_id = input(\"enter the new group number\")\n",
    "#print(Name, Group_id)\n",
    "i=0\n",
    "k=0\n",
    "\n",
    "for key in dicti.values():\n",
    "    if key[0]==Name:\n",
    "        dicti.setdefault(spi[i][0],[spi[i][1], spi[i][2], Group_id])\n",
    "        k=i\n",
    "        dicti[spi[i][0]]=[spi[i][1], spi[i][2], Group_id]\n",
    "        print(Name, ' now is in group ', Group_id)\n",
    "    i+=1\n",
    "\n",
    "#if spi[k][0] not in dicti:\n",
    "#    print('no ', Name, ' in the list')\n",
    "    \n",
    "print(dicti)"
   ]
  },
  {
   "cell_type": "code",
   "execution_count": null,
   "metadata": {},
   "outputs": [],
   "source": []
  },
  {
   "cell_type": "markdown",
   "metadata": {},
   "source": [
    "8. *Дана некоторая директория (папка). \n",
    "Посчитайте количество файлов в данной директории (папке) и выведите на\n",
    "экран."
   ]
  },
  {
   "cell_type": "code",
   "execution_count": null,
   "metadata": {},
   "outputs": [],
   "source": []
  },
  {
   "cell_type": "code",
   "execution_count": null,
   "metadata": {},
   "outputs": [],
   "source": []
  },
  {
   "cell_type": "code",
   "execution_count": null,
   "metadata": {},
   "outputs": [],
   "source": []
  },
  {
   "cell_type": "code",
   "execution_count": null,
   "metadata": {},
   "outputs": [],
   "source": []
  }
 ],
 "metadata": {
  "kernelspec": {
   "display_name": "Python 3",
   "language": "python",
   "name": "python3"
  },
  "language_info": {
   "codemirror_mode": {
    "name": "ipython",
    "version": 3
   },
   "file_extension": ".py",
   "mimetype": "text/x-python",
   "name": "python",
   "nbconvert_exporter": "python",
   "pygments_lexer": "ipython3",
   "version": "3.6.5"
  }
 },
 "nbformat": 4,
 "nbformat_minor": 2
}
