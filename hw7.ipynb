{
 "cells": [
  {
   "cell_type": "code",
   "execution_count": null,
   "metadata": {},
   "outputs": [],
   "source": [
    "started at 01:25"
   ]
  },
  {
   "cell_type": "markdown",
   "metadata": {},
   "source": [
    "1. Существует массив Z = [1,2,3,4,5,6,7,8,9,10,11,12,13,14],\n",
    "как из него создать массив R = [[1,2,3,4], [2,3,4,5], [3,4,5,6], ...,[11,12,13,14]]?\n"
   ]
  },
  {
   "cell_type": "code",
   "execution_count": 1,
   "metadata": {},
   "outputs": [],
   "source": [
    "import numpy as np\n",
    "from scipy import optimize\n",
    "\n",
    "z=[1,2,3,4,5,6,7,8,9,10,11,12,13,14]\n",
    "R=[]\n",
    "#R.append([1,2,3,4])\n",
    "#R.append([2,3,4,5])\n",
    "#R=np.array(z)\n",
    "#R.reshape(10,4)"
   ]
  },
  {
   "cell_type": "code",
   "execution_count": 2,
   "metadata": {},
   "outputs": [],
   "source": [
    "for i in range(len(z)-3):\n",
    "    #print(z[i])\n",
    "    R.append([z[i], z[i+1], z[i+2], z[i+3]])"
   ]
  },
  {
   "cell_type": "code",
   "execution_count": 3,
   "metadata": {},
   "outputs": [
    {
     "name": "stdout",
     "output_type": "stream",
     "text": [
      "[[1, 2, 3, 4], [2, 3, 4, 5], [3, 4, 5, 6], [4, 5, 6, 7], [5, 6, 7, 8], [6, 7, 8, 9], [7, 8, 9, 10], [8, 9, 10, 11], [9, 10, 11, 12], [10, 11, 12, 13], [11, 12, 13, 14]]\n"
     ]
    }
   ],
   "source": [
    "print(R)"
   ]
  },
  {
   "cell_type": "markdown",
   "metadata": {},
   "source": [
    "continued at 01:48"
   ]
  },
  {
   "cell_type": "markdown",
   "metadata": {},
   "source": [
    "2. Дана произвольная матрица A. Рассчитать ранг матрицы A."
   ]
  },
  {
   "cell_type": "code",
   "execution_count": 4,
   "metadata": {},
   "outputs": [],
   "source": [
    "A=np.matrix([[1,2,5,6,17,1],\\\n",
    "  [0,0, 0,3,9,4],\\\n",
    "               [0,16, 7,3,11,0],\\\n",
    "  [0,0,2,6,1,13]])"
   ]
  },
  {
   "cell_type": "code",
   "execution_count": 5,
   "metadata": {},
   "outputs": [
    {
     "data": {
      "text/plain": [
       "4"
      ]
     },
     "execution_count": 5,
     "metadata": {},
     "output_type": "execute_result"
    }
   ],
   "source": [
    "#Можно и полезно было бы сделать через цикл и линейные преобразования над строками и столбцами                      #print(A) #(k,l)=A.shape  A.sort(axis=1) #print(k,l) # A.item(4)\n",
    "# однако из-за нехватки времени, воспользуемся встроенной функцией\n",
    "np.linalg.matrix_rank(A)"
   ]
  },
  {
   "cell_type": "markdown",
   "metadata": {},
   "source": [
    "continued at 02:10\n",
    "paused at 3:02"
   ]
  },
  {
   "cell_type": "markdown",
   "metadata": {},
   "source": [
    "3. Найти лучший алгоритм для решения следующей задачи:\n",
    "min (x1x4(x1+x2+x3)+x3).\n",
    "Условия:\n",
    "x1x2x3x4≥30\n",
    "x1^2+x2^2+x3^2+x4^2=60\n",
    "2≤x1,x2,x3,x4≤6\n",
    "Начальное приближение:\n",
    "x=(1,5,5,1)"
   ]
  },
  {
   "cell_type": "code",
   "execution_count": 6,
   "metadata": {},
   "outputs": [],
   "source": [
    "def f(x):\n",
    "    return x[0]*x[3]*(x[0]+x[1]+x[2])+x[2]"
   ]
  },
  {
   "cell_type": "code",
   "execution_count": 7,
   "metadata": {},
   "outputs": [],
   "source": [
    "from scipy.optimize import Bounds\n",
    "bounds = Bounds([2, 2, 2, 2], [6, 6, 6, 6])"
   ]
  },
  {
   "cell_type": "code",
   "execution_count": 8,
   "metadata": {},
   "outputs": [],
   "source": [
    "#f([1,5,5,1]) #16         #f([2,2,2,2]) #26     #f([6,6,6,6]) #654  #f([3.872983346207417,3.872983346207417,3.872983346207417,3.872983346207417])  \n",
    "x0=[1,5,5,1]"
   ]
  },
  {
   "cell_type": "code",
   "execution_count": 9,
   "metadata": {},
   "outputs": [],
   "source": [
    "#Option CORRECT!\n",
    "cons = ({'type': 'ineq', 'fun': lambda x:  x[0]*x[1]*x[2]*x[3]-30.0},\n",
    "         {'type': 'eq', 'fun': lambda x: x[0]**2 + x[1]**2 +x[2]**2+x[3]**2-60})"
   ]
  },
  {
   "cell_type": "code",
   "execution_count": 10,
   "metadata": {},
   "outputs": [
    {
     "data": {
      "text/plain": [
       "     fun: 52.00000009701402\n",
       "     jac: array([28.,  4.,  5., 24.])\n",
       " message: 'Optimization terminated successfully.'\n",
       "    nfev: 30\n",
       "     nit: 5\n",
       "    njev: 5\n",
       "  status: 0\n",
       " success: True\n",
       "       x: array([2.        , 6.        , 4.00000002, 2.        ])"
      ]
     },
     "execution_count": 10,
     "metadata": {},
     "output_type": "execute_result"
    }
   ],
   "source": [
    "optimize.minimize(f, x0, method='SLSQP', bounds=bounds,constraints=cons)"
   ]
  },
  {
   "cell_type": "code",
   "execution_count": null,
   "metadata": {},
   "outputs": [],
   "source": [
    "# Это точное решение до 8-го знака. \n",
    "# Ф-ия на заданном интервале возрастает по всем аргументам. \n",
    "# Быстрее всего она растет по х1, х4. Значит для минимизации они должны быть равны 2. \n",
    "# Медленнее всего функция растет по х2, значит он масксимальный на сфере и в заданном интервале т.е. равен 6\n",
    "# при этом получается х3 на сфере равен 4.\n"
   ]
  },
  {
   "cell_type": "code",
   "execution_count": null,
   "metadata": {},
   "outputs": [],
   "source": []
  },
  {
   "cell_type": "code",
   "execution_count": 11,
   "metadata": {},
   "outputs": [],
   "source": [
    "#option 10 for COBYLA. 'Cobyla' dont support 'eq' constraints. \n",
    "#So I replaced it the original condition x1^2+x2^2+x3^2+x4^2=60 with two 'ineq' constraints and parameter epsilon\n",
    "#x1^2+x2^2+x3^2+x4^2-60-epsilon>0 and  60-x1^2-x2^2-x3^2-x4^2+epsilon>0\n",
    "epsilon=0.000000015\n",
    "cons = ({'type': 'ineq', 'fun': lambda x:  x[0]*x[1]*x[2]*x[3]-30.0},\n",
    "         {'type': 'ineq', 'fun': lambda x: x[0]**2 + x[1]**2 +x[2]**2+x[3]**2-60+epsilon},\n",
    "        {'type': 'ineq', 'fun': lambda x: epsilon+60-x[0]**2 - x[1]**2 -x[2]**2-x[3]**2},\n",
    "       {'type': 'ineq', 'fun': lambda x: x[0]-2},\n",
    "       {'type': 'ineq', 'fun': lambda x: x[1]-2},\n",
    "       {'type': 'ineq', 'fun': lambda x: x[2]-2},\n",
    "       {'type': 'ineq', 'fun': lambda x: x[3]-2},\n",
    "       {'type': 'ineq', 'fun': lambda x: 6-x[0]},\n",
    "       {'type': 'ineq', 'fun': lambda x: 6-x[1]},\n",
    "       {'type': 'ineq', 'fun': lambda x: 6-x[2]},\n",
    "       {'type': 'ineq', 'fun': lambda x: 6-x[3]})"
   ]
  },
  {
   "cell_type": "code",
   "execution_count": 12,
   "metadata": {},
   "outputs": [
    {
     "data": {
      "text/plain": [
       "     fun: 51.99999561379731\n",
       "   maxcv: 7.002923543628513e-06\n",
       " message: 'Optimization terminated successfully.'\n",
       "    nfev: 257\n",
       "  status: 1\n",
       " success: True\n",
       "       x: array([2.        , 6.        , 3.99999912, 2.        ])"
      ]
     },
     "execution_count": 12,
     "metadata": {},
     "output_type": "execute_result"
    }
   ],
   "source": [
    "optimize.minimize(f, x0, method='COBYLA', \\\n",
    "                      constraints=cons)#, bounds=bounds, )   print(4+4.9521735**2+5.24176284**2+4)"
   ]
  },
  {
   "cell_type": "code",
   "execution_count": null,
   "metadata": {},
   "outputs": [],
   "source": [
    "# Алгоритм отработал. Решение менее точное. Итераций больше. \n",
    "# Возможная причина ухудшения точности - искусственное введение epsilon"
   ]
  },
  {
   "cell_type": "code",
   "execution_count": null,
   "metadata": {},
   "outputs": [],
   "source": [
    "# Согласно документации scipy и найденным примерам \n",
    "# нелинейные ограничения поддерживает приведенные выше два метода и ‘trust-constr’\n",
    "# последний алгоритм реализовать пока не удалось, для него по-другому задаются условия. Ниже код с попыткой"
   ]
  },
  {
   "cell_type": "code",
   "execution_count": null,
   "metadata": {},
   "outputs": [],
   "source": [
    "#На этом РЕШЕНИЕ ЗАКАНЧИВАЕТСЯ. Самый точный алгоритм для этой задачи \"SLSQP\""
   ]
  },
  {
   "cell_type": "code",
   "execution_count": null,
   "metadata": {},
   "outputs": [],
   "source": []
  },
  {
   "cell_type": "code",
   "execution_count": null,
   "metadata": {},
   "outputs": [],
   "source": []
  },
  {
   "cell_type": "code",
   "execution_count": null,
   "metadata": {},
   "outputs": [],
   "source": [
    "# Неудачная попытка реализации ‘trust-constr’"
   ]
  },
  {
   "cell_type": "code",
   "execution_count": null,
   "metadata": {},
   "outputs": [],
   "source": [
    "from scipy.optimize import LinearConstraint\n",
    "linear_constraint = LinearConstraint(np.eye(4), [2, 2, 2, 2], [6, 6, 6, 6])\n"
   ]
  },
  {
   "cell_type": "code",
   "execution_count": null,
   "metadata": {},
   "outputs": [],
   "source": [
    "#NonlinearConstraint\n",
    "#Option I\n",
    "\n",
    "def cons_f(x):\n",
    "    return [x[0]**2 + x[1]**2 +x[2]**2+x[3]**2-60, 60-x[0]**2 - x[1]**2 -x[2]**2-x[3]**2, x[0]*x[1]*x[2]*[3]]\n",
    "def cons_J(x):\n",
    "    return [[2*x[0], 2*x[1], 2*x[2], 2*x[3]],    \\\n",
    "                [-2*x[0], -2*x[1], -2*x[2], -2*x[3]],   \\\n",
    "                [x[1]*x[2]*x[3], x[0]*x[2]*x[3], x[0]*x[1]*x[3], x[0]*x[1]*x[2]]]\n",
    "\n",
    "#option 1\n",
    "def cons_H(x, v):\n",
    "    return v[0]*np.array([[2, 2,2,2], [-2, -2,-2,-2], [0,0,0,0]]) + \\\n",
    "    v[1]*np.array([[2, 2,2,2], [-2, -2,-2,-2], [0,0,0,0]])+\\\n",
    "    v[2]*np.array([[2, 2,2,2], [-2, -2,-2,-2], [0,0,0,0]])\n",
    "\n",
    "#заменил условие x1^2+x2^2+x3^2+x4^2=60 на два x1^2+x2^2+x3^2+x4^2-60<epsilon -x1^2-x2^2-x3^2-x4^2+60>-epsilon \n",
    "epsilon=0.05\n",
    "\n",
    "\n",
    "from scipy.optimize import NonlinearConstraint\n",
    "min_nlc=[-np.inf, -np.inf, -np.inf]\n",
    "max_nlc=[epsilon, epsilon, 30]\n",
    "nonlinear_constraint = NonlinearConstraint(cons_f, min_nlc, max_nlc, jac=cons_J, hess=cons_H)\n",
    "\n",
    "\n",
    "#option 2\n",
    "from scipy.sparse import csc_matrix\n",
    "def cons_H_sparse(x, v):\n",
    "    return v[0]*csc_matrix([[2, 2,2,2], [-2, -2,-2,-2], [0,0,0,0]]) \\\n",
    "    + v[1]*csc_matrix([[2, 2,2,2], [-2, -2,-2,-2], [0,0,0,0]]) + \\\n",
    "    v[2]*[[2, 2,2,2], [-2, -2,-2,-2], [0,0,0,0]]\n",
    "nonlinear_constraint = NonlinearConstraint(cons_f, -np.inf, 30, jac=cons_J, hess=cons_H_sparse)"
   ]
  },
  {
   "cell_type": "code",
   "execution_count": null,
   "metadata": {},
   "outputs": [],
   "source": []
  },
  {
   "cell_type": "code",
   "execution_count": null,
   "metadata": {},
   "outputs": [],
   "source": [
    "from scipy.optimize import BFGS\n",
    "nonlinear_constraint = NonlinearConstraint(cons_f, -np.inf, 1, jac=cons_J, hess=BFGS())"
   ]
  },
  {
   "cell_type": "code",
   "execution_count": null,
   "metadata": {},
   "outputs": [],
   "source": [
    "nonlinear_constraint = NonlinearConstraint(cons_f, -np.inf, 1, jac=cons_J, hess='2-point')"
   ]
  },
  {
   "cell_type": "code",
   "execution_count": null,
   "metadata": {},
   "outputs": [],
   "source": []
  },
  {
   "cell_type": "code",
   "execution_count": null,
   "metadata": {},
   "outputs": [],
   "source": [
    "#min (x1x4(x1+x2+x3)+x3)\n",
    "def jacobian(x):\n",
    "    return np.array((2*x[0]*x[3]+x[1]*x[3]+x[3]*x[2],x[1]*x[3], x[1]*x[3]+1, x[0]*(x[0]+x[1]+x[2]))) "
   ]
  },
  {
   "cell_type": "code",
   "execution_count": null,
   "metadata": {},
   "outputs": [],
   "source": [
    "def f_hess(x):\n",
    "    H=np.matrix([[4*x[0]*x[3], x[3], x[3], 2*x[0]**2+x[1]+x[2]],\n",
    "                 [x[3],          0 ,   0,          x[0]],\n",
    "                 [x[3],          0 ,   0,          x[0]],\n",
    "                 [2*x[0]+x[1]+x[2], x[0], x[0], 0]])\n",
    "    return H"
   ]
  },
  {
   "cell_type": "code",
   "execution_count": null,
   "metadata": {},
   "outputs": [],
   "source": []
  },
  {
   "cell_type": "code",
   "execution_count": null,
   "metadata": {
    "scrolled": false
   },
   "outputs": [],
   "source": [
    "optimize.minimize(f, x0, method='trust-constr', jac=jacobian, hess=f_hess, \\\n",
    "                      constraints=cons, bounds=bounds ) #, \\\n",
    "                      #options={'verbose': 1})\n",
    "\n",
    "#constraints=[linear_constraint, nonlinear_constraint], )"
   ]
  },
  {
   "cell_type": "code",
   "execution_count": null,
   "metadata": {},
   "outputs": [],
   "source": []
  },
  {
   "cell_type": "code",
   "execution_count": null,
   "metadata": {},
   "outputs": [],
   "source": []
  },
  {
   "cell_type": "code",
   "execution_count": null,
   "metadata": {},
   "outputs": [],
   "source": []
  },
  {
   "cell_type": "markdown",
   "metadata": {},
   "source": [
    "‘trust-constr’ (somehow)\n",
    "\n",
    "Constraints definition (only for COBYLA and SLSQP)\n",
    "\n",
    "‘SLSQP’ (success)\n",
    "‘COBYLA’ (success low accuracy)\n",
    "\n",
    "\n",
    "Bounds for variables (only for L-BFGS-B, TNC and SLSQP).\n",
    "\n",
    "‘L-BFGS-B’\n",
    "‘TNC’ \n",
    "\n",
    "optimize.minimize(f, x0, method='TNC', \\\n",
    "                      bounds=bounds)\n",
    "\n",
    "\n",
    "‘BFGS’\n",
    "\n",
    "\n",
    "‘Powell’\n",
    "‘CG’\n",
    "‘Newton-CG’\n",
    "‘dogleg’\n",
    "‘trust-ncg’\n",
    "‘trust-exact’ \n",
    "‘trust-krylov’\n",
    "\n",
    "Dont support constraints\n",
    "‘Nelder-Mead’ \n"
   ]
  }
 ],
 "metadata": {
  "kernelspec": {
   "display_name": "Python 3",
   "language": "python",
   "name": "python3"
  },
  "language_info": {
   "codemirror_mode": {
    "name": "ipython",
    "version": 3
   },
   "file_extension": ".py",
   "mimetype": "text/x-python",
   "name": "python",
   "nbconvert_exporter": "python",
   "pygments_lexer": "ipython3",
   "version": "3.6.5"
  }
 },
 "nbformat": 4,
 "nbformat_minor": 2
}
