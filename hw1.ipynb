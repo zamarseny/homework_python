{
 "cells": [
  {
   "cell_type": "code",
   "execution_count": 4,
   "metadata": {},
   "outputs": [
    {
     "data": {
      "text/plain": [
       "True"
      ]
     },
     "execution_count": 4,
     "metadata": {},
     "output_type": "execute_result"
    }
   ],
   "source": [
    "# Даны 2 строки long_phrase и short_phrase. Напишите код, который проверяет действительно ли длинная фраза long_phrase длиннее короткой short_phrase. И выводит True или False в зависимости от результата сравнения.\n",
    "\n",
    "long_phrase = 'Насколько проще было бы писать программы, если бы не заказчики'\n",
    "\n",
    "short_phrase = '640Кб должно хватить для любых задач. Билл Гейтс (по легенде)'\n",
    "\n",
    "#print('long', len(long_phrase), 'short',len(short_phrase))\n",
    "len(long_phrase)>len(short_phrase)"
   ]
  },
  {
   "cell_type": "code",
   "execution_count": 60,
   "metadata": {},
   "outputs": [
    {
     "name": "stdout",
     "output_type": "stream",
     "text": [
      "Буква 'а' встретилась ( 7  раз/раза), чаще буквы 'и' ( 4  раз/раза)\n"
     ]
    }
   ],
   "source": [
    "#2. Дана строка text. Определите какая из двух букв встречается в нем чаще - 'а' или 'и'.\n",
    "#P. S. Вам может помочь метод replace.\n",
    "\n",
    "text = 'Если программист в 9-00 утра на работе, значит, он там и ночевал'\n",
    "cou_a=0\n",
    "cou_i=0\n",
    "for i in range(0,len(text)):\n",
    "    #print(i)\n",
    "    #print(text[i:i+1])\n",
    "    if (text[i:i+1]==\"а\"):\n",
    "        cou_a+=1\n",
    "    elif text[i:i+1]=='и':\n",
    "         cou_i=cou_i+1\n",
    "if cou_a>cou_i:\n",
    "    print(\"Буква 'а' встретилась (\", cou_a, \" раз/раза), чаще буквы 'и' (\", cou_i, \" раз/раза)\")\n",
    "elif cou_a<cou_i:\n",
    "    print(\"Буква 'а' встретилась \", cou_a, \", реже буквы 'и' \", cou_i)\n",
    "\n",
    "\n"
   ]
  },
  {
   "cell_type": "code",
   "execution_count": 95,
   "metadata": {},
   "outputs": [
    {
     "data": {
      "text/plain": [
       "'Объем файла равен  (213.68)Mb'"
      ]
     },
     "execution_count": 95,
     "metadata": {},
     "output_type": "execute_result"
    }
   ],
   "source": [
    "#Дано значение объема файла в байтах. Напишите перевод этого значения в мегабайты в формате:\n",
    "\n",
    "#'Объем файла равен 213.68Mb'\n",
    "file_size=213.68*1024\n",
    "result = 'Объем файла равен  ({:.2f})Mb'.format(file_size/1024)\n",
    "result"
   ]
  },
  {
   "cell_type": "code",
   "execution_count": 97,
   "metadata": {},
   "outputs": [
    {
     "data": {
      "text/plain": [
       "0.49999999999999994"
      ]
     },
     "execution_count": 97,
     "metadata": {},
     "output_type": "execute_result"
    }
   ],
   "source": [
    "#Выведите на экран значение синуса 30 градусов с помощью метода math.sin.\n",
    "import math\n",
    "math.sin(math.pi/6)"
   ]
  },
  {
   "cell_type": "code",
   "execution_count": 104,
   "metadata": {},
   "outputs": [
    {
     "name": "stdout",
     "output_type": "stream",
     "text": [
      "(0.3)\n"
     ]
    }
   ],
   "source": [
    "\"\"\"\"В прошлом задании у вас скорее всего не получилось точного значения 0.5 \n",
    "#из-за конечной точности вычисления синуса. \n",
    "#Но почему некоторые простые операции также могут давать неточный результат? \n",
    "Попробуйте вывести на экран результат операции 0.1 + 0.2\"\"\"\n",
    "numb=0.1+0.2\n",
    "print('({:.2})'.format(numb))"
   ]
  },
  {
   "cell_type": "code",
   "execution_count": 116,
   "metadata": {},
   "outputs": [
    {
     "name": "stdout",
     "output_type": "stream",
     "text": [
      "a= 215 , b= 3.141592653589793 , id_a= 93857412506848 , id_b= 139964411573208\n",
      "a= 3.1415926535897825 , b= 215.0 , id_a= 139964237613528 , id_b= 139963966394824\n"
     ]
    }
   ],
   "source": [
    "#В переменных a и b записаны 2 различных числа. \n",
    "#Вам необходимо написать код, который меняет значения a и b местами без использования третьей переменной.\n",
    "a=215\n",
    "b=math.pi\n",
    "print('a=',a,', b=',b,', id_a=',id(a),', id_b=', id(b))\n",
    "a=a+b\n",
    "#print('a=',a,', b=',b,', id_a=',id(a),', id_b=', id(b))\n",
    "b=a-b\n",
    "#print('a=',a,', b=',b,', id_a=',id(a),', id_b=', id(b))\n",
    "a=a-b\n",
    "print('a=',a,', b=',b,', id_a=',id(a),', id_b=', id(b))\n"
   ]
  },
  {
   "cell_type": "code",
   "execution_count": 132,
   "metadata": {},
   "outputs": [
    {
     "name": "stdout",
     "output_type": "stream",
     "text": [
      "19\n"
     ]
    }
   ],
   "source": [
    "\"\"\"Дано число в двоичной системе счисления: num=10011. \n",
    "Напишите алгоритм перевода этого числа в привычную нам десятичную систему счисления.\n",
    "Возможно, вам понадобится цикл прохождения всех целых чисел от 0 до m:\n",
    "for n in range(m)\"\"\"\n",
    "num=str(10011)\n",
    "lenght_num=len(num)\n",
    "num_decimal=0\n",
    "for n in range(lenght_num):\n",
    "    num_decimal+=int(num[lenght_num-n-1:lenght_num-n])*2**n\n",
    "    #print(num[lenght_num-n-1:lenght_num-n], n, num_decimal)\n",
    "    \n",
    "    #a(n)=num[n:n+1]\n",
    "    #10011=1*2**0+1*2**1+0*2**2+0*2**3+1*2**4=1+2+0+0+16=19\n",
    "print(num_decimal)"
   ]
  },
  {
   "cell_type": "code",
   "execution_count": null,
   "metadata": {},
   "outputs": [],
   "source": []
  }
 ],
 "metadata": {
  "kernelspec": {
   "display_name": "Python 3",
   "language": "python",
   "name": "python3"
  },
  "language_info": {
   "codemirror_mode": {
    "name": "ipython",
    "version": 3
   },
   "file_extension": ".py",
   "mimetype": "text/x-python",
   "name": "python",
   "nbconvert_exporter": "python",
   "pygments_lexer": "ipython3",
   "version": "3.6.5"
  }
 },
 "nbformat": 4,
 "nbformat_minor": 2
}
