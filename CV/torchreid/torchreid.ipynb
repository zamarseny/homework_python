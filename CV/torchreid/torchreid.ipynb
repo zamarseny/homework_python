{
 "cells": [
  {
   "cell_type": "code",
   "execution_count": 1,
   "metadata": {},
   "outputs": [],
   "source": [
    "import torchreid"
   ]
  },
  {
   "cell_type": "code",
   "execution_count": 2,
   "metadata": {},
   "outputs": [
    {
     "name": "stdout",
     "output_type": "stream",
     "text": [
      "=> Loading train (source) dataset\n",
      "=> Loaded Market1501\n",
      "  ----------------------------------------\n",
      "  subset   | # ids | # images | # cameras\n",
      "  ----------------------------------------\n",
      "  train    |   751 |    12936 |         6\n",
      "  query    |   750 |     3368 |         6\n",
      "  gallery  |   751 |    15913 |         6\n",
      "  ----------------------------------------\n",
      "=> Loading test (target) dataset\n",
      "=> Loaded Market1501\n",
      "  ----------------------------------------\n",
      "  subset   | # ids | # images | # cameras\n",
      "  ----------------------------------------\n",
      "  train    |   751 |    12936 |         6\n",
      "  query    |   750 |     3368 |         6\n",
      "  gallery  |   751 |    15913 |         6\n",
      "  ----------------------------------------\n",
      "\n",
      "\n",
      "  **************** Summary ****************\n",
      "  train            : ['market1501']\n",
      "  # train datasets : 1\n",
      "  # train ids      : 751\n",
      "  # train images   : 12936\n",
      "  # train cameras  : 6\n",
      "  test             : ['market1501']\n",
      "  *****************************************\n",
      "\n",
      "\n"
     ]
    }
   ],
   "source": [
    "datamanager = torchreid.data.ImageDataManager(\n",
    "    root='reid-data',\n",
    "    sources='market1501',\n",
    "    height=256,\n",
    "    width=128,\n",
    "    batch_size=32,\n",
    "    market1501_500k=False\n",
    ")"
   ]
  },
  {
   "cell_type": "code",
   "execution_count": 3,
   "metadata": {},
   "outputs": [],
   "source": [
    "model = torchreid.models.build_model(\n",
    "    name='resnet50',\n",
    "    num_classes=datamanager.num_train_pids,\n",
    "    loss='softmax',\n",
    "    pretrained=True\n",
    ")\n",
    "\n",
    "model = model.cuda()\n",
    "\n",
    "optimizer = torchreid.optim.build_optimizer(\n",
    "    model,\n",
    "    optim='adam',\n",
    "    lr=0.0003\n",
    ")\n",
    "\n",
    "scheduler = torchreid.optim.build_lr_scheduler(\n",
    "    optimizer,\n",
    "    lr_scheduler='single_step',\n",
    "    stepsize=20\n",
    ")"
   ]
  },
  {
   "cell_type": "code",
   "execution_count": 4,
   "metadata": {},
   "outputs": [],
   "source": [
    "engine = torchreid.engine.ImageSoftmaxEngine(\n",
    "    datamanager,\n",
    "    model,\n",
    "    optimizer=optimizer,\n",
    "    scheduler=scheduler,\n",
    "    label_smooth=True\n",
    ")"
   ]
  },
  {
   "cell_type": "code",
   "execution_count": 5,
   "metadata": {
    "scrolled": true
   },
   "outputs": [
    {
     "name": "stdout",
     "output_type": "stream",
     "text": [
      "=> Start training\n",
      "Epoch: [1/6][10/404]\tTime 0.468 (0.581)\tData 0.000 (0.099)\tLoss 7.1065 (6.8154)\tAcc 3.12 (0.94)\tLr 0.000300\tEta 0:23:23\n",
      "Epoch: [1/6][20/404]\tTime 0.466 (0.524)\tData 0.000 (0.049)\tLoss 7.4059 (6.9406)\tAcc 0.00 (1.09)\tLr 0.000300\tEta 0:20:59\n",
      "Epoch: [1/6][30/404]\tTime 0.466 (0.505)\tData 0.000 (0.033)\tLoss 6.5066 (6.8652)\tAcc 0.00 (0.73)\tLr 0.000300\tEta 0:20:08\n",
      "Epoch: [1/6][40/404]\tTime 0.468 (0.495)\tData 0.000 (0.025)\tLoss 6.6420 (6.8034)\tAcc 0.00 (0.62)\tLr 0.000300\tEta 0:19:40\n",
      "Epoch: [1/6][50/404]\tTime 0.469 (0.490)\tData 0.000 (0.020)\tLoss 6.7186 (6.7671)\tAcc 0.00 (0.62)\tLr 0.000300\tEta 0:19:22\n",
      "Epoch: [1/6][60/404]\tTime 0.468 (0.486)\tData 0.000 (0.016)\tLoss 6.5281 (6.7383)\tAcc 3.12 (0.57)\tLr 0.000300\tEta 0:19:08\n",
      "Epoch: [1/6][70/404]\tTime 0.469 (0.483)\tData 0.000 (0.014)\tLoss 6.5725 (6.7144)\tAcc 0.00 (0.67)\tLr 0.000300\tEta 0:18:57\n",
      "Epoch: [1/6][80/404]\tTime 0.466 (0.481)\tData 0.000 (0.012)\tLoss 6.6661 (6.6980)\tAcc 0.00 (0.70)\tLr 0.000300\tEta 0:18:48\n",
      "Epoch: [1/6][90/404]\tTime 0.469 (0.480)\tData 0.000 (0.011)\tLoss 6.6474 (6.6870)\tAcc 0.00 (0.69)\tLr 0.000300\tEta 0:18:39\n",
      "Epoch: [1/6][100/404]\tTime 0.470 (0.479)\tData 0.000 (0.010)\tLoss 6.5157 (6.6698)\tAcc 6.25 (0.78)\tLr 0.000300\tEta 0:18:32\n",
      "Epoch: [1/6][110/404]\tTime 0.467 (0.479)\tData 0.000 (0.009)\tLoss 6.5674 (6.6586)\tAcc 0.00 (0.82)\tLr 0.000300\tEta 0:18:27\n",
      "Epoch: [1/6][120/404]\tTime 0.466 (0.478)\tData 0.000 (0.008)\tLoss 6.6380 (6.6434)\tAcc 0.00 (0.91)\tLr 0.000300\tEta 0:18:20\n",
      "Epoch: [1/6][130/404]\tTime 0.467 (0.477)\tData 0.000 (0.008)\tLoss 6.4587 (6.6334)\tAcc 6.25 (0.96)\tLr 0.000300\tEta 0:18:14\n",
      "Epoch: [1/6][140/404]\tTime 0.467 (0.477)\tData 0.000 (0.007)\tLoss 6.6455 (6.6211)\tAcc 0.00 (0.94)\tLr 0.000300\tEta 0:18:08\n",
      "Epoch: [1/6][150/404]\tTime 0.468 (0.476)\tData 0.000 (0.007)\tLoss 6.3452 (6.6062)\tAcc 3.12 (0.98)\tLr 0.000300\tEta 0:18:02\n",
      "Epoch: [1/6][160/404]\tTime 0.468 (0.476)\tData 0.000 (0.006)\tLoss 6.3289 (6.5968)\tAcc 0.00 (0.98)\tLr 0.000300\tEta 0:17:57\n",
      "Epoch: [1/6][170/404]\tTime 0.468 (0.475)\tData 0.000 (0.006)\tLoss 6.3213 (6.5831)\tAcc 3.12 (0.96)\tLr 0.000300\tEta 0:17:51\n",
      "Epoch: [1/6][180/404]\tTime 0.468 (0.475)\tData 0.000 (0.006)\tLoss 6.2684 (6.5661)\tAcc 0.00 (1.02)\tLr 0.000300\tEta 0:17:46\n",
      "Epoch: [1/6][190/404]\tTime 0.468 (0.475)\tData 0.000 (0.005)\tLoss 6.0760 (6.5496)\tAcc 3.12 (1.04)\tLr 0.000300\tEta 0:17:41\n",
      "Epoch: [1/6][200/404]\tTime 0.469 (0.475)\tData 0.000 (0.005)\tLoss 6.1299 (6.5321)\tAcc 3.12 (1.08)\tLr 0.000300\tEta 0:17:35\n",
      "Epoch: [1/6][210/404]\tTime 0.468 (0.474)\tData 0.000 (0.005)\tLoss 6.0137 (6.5152)\tAcc 0.00 (1.13)\tLr 0.000300\tEta 0:17:30\n",
      "Epoch: [1/6][220/404]\tTime 0.467 (0.474)\tData 0.000 (0.005)\tLoss 6.1338 (6.4969)\tAcc 0.00 (1.15)\tLr 0.000300\tEta 0:17:24\n",
      "Epoch: [1/6][230/404]\tTime 0.468 (0.474)\tData 0.000 (0.004)\tLoss 6.0480 (6.4762)\tAcc 3.12 (1.24)\tLr 0.000300\tEta 0:17:20\n",
      "Epoch: [1/6][240/404]\tTime 0.470 (0.474)\tData 0.000 (0.004)\tLoss 5.8619 (6.4573)\tAcc 0.00 (1.30)\tLr 0.000300\tEta 0:17:15\n",
      "Epoch: [1/6][250/404]\tTime 0.469 (0.474)\tData 0.000 (0.004)\tLoss 5.4910 (6.4349)\tAcc 9.38 (1.41)\tLr 0.000300\tEta 0:17:10\n",
      "Epoch: [1/6][260/404]\tTime 0.468 (0.474)\tData 0.000 (0.004)\tLoss 6.0099 (6.4188)\tAcc 0.00 (1.49)\tLr 0.000300\tEta 0:17:05\n",
      "Epoch: [1/6][270/404]\tTime 0.469 (0.473)\tData 0.000 (0.004)\tLoss 5.7399 (6.3956)\tAcc 3.12 (1.59)\tLr 0.000300\tEta 0:16:59\n",
      "Epoch: [1/6][280/404]\tTime 0.498 (0.474)\tData 0.000 (0.004)\tLoss 5.7251 (6.3745)\tAcc 6.25 (1.63)\tLr 0.000300\tEta 0:16:55\n",
      "Epoch: [1/6][290/404]\tTime 0.479 (0.474)\tData 0.000 (0.003)\tLoss 5.4671 (6.3493)\tAcc 9.38 (1.77)\tLr 0.000300\tEta 0:16:51\n",
      "Epoch: [1/6][300/404]\tTime 0.471 (0.474)\tData 0.000 (0.003)\tLoss 5.6231 (6.3261)\tAcc 3.12 (1.85)\tLr 0.000300\tEta 0:16:46\n",
      "Epoch: [1/6][310/404]\tTime 0.472 (0.474)\tData 0.000 (0.003)\tLoss 5.4136 (6.3058)\tAcc 3.12 (1.97)\tLr 0.000300\tEta 0:16:41\n",
      "Epoch: [1/6][320/404]\tTime 0.479 (0.474)\tData 0.000 (0.003)\tLoss 5.5887 (6.2836)\tAcc 9.38 (2.09)\tLr 0.000300\tEta 0:16:37\n",
      "Epoch: [1/6][330/404]\tTime 0.470 (0.474)\tData 0.000 (0.003)\tLoss 5.3067 (6.2592)\tAcc 9.38 (2.14)\tLr 0.000300\tEta 0:16:33\n",
      "Epoch: [1/6][340/404]\tTime 0.480 (0.475)\tData 0.000 (0.003)\tLoss 5.2426 (6.2375)\tAcc 3.12 (2.24)\tLr 0.000300\tEta 0:16:29\n",
      "Epoch: [1/6][350/404]\tTime 0.505 (0.475)\tData 0.000 (0.003)\tLoss 5.3367 (6.2181)\tAcc 9.38 (2.26)\tLr 0.000300\tEta 0:16:25\n",
      "Epoch: [1/6][360/404]\tTime 0.467 (0.475)\tData 0.000 (0.003)\tLoss 5.2331 (6.1973)\tAcc 12.50 (2.40)\tLr 0.000300\tEta 0:16:20\n",
      "Epoch: [1/6][370/404]\tTime 0.470 (0.475)\tData 0.000 (0.003)\tLoss 5.2453 (6.1718)\tAcc 9.38 (2.54)\tLr 0.000300\tEta 0:16:16\n",
      "Epoch: [1/6][380/404]\tTime 0.467 (0.475)\tData 0.000 (0.003)\tLoss 5.2734 (6.1464)\tAcc 3.12 (2.66)\tLr 0.000300\tEta 0:16:11\n",
      "Epoch: [1/6][390/404]\tTime 0.477 (0.475)\tData 0.000 (0.003)\tLoss 4.8511 (6.1236)\tAcc 12.50 (2.80)\tLr 0.000300\tEta 0:16:05\n",
      "Epoch: [1/6][400/404]\tTime 0.469 (0.475)\tData 0.000 (0.003)\tLoss 5.0268 (6.0980)\tAcc 12.50 (2.98)\tLr 0.000300\tEta 0:16:00\n",
      "Epoch: [2/6][10/404]\tTime 0.491 (0.493)\tData 0.000 (0.017)\tLoss 4.8541 (4.8370)\tAcc 15.62 (13.44)\tLr 0.000300\tEta 0:16:31\n",
      "Epoch: [2/6][20/404]\tTime 0.487 (0.487)\tData 0.000 (0.008)\tLoss 5.2511 (4.8299)\tAcc 3.12 (12.34)\tLr 0.000300\tEta 0:16:13\n",
      "Epoch: [2/6][30/404]\tTime 0.494 (0.484)\tData 0.000 (0.006)\tLoss 4.3489 (4.8055)\tAcc 21.88 (13.12)\tLr 0.000300\tEta 0:16:02\n",
      "Epoch: [2/6][40/404]\tTime 0.469 (0.481)\tData 0.000 (0.004)\tLoss 4.8883 (4.7730)\tAcc 3.12 (13.52)\tLr 0.000300\tEta 0:15:51\n",
      "Epoch: [2/6][50/404]\tTime 0.470 (0.479)\tData 0.000 (0.003)\tLoss 4.7305 (4.7848)\tAcc 9.38 (13.62)\tLr 0.000300\tEta 0:15:43\n",
      "Epoch: [2/6][60/404]\tTime 0.500 (0.480)\tData 0.000 (0.003)\tLoss 4.6637 (4.7710)\tAcc 15.62 (13.75)\tLr 0.000300\tEta 0:15:40\n",
      "Epoch: [2/6][70/404]\tTime 0.482 (0.479)\tData 0.000 (0.002)\tLoss 4.7260 (4.7461)\tAcc 18.75 (14.02)\tLr 0.000300\tEta 0:15:33\n",
      "Epoch: [2/6][80/404]\tTime 0.495 (0.479)\tData 0.000 (0.002)\tLoss 4.2606 (4.7286)\tAcc 18.75 (14.57)\tLr 0.000300\tEta 0:15:29\n",
      "Epoch: [2/6][90/404]\tTime 0.467 (0.479)\tData 0.000 (0.002)\tLoss 4.9077 (4.7028)\tAcc 12.50 (14.76)\tLr 0.000300\tEta 0:15:24\n",
      "Epoch: [2/6][100/404]\tTime 0.469 (0.479)\tData 0.000 (0.002)\tLoss 5.3266 (4.6905)\tAcc 9.38 (15.28)\tLr 0.000300\tEta 0:15:19\n",
      "Epoch: [2/6][110/404]\tTime 0.502 (0.480)\tData 0.000 (0.002)\tLoss 4.1658 (4.6610)\tAcc 28.12 (15.97)\tLr 0.000300\tEta 0:15:16\n",
      "Epoch: [2/6][120/404]\tTime 0.469 (0.479)\tData 0.000 (0.001)\tLoss 4.4534 (4.6431)\tAcc 15.62 (15.99)\tLr 0.000300\tEta 0:15:10\n",
      "Epoch: [2/6][130/404]\tTime 0.468 (0.478)\tData 0.000 (0.001)\tLoss 4.0751 (4.6195)\tAcc 28.12 (16.56)\tLr 0.000300\tEta 0:15:04\n",
      "Epoch: [2/6][140/404]\tTime 0.474 (0.478)\tData 0.000 (0.001)\tLoss 4.4612 (4.6030)\tAcc 12.50 (16.88)\tLr 0.000300\tEta 0:14:59\n",
      "Epoch: [2/6][150/404]\tTime 0.469 (0.478)\tData 0.000 (0.001)\tLoss 4.2204 (4.5750)\tAcc 28.12 (17.44)\tLr 0.000300\tEta 0:14:53\n",
      "Epoch: [2/6][160/404]\tTime 0.471 (0.478)\tData 0.000 (0.001)\tLoss 3.8048 (4.5591)\tAcc 31.25 (17.56)\tLr 0.000300\tEta 0:14:48\n",
      "Epoch: [2/6][170/404]\tTime 0.467 (0.477)\tData 0.000 (0.001)\tLoss 4.1029 (4.5361)\tAcc 37.50 (18.14)\tLr 0.000300\tEta 0:14:42\n",
      "Epoch: [2/6][180/404]\tTime 0.467 (0.477)\tData 0.000 (0.001)\tLoss 4.4061 (4.5100)\tAcc 25.00 (18.59)\tLr 0.000300\tEta 0:14:37\n",
      "Epoch: [2/6][190/404]\tTime 0.467 (0.476)\tData 0.000 (0.001)\tLoss 3.8177 (4.4793)\tAcc 28.12 (19.24)\tLr 0.000300\tEta 0:14:31\n",
      "Epoch: [2/6][200/404]\tTime 0.473 (0.476)\tData 0.000 (0.001)\tLoss 3.6922 (4.4517)\tAcc 34.38 (19.88)\tLr 0.000300\tEta 0:14:26\n",
      "Epoch: [2/6][210/404]\tTime 0.470 (0.476)\tData 0.000 (0.001)\tLoss 3.6829 (4.4349)\tAcc 34.38 (20.15)\tLr 0.000300\tEta 0:14:21\n",
      "Epoch: [2/6][220/404]\tTime 0.471 (0.476)\tData 0.000 (0.001)\tLoss 4.0596 (4.4137)\tAcc 25.00 (20.64)\tLr 0.000300\tEta 0:14:16\n",
      "Epoch: [2/6][230/404]\tTime 0.468 (0.476)\tData 0.000 (0.001)\tLoss 3.8282 (4.3849)\tAcc 37.50 (21.26)\tLr 0.000300\tEta 0:14:12\n",
      "Epoch: [2/6][240/404]\tTime 0.472 (0.476)\tData 0.000 (0.001)\tLoss 3.9558 (4.3647)\tAcc 28.12 (21.58)\tLr 0.000300\tEta 0:14:07\n",
      "Epoch: [2/6][250/404]\tTime 0.491 (0.476)\tData 0.000 (0.001)\tLoss 3.2101 (4.3365)\tAcc 43.75 (22.10)\tLr 0.000300\tEta 0:14:03\n",
      "Epoch: [2/6][260/404]\tTime 0.473 (0.476)\tData 0.000 (0.001)\tLoss 3.6519 (4.3109)\tAcc 31.25 (22.63)\tLr 0.000300\tEta 0:13:58\n",
      "Epoch: [2/6][270/404]\tTime 0.469 (0.476)\tData 0.000 (0.001)\tLoss 3.7540 (4.2891)\tAcc 31.25 (23.02)\tLr 0.000300\tEta 0:13:53\n",
      "Epoch: [2/6][280/404]\tTime 0.468 (0.477)\tData 0.000 (0.001)\tLoss 3.7471 (4.2679)\tAcc 31.25 (23.40)\tLr 0.000300\tEta 0:13:49\n"
     ]
    },
    {
     "name": "stdout",
     "output_type": "stream",
     "text": [
      "Epoch: [2/6][290/404]\tTime 0.473 (0.476)\tData 0.000 (0.001)\tLoss 3.5186 (4.2417)\tAcc 40.62 (23.87)\tLr 0.000300\tEta 0:13:44\n",
      "Epoch: [2/6][300/404]\tTime 0.475 (0.477)\tData 0.000 (0.001)\tLoss 3.3667 (4.2221)\tAcc 50.00 (24.19)\tLr 0.000300\tEta 0:13:40\n",
      "Epoch: [2/6][310/404]\tTime 0.469 (0.477)\tData 0.000 (0.001)\tLoss 3.4481 (4.1974)\tAcc 25.00 (24.68)\tLr 0.000300\tEta 0:13:35\n",
      "Epoch: [2/6][320/404]\tTime 0.470 (0.477)\tData 0.000 (0.001)\tLoss 3.6415 (4.1736)\tAcc 25.00 (25.12)\tLr 0.000300\tEta 0:13:30\n",
      "Epoch: [2/6][330/404]\tTime 0.481 (0.477)\tData 0.000 (0.001)\tLoss 3.7485 (4.1504)\tAcc 43.75 (25.69)\tLr 0.000300\tEta 0:13:25\n",
      "Epoch: [2/6][340/404]\tTime 0.484 (0.477)\tData 0.000 (0.001)\tLoss 3.4932 (4.1253)\tAcc 31.25 (26.24)\tLr 0.000300\tEta 0:13:20\n",
      "Epoch: [2/6][350/404]\tTime 0.482 (0.477)\tData 0.000 (0.001)\tLoss 3.3018 (4.1030)\tAcc 40.62 (26.61)\tLr 0.000300\tEta 0:13:15\n",
      "Epoch: [2/6][360/404]\tTime 0.471 (0.476)\tData 0.000 (0.001)\tLoss 3.2392 (4.0795)\tAcc 40.62 (27.09)\tLr 0.000300\tEta 0:13:10\n",
      "Epoch: [2/6][370/404]\tTime 0.469 (0.477)\tData 0.000 (0.001)\tLoss 3.2783 (4.0570)\tAcc 43.75 (27.60)\tLr 0.000300\tEta 0:13:06\n",
      "Epoch: [2/6][380/404]\tTime 0.469 (0.476)\tData 0.000 (0.001)\tLoss 3.2298 (4.0378)\tAcc 46.88 (27.98)\tLr 0.000300\tEta 0:13:01\n",
      "Epoch: [2/6][390/404]\tTime 0.468 (0.476)\tData 0.000 (0.001)\tLoss 3.0502 (4.0165)\tAcc 43.75 (28.39)\tLr 0.000300\tEta 0:12:56\n",
      "Epoch: [2/6][400/404]\tTime 0.486 (0.476)\tData 0.000 (0.000)\tLoss 2.6675 (3.9933)\tAcc 62.50 (28.91)\tLr 0.000300\tEta 0:12:51\n",
      "Epoch: [3/6][10/404]\tTime 0.473 (0.495)\tData 0.000 (0.019)\tLoss 3.1176 (3.0515)\tAcc 53.12 (51.25)\tLr 0.000300\tEta 0:13:14\n",
      "Epoch: [3/6][20/404]\tTime 0.471 (0.484)\tData 0.000 (0.009)\tLoss 2.7699 (2.9561)\tAcc 59.38 (53.75)\tLr 0.000300\tEta 0:12:51\n",
      "Epoch: [3/6][30/404]\tTime 0.470 (0.479)\tData 0.000 (0.006)\tLoss 2.8308 (2.9284)\tAcc 59.38 (53.75)\tLr 0.000300\tEta 0:12:40\n",
      "Epoch: [3/6][40/404]\tTime 0.469 (0.477)\tData 0.000 (0.005)\tLoss 2.6805 (2.9044)\tAcc 62.50 (54.84)\tLr 0.000300\tEta 0:12:31\n",
      "Epoch: [3/6][50/404]\tTime 0.473 (0.476)\tData 0.000 (0.004)\tLoss 2.7597 (2.9098)\tAcc 50.00 (53.81)\tLr 0.000300\tEta 0:12:24\n",
      "Epoch: [3/6][60/404]\tTime 0.476 (0.475)\tData 0.000 (0.003)\tLoss 2.7318 (2.8744)\tAcc 65.62 (54.53)\tLr 0.000300\tEta 0:12:18\n",
      "Epoch: [3/6][70/404]\tTime 0.492 (0.476)\tData 0.000 (0.003)\tLoss 2.7423 (2.8750)\tAcc 59.38 (55.22)\tLr 0.000300\tEta 0:12:16\n",
      "Epoch: [3/6][80/404]\tTime 0.496 (0.479)\tData 0.000 (0.002)\tLoss 2.3883 (2.8647)\tAcc 71.88 (55.04)\tLr 0.000300\tEta 0:12:16\n",
      "Epoch: [3/6][90/404]\tTime 0.500 (0.481)\tData 0.000 (0.002)\tLoss 2.8718 (2.8638)\tAcc 53.12 (55.14)\tLr 0.000300\tEta 0:12:13\n",
      "Epoch: [3/6][100/404]\tTime 0.471 (0.481)\tData 0.000 (0.002)\tLoss 2.5312 (2.8548)\tAcc 65.62 (55.44)\tLr 0.000300\tEta 0:12:09\n",
      "Epoch: [3/6][110/404]\tTime 0.477 (0.481)\tData 0.000 (0.002)\tLoss 2.6029 (2.8509)\tAcc 65.62 (55.31)\tLr 0.000300\tEta 0:12:04\n",
      "Epoch: [3/6][120/404]\tTime 0.472 (0.480)\tData 0.000 (0.002)\tLoss 2.6460 (2.8384)\tAcc 56.25 (55.68)\tLr 0.000300\tEta 0:11:58\n",
      "Epoch: [3/6][130/404]\tTime 0.499 (0.481)\tData 0.000 (0.002)\tLoss 2.9645 (2.8351)\tAcc 62.50 (55.72)\tLr 0.000300\tEta 0:11:54\n",
      "Epoch: [3/6][140/404]\tTime 0.470 (0.481)\tData 0.000 (0.001)\tLoss 2.5785 (2.8227)\tAcc 68.75 (56.12)\tLr 0.000300\tEta 0:11:49\n",
      "Epoch: [3/6][150/404]\tTime 0.469 (0.480)\tData 0.000 (0.001)\tLoss 3.0552 (2.8154)\tAcc 46.88 (56.25)\tLr 0.000300\tEta 0:11:43\n",
      "Epoch: [3/6][160/404]\tTime 0.483 (0.480)\tData 0.000 (0.001)\tLoss 2.7154 (2.8098)\tAcc 53.12 (56.48)\tLr 0.000300\tEta 0:11:39\n",
      "Epoch: [3/6][170/404]\tTime 0.470 (0.480)\tData 0.000 (0.001)\tLoss 2.4267 (2.8027)\tAcc 75.00 (56.82)\tLr 0.000300\tEta 0:11:34\n",
      "Epoch: [3/6][180/404]\tTime 0.472 (0.479)\tData 0.000 (0.001)\tLoss 2.5698 (2.7927)\tAcc 75.00 (57.05)\tLr 0.000300\tEta 0:11:28\n",
      "Epoch: [3/6][190/404]\tTime 0.469 (0.479)\tData 0.000 (0.001)\tLoss 2.9083 (2.7885)\tAcc 53.12 (57.11)\tLr 0.000300\tEta 0:11:23\n",
      "Epoch: [3/6][200/404]\tTime 0.489 (0.479)\tData 0.000 (0.001)\tLoss 2.3918 (2.7805)\tAcc 62.50 (57.25)\tLr 0.000300\tEta 0:11:18\n",
      "Epoch: [3/6][210/404]\tTime 0.471 (0.479)\tData 0.000 (0.001)\tLoss 2.4833 (2.7751)\tAcc 59.38 (57.34)\tLr 0.000300\tEta 0:11:13\n",
      "Epoch: [3/6][220/404]\tTime 0.470 (0.479)\tData 0.000 (0.001)\tLoss 2.5147 (2.7653)\tAcc 71.88 (57.59)\tLr 0.000300\tEta 0:11:08\n",
      "Epoch: [3/6][230/404]\tTime 0.471 (0.478)\tData 0.000 (0.001)\tLoss 3.0251 (2.7619)\tAcc 56.25 (57.54)\tLr 0.000300\tEta 0:11:03\n",
      "Epoch: [3/6][240/404]\tTime 0.500 (0.478)\tData 0.000 (0.001)\tLoss 2.2018 (2.7562)\tAcc 75.00 (57.70)\tLr 0.000300\tEta 0:10:58\n",
      "Epoch: [3/6][250/404]\tTime 0.470 (0.478)\tData 0.000 (0.001)\tLoss 2.7240 (2.7483)\tAcc 59.38 (57.94)\tLr 0.000300\tEta 0:10:53\n",
      "Epoch: [3/6][260/404]\tTime 0.517 (0.479)\tData 0.000 (0.001)\tLoss 2.6327 (2.7441)\tAcc 62.50 (57.96)\tLr 0.000300\tEta 0:10:49\n",
      "Epoch: [3/6][270/404]\tTime 0.511 (0.480)\tData 0.000 (0.001)\tLoss 2.2644 (2.7393)\tAcc 68.75 (58.07)\tLr 0.000300\tEta 0:10:45\n",
      "Epoch: [3/6][280/404]\tTime 0.488 (0.480)\tData 0.000 (0.001)\tLoss 2.4869 (2.7349)\tAcc 68.75 (58.27)\tLr 0.000300\tEta 0:10:40\n",
      "Epoch: [3/6][290/404]\tTime 0.472 (0.480)\tData 0.000 (0.001)\tLoss 2.5302 (2.7304)\tAcc 56.25 (58.31)\tLr 0.000300\tEta 0:10:36\n",
      "Epoch: [3/6][300/404]\tTime 0.474 (0.480)\tData 0.000 (0.001)\tLoss 2.6757 (2.7197)\tAcc 46.88 (58.50)\tLr 0.000300\tEta 0:10:31\n",
      "Epoch: [3/6][310/404]\tTime 0.469 (0.480)\tData 0.000 (0.001)\tLoss 2.6830 (2.7119)\tAcc 53.12 (58.79)\tLr 0.000300\tEta 0:10:26\n",
      "Epoch: [3/6][320/404]\tTime 0.468 (0.479)\tData 0.000 (0.001)\tLoss 2.4116 (2.7058)\tAcc 68.75 (58.93)\tLr 0.000300\tEta 0:10:21\n",
      "Epoch: [3/6][330/404]\tTime 0.492 (0.479)\tData 0.000 (0.001)\tLoss 2.3543 (2.6977)\tAcc 68.75 (59.04)\tLr 0.000300\tEta 0:10:16\n",
      "Epoch: [3/6][340/404]\tTime 0.492 (0.479)\tData 0.000 (0.001)\tLoss 1.9879 (2.6906)\tAcc 81.25 (59.34)\tLr 0.000300\tEta 0:10:11\n",
      "Epoch: [3/6][350/404]\tTime 0.489 (0.480)\tData 0.000 (0.001)\tLoss 2.7350 (2.6882)\tAcc 56.25 (59.38)\tLr 0.000300\tEta 0:10:07\n",
      "Epoch: [3/6][360/404]\tTime 0.473 (0.480)\tData 0.000 (0.001)\tLoss 2.3963 (2.6829)\tAcc 71.88 (59.56)\tLr 0.000300\tEta 0:10:02\n",
      "Epoch: [3/6][370/404]\tTime 0.490 (0.480)\tData 0.000 (0.001)\tLoss 2.1317 (2.6769)\tAcc 78.12 (59.65)\tLr 0.000300\tEta 0:09:57\n",
      "Epoch: [3/6][380/404]\tTime 0.474 (0.480)\tData 0.000 (0.001)\tLoss 2.2360 (2.6729)\tAcc 68.75 (59.79)\tLr 0.000300\tEta 0:09:52\n",
      "Epoch: [3/6][390/404]\tTime 0.471 (0.480)\tData 0.000 (0.001)\tLoss 2.4395 (2.6671)\tAcc 68.75 (59.92)\tLr 0.000300\tEta 0:09:48\n",
      "Epoch: [3/6][400/404]\tTime 0.471 (0.479)\tData 0.000 (0.001)\tLoss 2.2135 (2.6617)\tAcc 68.75 (60.04)\tLr 0.000300\tEta 0:09:42\n",
      "Epoch: [4/6][10/404]\tTime 0.469 (0.491)\tData 0.000 (0.017)\tLoss 2.2202 (2.1634)\tAcc 75.00 (71.88)\tLr 0.000300\tEta 0:09:50\n",
      "Epoch: [4/6][20/404]\tTime 0.470 (0.482)\tData 0.000 (0.009)\tLoss 1.9804 (2.2032)\tAcc 81.25 (71.72)\tLr 0.000300\tEta 0:09:34\n",
      "Epoch: [4/6][30/404]\tTime 0.474 (0.481)\tData 0.000 (0.006)\tLoss 2.0605 (2.1710)\tAcc 75.00 (72.60)\tLr 0.000300\tEta 0:09:28\n",
      "Epoch: [4/6][40/404]\tTime 0.472 (0.479)\tData 0.000 (0.004)\tLoss 2.2380 (2.1935)\tAcc 81.25 (72.66)\tLr 0.000300\tEta 0:09:21\n",
      "Epoch: [4/6][50/404]\tTime 0.471 (0.479)\tData 0.000 (0.004)\tLoss 1.9294 (2.1902)\tAcc 81.25 (73.50)\tLr 0.000300\tEta 0:09:16\n",
      "Epoch: [4/6][60/404]\tTime 0.470 (0.478)\tData 0.000 (0.003)\tLoss 1.8589 (2.1934)\tAcc 87.50 (73.12)\tLr 0.000300\tEta 0:09:10\n",
      "Epoch: [4/6][70/404]\tTime 0.470 (0.477)\tData 0.000 (0.003)\tLoss 2.0743 (2.1942)\tAcc 81.25 (73.26)\tLr 0.000300\tEta 0:09:04\n",
      "Epoch: [4/6][80/404]\tTime 0.471 (0.477)\tData 0.000 (0.002)\tLoss 2.1917 (2.2046)\tAcc 65.62 (72.93)\tLr 0.000300\tEta 0:08:59\n",
      "Epoch: [4/6][90/404]\tTime 0.504 (0.477)\tData 0.000 (0.002)\tLoss 2.1598 (2.2129)\tAcc 78.12 (72.64)\tLr 0.000300\tEta 0:08:54\n",
      "Epoch: [4/6][100/404]\tTime 0.472 (0.476)\tData 0.000 (0.002)\tLoss 2.2055 (2.2076)\tAcc 71.88 (72.81)\tLr 0.000300\tEta 0:08:49\n",
      "Epoch: [4/6][110/404]\tTime 0.495 (0.477)\tData 0.000 (0.002)\tLoss 2.1525 (2.2059)\tAcc 81.25 (73.07)\tLr 0.000300\tEta 0:08:45\n",
      "Epoch: [4/6][120/404]\tTime 0.507 (0.478)\tData 0.000 (0.002)\tLoss 2.4428 (2.2032)\tAcc 68.75 (72.84)\tLr 0.000300\tEta 0:08:42\n",
      "Epoch: [4/6][130/404]\tTime 0.469 (0.478)\tData 0.000 (0.001)\tLoss 2.1331 (2.2030)\tAcc 75.00 (72.88)\tLr 0.000300\tEta 0:08:37\n",
      "Epoch: [4/6][140/404]\tTime 0.469 (0.478)\tData 0.000 (0.001)\tLoss 2.0224 (2.1949)\tAcc 78.12 (73.24)\tLr 0.000300\tEta 0:08:32\n",
      "Epoch: [4/6][150/404]\tTime 0.474 (0.478)\tData 0.000 (0.001)\tLoss 2.3059 (2.2032)\tAcc 71.88 (72.85)\tLr 0.000300\tEta 0:08:27\n"
     ]
    },
    {
     "name": "stdout",
     "output_type": "stream",
     "text": [
      "Epoch: [4/6][160/404]\tTime 0.470 (0.479)\tData 0.000 (0.001)\tLoss 2.1547 (2.2039)\tAcc 78.12 (72.93)\tLr 0.000300\tEta 0:08:23\n",
      "Epoch: [4/6][170/404]\tTime 0.471 (0.478)\tData 0.000 (0.001)\tLoss 2.2911 (2.2009)\tAcc 71.88 (73.22)\tLr 0.000300\tEta 0:08:18\n",
      "Epoch: [4/6][180/404]\tTime 0.504 (0.479)\tData 0.000 (0.001)\tLoss 2.3312 (2.2052)\tAcc 62.50 (72.93)\tLr 0.000300\tEta 0:08:14\n",
      "Epoch: [4/6][190/404]\tTime 0.472 (0.480)\tData 0.000 (0.001)\tLoss 2.0704 (2.2000)\tAcc 90.62 (73.17)\tLr 0.000300\tEta 0:08:10\n",
      "Epoch: [4/6][200/404]\tTime 0.470 (0.479)\tData 0.000 (0.001)\tLoss 2.1803 (2.1994)\tAcc 68.75 (73.11)\tLr 0.000300\tEta 0:08:05\n",
      "Epoch: [4/6][210/404]\tTime 0.535 (0.480)\tData 0.000 (0.001)\tLoss 2.0270 (2.1918)\tAcc 87.50 (73.42)\tLr 0.000300\tEta 0:08:00\n",
      "Epoch: [4/6][220/404]\tTime 0.470 (0.480)\tData 0.000 (0.001)\tLoss 2.1586 (2.1865)\tAcc 71.88 (73.45)\tLr 0.000300\tEta 0:07:55\n",
      "Epoch: [4/6][230/404]\tTime 0.469 (0.479)\tData 0.000 (0.001)\tLoss 2.3023 (2.1865)\tAcc 65.62 (73.49)\tLr 0.000300\tEta 0:07:50\n",
      "Epoch: [4/6][240/404]\tTime 0.471 (0.479)\tData 0.000 (0.001)\tLoss 1.9379 (2.1805)\tAcc 84.38 (73.71)\tLr 0.000300\tEta 0:07:45\n",
      "Epoch: [4/6][250/404]\tTime 0.470 (0.479)\tData 0.000 (0.001)\tLoss 2.1946 (2.1858)\tAcc 71.88 (73.41)\tLr 0.000300\tEta 0:07:40\n",
      "Epoch: [4/6][260/404]\tTime 0.471 (0.478)\tData 0.000 (0.001)\tLoss 1.9012 (2.1800)\tAcc 81.25 (73.56)\tLr 0.000300\tEta 0:07:35\n",
      "Epoch: [4/6][270/404]\tTime 0.470 (0.478)\tData 0.000 (0.001)\tLoss 2.0762 (2.1785)\tAcc 81.25 (73.54)\tLr 0.000300\tEta 0:07:30\n",
      "Epoch: [4/6][280/404]\tTime 0.471 (0.478)\tData 0.000 (0.001)\tLoss 1.9373 (2.1759)\tAcc 81.25 (73.66)\tLr 0.000300\tEta 0:07:25\n",
      "Epoch: [4/6][290/404]\tTime 0.486 (0.478)\tData 0.000 (0.001)\tLoss 2.0398 (2.1750)\tAcc 78.12 (73.77)\tLr 0.000300\tEta 0:07:20\n",
      "Epoch: [4/6][300/404]\tTime 0.473 (0.478)\tData 0.000 (0.001)\tLoss 2.3209 (2.1742)\tAcc 71.88 (73.76)\tLr 0.000300\tEta 0:07:16\n",
      "Epoch: [4/6][310/404]\tTime 0.471 (0.478)\tData 0.000 (0.001)\tLoss 2.3519 (2.1767)\tAcc 65.62 (73.64)\tLr 0.000300\tEta 0:07:11\n",
      "Epoch: [4/6][320/404]\tTime 0.469 (0.478)\tData 0.000 (0.001)\tLoss 2.2902 (2.1763)\tAcc 84.38 (73.72)\tLr 0.000300\tEta 0:07:06\n",
      "Epoch: [4/6][330/404]\tTime 0.504 (0.478)\tData 0.000 (0.001)\tLoss 1.8312 (2.1747)\tAcc 87.50 (73.74)\tLr 0.000300\tEta 0:07:01\n",
      "Epoch: [4/6][340/404]\tTime 0.492 (0.478)\tData 0.000 (0.001)\tLoss 2.1064 (2.1719)\tAcc 71.88 (73.78)\tLr 0.000300\tEta 0:06:57\n",
      "Epoch: [4/6][350/404]\tTime 0.469 (0.478)\tData 0.000 (0.001)\tLoss 2.5047 (2.1717)\tAcc 62.50 (73.77)\tLr 0.000300\tEta 0:06:52\n",
      "Epoch: [4/6][360/404]\tTime 0.469 (0.478)\tData 0.000 (0.001)\tLoss 2.0583 (2.1696)\tAcc 78.12 (73.88)\tLr 0.000300\tEta 0:06:47\n",
      "Epoch: [4/6][370/404]\tTime 0.469 (0.478)\tData 0.000 (0.001)\tLoss 2.3068 (2.1676)\tAcc 68.75 (73.88)\tLr 0.000300\tEta 0:06:42\n",
      "Epoch: [4/6][380/404]\tTime 0.502 (0.479)\tData 0.000 (0.001)\tLoss 2.0496 (2.1632)\tAcc 78.12 (74.07)\tLr 0.000300\tEta 0:06:38\n",
      "Epoch: [4/6][390/404]\tTime 0.519 (0.479)\tData 0.000 (0.001)\tLoss 1.9815 (2.1601)\tAcc 84.38 (74.23)\tLr 0.000300\tEta 0:06:34\n",
      "Epoch: [4/6][400/404]\tTime 0.471 (0.479)\tData 0.000 (0.001)\tLoss 2.1635 (2.1573)\tAcc 78.12 (74.27)\tLr 0.000300\tEta 0:06:29\n",
      "Epoch: [5/6][10/404]\tTime 0.471 (0.516)\tData 0.000 (0.030)\tLoss 1.9232 (1.9770)\tAcc 75.00 (78.12)\tLr 0.000300\tEta 0:06:51\n",
      "Epoch: [5/6][20/404]\tTime 0.505 (0.501)\tData 0.000 (0.015)\tLoss 1.8885 (1.9679)\tAcc 81.25 (78.44)\tLr 0.000300\tEta 0:06:34\n",
      "Epoch: [5/6][30/404]\tTime 0.470 (0.491)\tData 0.000 (0.010)\tLoss 1.6931 (1.9557)\tAcc 96.88 (79.90)\tLr 0.000300\tEta 0:06:22\n",
      "Epoch: [5/6][40/404]\tTime 0.474 (0.487)\tData 0.000 (0.007)\tLoss 1.6013 (1.9424)\tAcc 96.88 (80.23)\tLr 0.000300\tEta 0:06:13\n",
      "Epoch: [5/6][50/404]\tTime 0.470 (0.484)\tData 0.000 (0.006)\tLoss 2.0542 (1.9308)\tAcc 71.88 (80.19)\tLr 0.000300\tEta 0:06:06\n",
      "Epoch: [5/6][60/404]\tTime 0.512 (0.483)\tData 0.000 (0.005)\tLoss 1.8231 (1.9321)\tAcc 84.38 (80.31)\tLr 0.000300\tEta 0:06:01\n",
      "Epoch: [5/6][70/404]\tTime 0.470 (0.483)\tData 0.000 (0.004)\tLoss 2.0590 (1.9386)\tAcc 71.88 (80.04)\tLr 0.000300\tEta 0:05:56\n",
      "Epoch: [5/6][80/404]\tTime 0.476 (0.482)\tData 0.000 (0.004)\tLoss 1.8011 (1.9400)\tAcc 84.38 (79.84)\tLr 0.000300\tEta 0:05:50\n",
      "Epoch: [5/6][90/404]\tTime 0.471 (0.482)\tData 0.000 (0.003)\tLoss 1.9014 (1.9302)\tAcc 78.12 (80.10)\tLr 0.000300\tEta 0:05:46\n",
      "Epoch: [5/6][100/404]\tTime 0.471 (0.481)\tData 0.000 (0.003)\tLoss 1.6465 (1.9256)\tAcc 90.62 (80.25)\tLr 0.000300\tEta 0:05:40\n",
      "Epoch: [5/6][110/404]\tTime 0.472 (0.481)\tData 0.000 (0.003)\tLoss 1.9670 (1.9356)\tAcc 75.00 (79.63)\tLr 0.000300\tEta 0:05:35\n",
      "Epoch: [5/6][120/404]\tTime 0.472 (0.481)\tData 0.000 (0.003)\tLoss 2.0116 (1.9346)\tAcc 81.25 (79.77)\tLr 0.000300\tEta 0:05:30\n",
      "Epoch: [5/6][130/404]\tTime 0.474 (0.480)\tData 0.000 (0.002)\tLoss 1.9839 (1.9306)\tAcc 75.00 (79.76)\tLr 0.000300\tEta 0:05:25\n",
      "Epoch: [5/6][140/404]\tTime 0.471 (0.480)\tData 0.000 (0.002)\tLoss 1.7715 (1.9258)\tAcc 90.62 (80.09)\tLr 0.000300\tEta 0:05:20\n",
      "Epoch: [5/6][150/404]\tTime 0.470 (0.480)\tData 0.000 (0.002)\tLoss 2.1135 (1.9240)\tAcc 68.75 (80.04)\tLr 0.000300\tEta 0:05:15\n",
      "Epoch: [5/6][160/404]\tTime 0.470 (0.479)\tData 0.000 (0.002)\tLoss 1.8458 (1.9206)\tAcc 84.38 (80.27)\tLr 0.000300\tEta 0:05:10\n",
      "Epoch: [5/6][170/404]\tTime 0.471 (0.479)\tData 0.000 (0.002)\tLoss 1.8345 (1.9212)\tAcc 81.25 (80.35)\tLr 0.000300\tEta 0:05:05\n",
      "Epoch: [5/6][180/404]\tTime 0.473 (0.478)\tData 0.000 (0.002)\tLoss 2.0233 (1.9209)\tAcc 71.88 (80.33)\tLr 0.000300\tEta 0:05:00\n",
      "Epoch: [5/6][190/404]\tTime 0.473 (0.478)\tData 0.000 (0.002)\tLoss 2.0001 (1.9211)\tAcc 78.12 (80.39)\tLr 0.000300\tEta 0:04:55\n",
      "Epoch: [5/6][200/404]\tTime 0.474 (0.479)\tData 0.000 (0.002)\tLoss 2.0363 (1.9218)\tAcc 81.25 (80.42)\tLr 0.000300\tEta 0:04:51\n",
      "Epoch: [5/6][210/404]\tTime 0.471 (0.479)\tData 0.000 (0.001)\tLoss 1.7702 (1.9204)\tAcc 90.62 (80.52)\tLr 0.000300\tEta 0:04:46\n",
      "Epoch: [5/6][220/404]\tTime 0.473 (0.479)\tData 0.000 (0.001)\tLoss 1.7293 (1.9192)\tAcc 93.75 (80.67)\tLr 0.000300\tEta 0:04:41\n",
      "Epoch: [5/6][230/404]\tTime 0.470 (0.479)\tData 0.000 (0.001)\tLoss 1.8028 (1.9170)\tAcc 90.62 (80.75)\tLr 0.000300\tEta 0:04:36\n",
      "Epoch: [5/6][240/404]\tTime 0.486 (0.479)\tData 0.000 (0.001)\tLoss 1.8630 (1.9146)\tAcc 81.25 (80.83)\tLr 0.000300\tEta 0:04:32\n",
      "Epoch: [5/6][250/404]\tTime 0.498 (0.480)\tData 0.000 (0.001)\tLoss 1.6386 (1.9109)\tAcc 96.88 (81.04)\tLr 0.000300\tEta 0:04:27\n",
      "Epoch: [5/6][260/404]\tTime 0.488 (0.480)\tData 0.000 (0.001)\tLoss 1.8902 (1.9086)\tAcc 78.12 (81.12)\tLr 0.000300\tEta 0:04:23\n",
      "Epoch: [5/6][270/404]\tTime 0.473 (0.480)\tData 0.000 (0.001)\tLoss 1.7467 (1.9076)\tAcc 87.50 (81.15)\tLr 0.000300\tEta 0:04:18\n",
      "Epoch: [5/6][280/404]\tTime 0.471 (0.480)\tData 0.000 (0.001)\tLoss 1.7279 (1.9091)\tAcc 90.62 (81.14)\tLr 0.000300\tEta 0:04:13\n",
      "Epoch: [5/6][290/404]\tTime 0.485 (0.480)\tData 0.000 (0.001)\tLoss 2.1085 (1.9085)\tAcc 78.12 (81.13)\tLr 0.000300\tEta 0:04:08\n",
      "Epoch: [5/6][300/404]\tTime 0.471 (0.479)\tData 0.000 (0.001)\tLoss 1.7589 (1.9085)\tAcc 84.38 (81.15)\tLr 0.000300\tEta 0:04:03\n",
      "Epoch: [5/6][310/404]\tTime 0.488 (0.479)\tData 0.000 (0.001)\tLoss 1.9780 (1.9098)\tAcc 84.38 (81.06)\tLr 0.000300\tEta 0:03:58\n",
      "Epoch: [5/6][320/404]\tTime 0.470 (0.480)\tData 0.000 (0.001)\tLoss 2.0321 (1.9093)\tAcc 68.75 (81.10)\tLr 0.000300\tEta 0:03:54\n",
      "Epoch: [5/6][330/404]\tTime 0.470 (0.479)\tData 0.000 (0.001)\tLoss 2.1671 (1.9081)\tAcc 71.88 (81.23)\tLr 0.000300\tEta 0:03:49\n",
      "Epoch: [5/6][340/404]\tTime 0.470 (0.480)\tData 0.000 (0.001)\tLoss 1.8649 (1.9085)\tAcc 81.25 (81.29)\tLr 0.000300\tEta 0:03:44\n",
      "Epoch: [5/6][350/404]\tTime 0.496 (0.479)\tData 0.000 (0.001)\tLoss 1.8608 (1.9069)\tAcc 84.38 (81.33)\tLr 0.000300\tEta 0:03:39\n",
      "Epoch: [5/6][360/404]\tTime 0.471 (0.480)\tData 0.000 (0.001)\tLoss 1.8359 (1.9071)\tAcc 87.50 (81.38)\tLr 0.000300\tEta 0:03:34\n",
      "Epoch: [5/6][370/404]\tTime 0.471 (0.480)\tData 0.000 (0.001)\tLoss 1.9189 (1.9107)\tAcc 75.00 (81.16)\tLr 0.000300\tEta 0:03:30\n",
      "Epoch: [5/6][380/404]\tTime 0.471 (0.480)\tData 0.000 (0.001)\tLoss 1.8856 (1.9115)\tAcc 81.25 (81.10)\tLr 0.000300\tEta 0:03:25\n",
      "Epoch: [5/6][390/404]\tTime 0.470 (0.479)\tData 0.000 (0.001)\tLoss 1.9370 (1.9101)\tAcc 71.88 (81.13)\tLr 0.000300\tEta 0:03:20\n",
      "Epoch: [5/6][400/404]\tTime 0.470 (0.479)\tData 0.000 (0.001)\tLoss 1.6050 (1.9086)\tAcc 90.62 (81.20)\tLr 0.000300\tEta 0:03:15\n",
      "Epoch: [6/6][10/404]\tTime 0.470 (0.493)\tData 0.000 (0.019)\tLoss 1.7233 (1.7774)\tAcc 93.75 (85.31)\tLr 0.000300\tEta 0:03:14\n",
      "Epoch: [6/6][20/404]\tTime 0.469 (0.482)\tData 0.000 (0.010)\tLoss 1.6891 (1.7151)\tAcc 90.62 (87.34)\tLr 0.000300\tEta 0:03:04\n"
     ]
    },
    {
     "name": "stdout",
     "output_type": "stream",
     "text": [
      "Epoch: [6/6][30/404]\tTime 0.471 (0.481)\tData 0.000 (0.006)\tLoss 1.6994 (1.7248)\tAcc 90.62 (88.02)\tLr 0.000300\tEta 0:02:59\n",
      "Epoch: [6/6][40/404]\tTime 0.469 (0.479)\tData 0.000 (0.005)\tLoss 1.8013 (1.7225)\tAcc 84.38 (88.05)\tLr 0.000300\tEta 0:02:54\n",
      "Epoch: [6/6][50/404]\tTime 0.480 (0.480)\tData 0.000 (0.004)\tLoss 1.6916 (1.7225)\tAcc 87.50 (87.25)\tLr 0.000300\tEta 0:02:50\n",
      "Epoch: [6/6][60/404]\tTime 0.483 (0.480)\tData 0.000 (0.003)\tLoss 1.7009 (1.7297)\tAcc 87.50 (87.29)\tLr 0.000300\tEta 0:02:45\n",
      "Epoch: [6/6][70/404]\tTime 0.470 (0.480)\tData 0.000 (0.003)\tLoss 1.7828 (1.7442)\tAcc 87.50 (86.56)\tLr 0.000300\tEta 0:02:40\n",
      "Epoch: [6/6][80/404]\tTime 0.470 (0.479)\tData 0.000 (0.002)\tLoss 1.5905 (1.7399)\tAcc 96.88 (86.68)\tLr 0.000300\tEta 0:02:35\n",
      "Epoch: [6/6][90/404]\tTime 0.469 (0.478)\tData 0.000 (0.002)\tLoss 1.7218 (1.7497)\tAcc 81.25 (86.18)\tLr 0.000300\tEta 0:02:30\n",
      "Epoch: [6/6][100/404]\tTime 0.470 (0.477)\tData 0.000 (0.002)\tLoss 1.5627 (1.7528)\tAcc 96.88 (86.06)\tLr 0.000300\tEta 0:02:25\n",
      "Epoch: [6/6][110/404]\tTime 0.478 (0.478)\tData 0.000 (0.002)\tLoss 2.2295 (1.7546)\tAcc 75.00 (86.05)\tLr 0.000300\tEta 0:02:20\n",
      "Epoch: [6/6][120/404]\tTime 0.470 (0.478)\tData 0.000 (0.002)\tLoss 1.7830 (1.7521)\tAcc 81.25 (86.04)\tLr 0.000300\tEta 0:02:15\n",
      "Epoch: [6/6][130/404]\tTime 0.471 (0.477)\tData 0.000 (0.002)\tLoss 1.7057 (1.7498)\tAcc 84.38 (86.08)\tLr 0.000300\tEta 0:02:10\n",
      "Epoch: [6/6][140/404]\tTime 0.471 (0.477)\tData 0.000 (0.001)\tLoss 1.7801 (1.7504)\tAcc 75.00 (86.05)\tLr 0.000300\tEta 0:02:05\n",
      "Epoch: [6/6][150/404]\tTime 0.470 (0.476)\tData 0.000 (0.001)\tLoss 1.9374 (1.7531)\tAcc 75.00 (86.00)\tLr 0.000300\tEta 0:02:00\n",
      "Epoch: [6/6][160/404]\tTime 0.474 (0.476)\tData 0.000 (0.001)\tLoss 1.7553 (1.7533)\tAcc 81.25 (86.09)\tLr 0.000300\tEta 0:01:56\n",
      "Epoch: [6/6][170/404]\tTime 0.474 (0.477)\tData 0.000 (0.001)\tLoss 1.9458 (1.7523)\tAcc 81.25 (86.12)\tLr 0.000300\tEta 0:01:51\n",
      "Epoch: [6/6][180/404]\tTime 0.487 (0.477)\tData 0.000 (0.001)\tLoss 1.9002 (1.7515)\tAcc 84.38 (86.16)\tLr 0.000300\tEta 0:01:46\n",
      "Epoch: [6/6][190/404]\tTime 0.482 (0.477)\tData 0.000 (0.001)\tLoss 1.6235 (1.7501)\tAcc 93.75 (86.17)\tLr 0.000300\tEta 0:01:42\n",
      "Epoch: [6/6][200/404]\tTime 0.470 (0.477)\tData 0.000 (0.001)\tLoss 2.0992 (1.7549)\tAcc 75.00 (86.02)\tLr 0.000300\tEta 0:01:37\n",
      "Epoch: [6/6][210/404]\tTime 0.470 (0.478)\tData 0.000 (0.001)\tLoss 1.9300 (1.7583)\tAcc 78.12 (85.85)\tLr 0.000300\tEta 0:01:32\n",
      "Epoch: [6/6][220/404]\tTime 0.530 (0.479)\tData 0.000 (0.001)\tLoss 1.6993 (1.7560)\tAcc 90.62 (85.95)\tLr 0.000300\tEta 0:01:28\n",
      "Epoch: [6/6][230/404]\tTime 0.543 (0.482)\tData 0.000 (0.001)\tLoss 1.8691 (1.7553)\tAcc 84.38 (85.94)\tLr 0.000300\tEta 0:01:23\n",
      "Epoch: [6/6][240/404]\tTime 0.474 (0.482)\tData 0.000 (0.001)\tLoss 1.5862 (1.7541)\tAcc 93.75 (86.00)\tLr 0.000300\tEta 0:01:19\n",
      "Epoch: [6/6][250/404]\tTime 0.471 (0.482)\tData 0.000 (0.001)\tLoss 1.8851 (1.7541)\tAcc 81.25 (86.00)\tLr 0.000300\tEta 0:01:14\n",
      "Epoch: [6/6][260/404]\tTime 0.474 (0.482)\tData 0.000 (0.001)\tLoss 1.4596 (1.7527)\tAcc 93.75 (85.99)\tLr 0.000300\tEta 0:01:09\n",
      "Epoch: [6/6][270/404]\tTime 0.470 (0.482)\tData 0.000 (0.001)\tLoss 1.7084 (1.7543)\tAcc 90.62 (85.93)\tLr 0.000300\tEta 0:01:04\n",
      "Epoch: [6/6][280/404]\tTime 0.470 (0.482)\tData 0.000 (0.001)\tLoss 1.8628 (1.7531)\tAcc 78.12 (85.97)\tLr 0.000300\tEta 0:00:59\n",
      "Epoch: [6/6][290/404]\tTime 0.474 (0.481)\tData 0.000 (0.001)\tLoss 1.8058 (1.7539)\tAcc 81.25 (85.89)\tLr 0.000300\tEta 0:00:54\n",
      "Epoch: [6/6][300/404]\tTime 0.469 (0.481)\tData 0.000 (0.001)\tLoss 1.8481 (1.7544)\tAcc 84.38 (85.88)\tLr 0.000300\tEta 0:00:50\n",
      "Epoch: [6/6][310/404]\tTime 0.477 (0.481)\tData 0.000 (0.001)\tLoss 1.6131 (1.7536)\tAcc 90.62 (85.91)\tLr 0.000300\tEta 0:00:45\n",
      "Epoch: [6/6][320/404]\tTime 0.469 (0.481)\tData 0.000 (0.001)\tLoss 1.9202 (1.7577)\tAcc 75.00 (85.74)\tLr 0.000300\tEta 0:00:40\n",
      "Epoch: [6/6][330/404]\tTime 0.469 (0.481)\tData 0.000 (0.001)\tLoss 1.7549 (1.7584)\tAcc 84.38 (85.62)\tLr 0.000300\tEta 0:00:35\n",
      "Epoch: [6/6][340/404]\tTime 0.472 (0.480)\tData 0.000 (0.001)\tLoss 1.8616 (1.7603)\tAcc 78.12 (85.57)\tLr 0.000300\tEta 0:00:30\n",
      "Epoch: [6/6][350/404]\tTime 0.468 (0.480)\tData 0.000 (0.001)\tLoss 1.8874 (1.7583)\tAcc 87.50 (85.63)\tLr 0.000300\tEta 0:00:25\n",
      "Epoch: [6/6][360/404]\tTime 0.471 (0.480)\tData 0.000 (0.001)\tLoss 1.7317 (1.7584)\tAcc 87.50 (85.62)\tLr 0.000300\tEta 0:00:21\n",
      "Epoch: [6/6][370/404]\tTime 0.471 (0.479)\tData 0.000 (0.001)\tLoss 1.9610 (1.7580)\tAcc 78.12 (85.68)\tLr 0.000300\tEta 0:00:16\n",
      "Epoch: [6/6][380/404]\tTime 0.469 (0.479)\tData 0.000 (0.001)\tLoss 1.6673 (1.7566)\tAcc 87.50 (85.66)\tLr 0.000300\tEta 0:00:11\n",
      "Epoch: [6/6][390/404]\tTime 0.470 (0.479)\tData 0.000 (0.001)\tLoss 1.7538 (1.7564)\tAcc 84.38 (85.61)\tLr 0.000300\tEta 0:00:06\n",
      "Epoch: [6/6][400/404]\tTime 0.471 (0.479)\tData 0.000 (0.001)\tLoss 1.4843 (1.7548)\tAcc 100.00 (85.65)\tLr 0.000300\tEta 0:00:01\n",
      "=> Final test\n",
      "##### Evaluating market1501 (source) #####\n",
      "Extracting features from query set ...\n",
      "Done, obtained 3368-by-2048 matrix\n",
      "Extracting features from gallery set ...\n",
      "Done, obtained 15913-by-2048 matrix\n",
      "Speed: 0.0082 sec/batch\n",
      "Computing distance matrix with metric=euclidean ...\n",
      "Computing CMC and mAP ...\n",
      "** Results **\n",
      "mAP: 50.3%\n",
      "CMC curve\n",
      "Rank-1  : 70.3%\n",
      "Rank-5  : 86.1%\n",
      "Rank-10 : 90.5%\n",
      "Rank-20 : 93.3%\n",
      "Checkpoint saved to \"log/resnet50/model.pth.tar-6\"\n",
      "Elapsed 0:22:06\n"
     ]
    }
   ],
   "source": [
    "engine.run(\n",
    "    save_dir='log/resnet50',\n",
    "    max_epoch=6, \n",
    "    eval_freq=10,\n",
    "    print_freq=10,\n",
    "    test_only=False,\n",
    "    visrank=True,\n",
    "    visrank_topk=5,\n",
    ") \n",
    "#max_epoch=60"
   ]
  },
  {
   "cell_type": "code",
   "execution_count": 16,
   "metadata": {},
   "outputs": [
    {
     "name": "stdout",
     "output_type": "stream",
     "text": [
      "##### Evaluating market1501 (source) #####\n",
      "Extracting features from query set ...\n",
      "Done, obtained 3368-by-2048 matrix\n",
      "Extracting features from gallery set ...\n",
      "Done, obtained 15913-by-2048 matrix\n",
      "Speed: 0.0073 sec/batch\n",
      "Computing distance matrix with metric=euclidean ...\n",
      "Computing CMC and mAP ...\n",
      "** Results **\n",
      "mAP: 50.3%\n",
      "CMC curve\n",
      "Rank-1  : 70.3%\n",
      "Rank-5  : 86.1%\n",
      "Rank-10 : 90.5%\n",
      "Rank-20 : 93.3%\n"
     ]
    }
   ],
   "source": [
    "engine.run(test_only=True)"
   ]
  },
  {
   "cell_type": "code",
   "execution_count": 1,
   "metadata": {},
   "outputs": [],
   "source": [
    "#SAVE\n",
    "#model.save('cats-dogs-resnet50.hdf5')\n",
    "#model.save(model.state_dict(), PATH)"
   ]
  },
  {
   "cell_type": "code",
   "execution_count": null,
   "metadata": {},
   "outputs": [],
   "source": []
  },
  {
   "cell_type": "code",
   "execution_count": 3,
   "metadata": {},
   "outputs": [],
   "source": [
    "#model.state_dict()\n",
    "#model.summary()"
   ]
  },
  {
   "cell_type": "code",
   "execution_count": null,
   "metadata": {},
   "outputs": [],
   "source": []
  },
  {
   "cell_type": "code",
   "execution_count": 115,
   "metadata": {},
   "outputs": [],
   "source": [
    "#1. uploading dataset to see how it is working\n",
    "import os\n",
    "import numpy as np\n",
    "path_te=\"/home/zamarseny/Data_Science/input_data/single_frame/reid_test/test/\"\n",
    "path_tr=\"/home/zamarseny/Data_Science/input_data/single_frame/reid_test/fict_train/\"\n",
    "path_q=\"/home/zamarseny/Data_Science/input_data/single_frame/reid_test/query/\"\n",
    "items_te = os.listdir(path_te)\n",
    "items_tr = os.listdir(path_tr)\n",
    "items_q = os.listdir(path_q)"
   ]
  },
  {
   "cell_type": "code",
   "execution_count": 116,
   "metadata": {},
   "outputs": [
    {
     "name": "stdout",
     "output_type": "stream",
     "text": [
      "92 5 5\n"
     ]
    }
   ],
   "source": [
    "print(len(items_te), len(items_tr), len(items_q))\n",
    "#print(items_te[0:3])\n",
    "tst=[]\n",
    "for i in range(len(items_te)):\n",
    "    tst.append((path_te+items_te[i], int(items_te[i][2:-4]), int(items_te[i][0:1])))\n",
    "#test=tuple(test)\n",
    "#test\n",
    "trn=[]\n",
    "for i in range(len(items_tr)):\n",
    "    trn.append((path_tr+items_tr[i], int(items_tr[i][2:-4]), int(items_te[i][0:1])))\n",
    "q=[]\n",
    "for i in range(len(items_q)):\n",
    "    q.append((path_q+items_q[i], int(items_q[i][2:-4]), int(items_q[i][0:1])))\n"
   ]
  },
  {
   "cell_type": "code",
   "execution_count": 114,
   "metadata": {},
   "outputs": [
    {
     "name": "stdout",
     "output_type": "stream",
     "text": [
      "4 10.png\n",
      "['1_7.png', '5_19.png', '2_3.png', '5_18.png', '10.png', '4_13.png']\n"
     ]
    }
   ],
   "source": [
    "print(i, items_te[i])\n",
    "print(items_te[0:6])"
   ]
  },
  {
   "cell_type": "code",
   "execution_count": 121,
   "metadata": {},
   "outputs": [
    {
     "data": {
      "text/plain": [
       "[('/home/zamarseny/Data_Science/input_data/single_frame/reid_test/query/1_0.png',\n",
       "  0,\n",
       "  1),\n",
       " ('/home/zamarseny/Data_Science/input_data/single_frame/reid_test/query/2_0.png',\n",
       "  0,\n",
       "  2),\n",
       " ('/home/zamarseny/Data_Science/input_data/single_frame/reid_test/query/5_0.png',\n",
       "  0,\n",
       "  5),\n",
       " ('/home/zamarseny/Data_Science/input_data/single_frame/reid_test/query/3_0.png',\n",
       "  0,\n",
       "  3),\n",
       " ('/home/zamarseny/Data_Science/input_data/single_frame/reid_test/query/4_0.png',\n",
       "  0,\n",
       "  4)]"
      ]
     },
     "execution_count": 121,
     "metadata": {},
     "output_type": "execute_result"
    }
   ],
   "source": [
    "q"
   ]
  },
  {
   "cell_type": "code",
   "execution_count": 117,
   "metadata": {},
   "outputs": [],
   "source": [
    "#registeering new Dataset\n",
    "from torchreid.data import ImageDataset\n",
    "\n",
    "class NewDataset(ImageDataset):\n",
    "    dataset_dir = '/home/zamarseny/Data_Science/input_data/single_frame/reid_test/'\n",
    "\n",
    "    def __init__(self, root='', **kwargs):\n",
    "        self.root = osp.abspath(osp.expanduser(root))\n",
    "        self.dataset_dir = osp.join(self.root, self.dataset_dir)\n",
    "\n",
    "        # All you need to do here is to generate three lists,\n",
    "        # which are train, query and gallery.\n",
    "        # Each list contains tuples of (img_path, pid, camid),\n",
    "        # where\n",
    "        # - img_path (str): absolute path to an image.\n",
    "        # - pid (int): person ID, e.g. 0, 1.\n",
    "        # - camid (int): camera ID, e.g. 0, 1.\n",
    "        # Note that\n",
    "        # - pid and camid should be 0-based.\n",
    "        # - query and gallery should share the same pid scope (e.g.\n",
    "        #   pid=0 in query refers to the same person as pid=0 in gallery).\n",
    "        # - train, query and gallery share the same camid scope (e.g.\n",
    "        #   camid=0 in train refers to the same camera as camid=0\n",
    "        #   in query/gallery).\n",
    "        train = trn\n",
    "        query = q\n",
    "        gallery = tst\n",
    "\n",
    "        super(NewDataset, self).__init__(train, query, gallery, **kwargs)"
   ]
  },
  {
   "cell_type": "code",
   "execution_count": 118,
   "metadata": {},
   "outputs": [
    {
     "name": "stdout",
     "output_type": "stream",
     "text": [
      "Visualizing top-4 ranks\n",
      "# query: 5\n",
      "# gallery 101\n",
      "Saving images to \"/home/zamarseny/Data_Science/input_data/single_frame/reid_test/db/\"\n"
     ]
    },
    {
     "ename": "TypeError",
     "evalue": "'type' object is not iterable",
     "output_type": "error",
     "traceback": [
      "\u001b[0;31m---------------------------------------------------------------------------\u001b[0m",
      "\u001b[0;31mTypeError\u001b[0m                                 Traceback (most recent call last)",
      "\u001b[0;32m<ipython-input-118-3b7cfc64cdb7>\u001b[0m in \u001b[0;36m<module>\u001b[0;34m\u001b[0m\n\u001b[1;32m      2\u001b[0m                                                    \u001b[0mdataset\u001b[0m\u001b[0;34m=\u001b[0m\u001b[0mNewDataset\u001b[0m\u001b[0;34m,\u001b[0m\u001b[0;31m \u001b[0m\u001b[0;31m\\\u001b[0m\u001b[0;34m\u001b[0m\u001b[0;34m\u001b[0m\u001b[0m\n\u001b[1;32m      3\u001b[0m                                                    \u001b[0msave_dir\u001b[0m\u001b[0;34m=\u001b[0m\u001b[0;34m'/home/zamarseny/Data_Science/input_data/single_frame/reid_test/db/'\u001b[0m\u001b[0;34m,\u001b[0m\u001b[0;31m \u001b[0m\u001b[0;31m\\\u001b[0m\u001b[0;34m\u001b[0m\u001b[0;34m\u001b[0m\u001b[0m\n\u001b[0;32m----> 4\u001b[0;31m                                                    topk=4)\n\u001b[0m",
      "\u001b[0;32m~/anaconda3/envs/nlp/lib/python3.6/site-packages/torchreid-0.7.8-py3.6-linux-x86_64.egg/torchreid/utils/reidtools.py\u001b[0m in \u001b[0;36mvisualize_ranked_results\u001b[0;34m(distmat, dataset, save_dir, topk)\u001b[0m\n\u001b[1;32m     30\u001b[0m     \u001b[0mprint\u001b[0m\u001b[0;34m(\u001b[0m\u001b[0;34m'Saving images to \"{}\"'\u001b[0m\u001b[0;34m.\u001b[0m\u001b[0mformat\u001b[0m\u001b[0;34m(\u001b[0m\u001b[0msave_dir\u001b[0m\u001b[0;34m)\u001b[0m\u001b[0;34m)\u001b[0m\u001b[0;34m\u001b[0m\u001b[0;34m\u001b[0m\u001b[0m\n\u001b[1;32m     31\u001b[0m \u001b[0;34m\u001b[0m\u001b[0m\n\u001b[0;32m---> 32\u001b[0;31m     \u001b[0mquery\u001b[0m\u001b[0;34m,\u001b[0m \u001b[0mgallery\u001b[0m \u001b[0;34m=\u001b[0m \u001b[0mdataset\u001b[0m\u001b[0;34m\u001b[0m\u001b[0;34m\u001b[0m\u001b[0m\n\u001b[0m\u001b[1;32m     33\u001b[0m     \u001b[0;32massert\u001b[0m \u001b[0mnum_q\u001b[0m \u001b[0;34m==\u001b[0m \u001b[0mlen\u001b[0m\u001b[0;34m(\u001b[0m\u001b[0mquery\u001b[0m\u001b[0;34m)\u001b[0m\u001b[0;34m\u001b[0m\u001b[0;34m\u001b[0m\u001b[0m\n\u001b[1;32m     34\u001b[0m     \u001b[0;32massert\u001b[0m \u001b[0mnum_g\u001b[0m \u001b[0;34m==\u001b[0m \u001b[0mlen\u001b[0m\u001b[0;34m(\u001b[0m\u001b[0mgallery\u001b[0m\u001b[0;34m)\u001b[0m\u001b[0;34m\u001b[0m\u001b[0;34m\u001b[0m\u001b[0m\n",
      "\u001b[0;31mTypeError\u001b[0m: 'type' object is not iterable"
     ]
    }
   ],
   "source": [
    "#trying to visualize\n",
    "torchreid.utils.reidtools.visualize_ranked_results(distmat=np.ones([len(items_q), len(items)]), \\\n",
    "                                                   dataset=NewDataset, \\\n",
    "                                                   save_dir='/home/zamarseny/Data_Science/input_data/single_frame/reid_test/db/', \\\n",
    "                                                   topk=4)"
   ]
  },
  {
   "cell_type": "code",
   "execution_count": 123,
   "metadata": {},
   "outputs": [
    {
     "name": "stdout",
     "output_type": "stream",
     "text": [
      "Visualizing top-4 ranks\n",
      "# query: 5\n",
      "# gallery 101\n",
      "Saving images to \"/home/zamarseny/Data_Science/input_data/single_frame/reid_test/db/\"\n"
     ]
    },
    {
     "ename": "ValueError",
     "evalue": "too many values to unpack (expected 2)",
     "output_type": "error",
     "traceback": [
      "\u001b[0;31m---------------------------------------------------------------------------\u001b[0m",
      "\u001b[0;31mValueError\u001b[0m                                Traceback (most recent call last)",
      "\u001b[0;32m<ipython-input-123-296adff1edf6>\u001b[0m in \u001b[0;36m<module>\u001b[0;34m\u001b[0m\n\u001b[1;32m      2\u001b[0m                                                    \u001b[0mdataset\u001b[0m\u001b[0;34m=\u001b[0m\u001b[0;34m'Market1501'\u001b[0m\u001b[0;34m,\u001b[0m\u001b[0;31m \u001b[0m\u001b[0;31m\\\u001b[0m\u001b[0;34m\u001b[0m\u001b[0;34m\u001b[0m\u001b[0m\n\u001b[1;32m      3\u001b[0m                                                    \u001b[0msave_dir\u001b[0m\u001b[0;34m=\u001b[0m\u001b[0;34m'/home/zamarseny/Data_Science/input_data/single_frame/reid_test/db/'\u001b[0m\u001b[0;34m,\u001b[0m\u001b[0;31m \u001b[0m\u001b[0;31m\\\u001b[0m\u001b[0;34m\u001b[0m\u001b[0;34m\u001b[0m\u001b[0m\n\u001b[0;32m----> 4\u001b[0;31m                                                    topk=4)\n\u001b[0m",
      "\u001b[0;32m~/anaconda3/envs/nlp/lib/python3.6/site-packages/torchreid-0.7.8-py3.6-linux-x86_64.egg/torchreid/utils/reidtools.py\u001b[0m in \u001b[0;36mvisualize_ranked_results\u001b[0;34m(distmat, dataset, save_dir, topk)\u001b[0m\n\u001b[1;32m     30\u001b[0m     \u001b[0mprint\u001b[0m\u001b[0;34m(\u001b[0m\u001b[0;34m'Saving images to \"{}\"'\u001b[0m\u001b[0;34m.\u001b[0m\u001b[0mformat\u001b[0m\u001b[0;34m(\u001b[0m\u001b[0msave_dir\u001b[0m\u001b[0;34m)\u001b[0m\u001b[0;34m)\u001b[0m\u001b[0;34m\u001b[0m\u001b[0;34m\u001b[0m\u001b[0m\n\u001b[1;32m     31\u001b[0m \u001b[0;34m\u001b[0m\u001b[0m\n\u001b[0;32m---> 32\u001b[0;31m     \u001b[0mquery\u001b[0m\u001b[0;34m,\u001b[0m \u001b[0mgallery\u001b[0m \u001b[0;34m=\u001b[0m \u001b[0mdataset\u001b[0m\u001b[0;34m\u001b[0m\u001b[0;34m\u001b[0m\u001b[0m\n\u001b[0m\u001b[1;32m     33\u001b[0m     \u001b[0;32massert\u001b[0m \u001b[0mnum_q\u001b[0m \u001b[0;34m==\u001b[0m \u001b[0mlen\u001b[0m\u001b[0;34m(\u001b[0m\u001b[0mquery\u001b[0m\u001b[0;34m)\u001b[0m\u001b[0;34m\u001b[0m\u001b[0;34m\u001b[0m\u001b[0m\n\u001b[1;32m     34\u001b[0m     \u001b[0;32massert\u001b[0m \u001b[0mnum_g\u001b[0m \u001b[0;34m==\u001b[0m \u001b[0mlen\u001b[0m\u001b[0;34m(\u001b[0m\u001b[0mgallery\u001b[0m\u001b[0;34m)\u001b[0m\u001b[0;34m\u001b[0m\u001b[0;34m\u001b[0m\u001b[0m\n",
      "\u001b[0;31mValueError\u001b[0m: too many values to unpack (expected 2)"
     ]
    }
   ],
   "source": [
    "torchreid.utils.reidtools.visualize_ranked_results(distmat=np.ones([len(items_q), len(items)]), \\\n",
    "                                                   dataset='Market1501', \\\n",
    "                                                   save_dir='/home/zamarseny/Data_Science/input_data/single_frame/reid_test/db/', \\\n",
    "                                                   topk=4)"
   ]
  },
  {
   "cell_type": "code",
   "execution_count": 4,
   "metadata": {},
   "outputs": [],
   "source": [
    "#'Market1501'.dtype"
   ]
  },
  {
   "cell_type": "code",
   "execution_count": 33,
   "metadata": {},
   "outputs": [],
   "source": [
    "distmat=np.ones([len(items_q), len(items)])\n",
    "#distmat=np.ones(5)"
   ]
  },
  {
   "cell_type": "code",
   "execution_count": 54,
   "metadata": {},
   "outputs": [
    {
     "ename": "AttributeError",
     "evalue": "type object 'NewDataset' has no attribute 'type'",
     "output_type": "error",
     "traceback": [
      "\u001b[0;31m---------------------------------------------------------------------------\u001b[0m",
      "\u001b[0;31mAttributeError\u001b[0m                            Traceback (most recent call last)",
      "\u001b[0;32m<ipython-input-54-af8fbdf1be37>\u001b[0m in \u001b[0;36m<module>\u001b[0;34m\u001b[0m\n\u001b[0;32m----> 1\u001b[0;31m \u001b[0mNewDataset\u001b[0m\u001b[0;34m.\u001b[0m\u001b[0mtype\u001b[0m\u001b[0;34m(\u001b[0m\u001b[0;34m)\u001b[0m\u001b[0;34m\u001b[0m\u001b[0;34m\u001b[0m\u001b[0m\n\u001b[0m",
      "\u001b[0;31mAttributeError\u001b[0m: type object 'NewDataset' has no attribute 'type'"
     ]
    }
   ],
   "source": [
    "NewDataset"
   ]
  },
  {
   "cell_type": "code",
   "execution_count": null,
   "metadata": {},
   "outputs": [],
   "source": [
    "#OUTSIDE\n",
    "# First, load the model\n",
    "#resnet = models.resnet101(pretrained=True)\n",
    " \n",
    "# Second, put the network in eval mode\n",
    "model.eval()\n",
    " \n",
    "# Third, carry out model inference\n",
    "out = model(batch_t)\n",
    " \n",
    "# Forth, print the top 5 classes predicted by the model\n",
    "_, indices = torch.sort(out, descending=True)\n",
    "percentage = torch.nn.functional.softmax(out, dim=1)[0] * 100\n",
    "[(labels[idx], percentage[idx].item()) for idx in indices[0][:5]]"
   ]
  },
  {
   "cell_type": "code",
   "execution_count": 9,
   "metadata": {},
   "outputs": [
    {
     "ename": "NameError",
     "evalue": "name 'test_loader' is not defined",
     "output_type": "error",
     "traceback": [
      "\u001b[0;31m---------------------------------------------------------------------------\u001b[0m",
      "\u001b[0;31mNameError\u001b[0m                                 Traceback (most recent call last)",
      "\u001b[0;32m<ipython-input-9-45c6c232346e>\u001b[0m in \u001b[0;36m<module>\u001b[0;34m\u001b[0m\n\u001b[1;32m      4\u001b[0m \u001b[0;34m\u001b[0m\u001b[0m\n\u001b[1;32m      5\u001b[0m \u001b[0mmodel\u001b[0m\u001b[0;34m.\u001b[0m\u001b[0meval\u001b[0m\u001b[0;34m(\u001b[0m\u001b[0;34m)\u001b[0m\u001b[0;34m\u001b[0m\u001b[0;34m\u001b[0m\u001b[0m\n\u001b[0;32m----> 6\u001b[0;31m \u001b[0;32mfor\u001b[0m \u001b[0;34m(\u001b[0m\u001b[0mdata\u001b[0m\u001b[0;34m,\u001b[0m \u001b[0mtarget\u001b[0m\u001b[0;34m,\u001b[0m \u001b[0mname\u001b[0m\u001b[0;34m)\u001b[0m \u001b[0;32min\u001b[0m \u001b[0mtqdm\u001b[0m\u001b[0;34m(\u001b[0m\u001b[0mtest_loader\u001b[0m\u001b[0;34m)\u001b[0m\u001b[0;34m:\u001b[0m\u001b[0;34m\u001b[0m\u001b[0;34m\u001b[0m\u001b[0m\n\u001b[0m\u001b[1;32m      7\u001b[0m     \u001b[0mdata\u001b[0m \u001b[0;34m=\u001b[0m \u001b[0mdata\u001b[0m\u001b[0;34m.\u001b[0m\u001b[0mcuda\u001b[0m\u001b[0;34m(\u001b[0m\u001b[0;34m)\u001b[0m\u001b[0;34m\u001b[0m\u001b[0;34m\u001b[0m\u001b[0m\n\u001b[1;32m      8\u001b[0m     \u001b[0moutput\u001b[0m \u001b[0;34m=\u001b[0m \u001b[0mmodel\u001b[0m\u001b[0;34m(\u001b[0m\u001b[0mdata\u001b[0m\u001b[0;34m)\u001b[0m\u001b[0;34m\u001b[0m\u001b[0;34m\u001b[0m\u001b[0m\n",
      "\u001b[0;31mNameError\u001b[0m: name 'test_loader' is not defined"
     ]
    }
   ],
   "source": [
    "#import pandas as pd\n",
    "#sub = pd.read_csv('../input/sample_submission.csv')\n",
    "import tqdm\n",
    "\n",
    "model.eval()\n",
    "for (data, target, name) in tqdm(test_loader):\n",
    "    data = data.cuda()\n",
    "    output = model(data)\n",
    "    output = output.cpu().detach().numpy()\n",
    "    for i, (e, n) in enumerate(list(zip(output, name))):\n",
    "        sub.loc[sub['Image'] == n, 'Id'] = ' '.join(label_encoder.inverse_transform(e.argsort()[-5:][::-1]))\n",
    "        \n",
    "#sub.to_csv('submission.csv', index=False)"
   ]
  },
  {
   "cell_type": "code",
   "execution_count": null,
   "metadata": {},
   "outputs": [],
   "source": []
  }
 ],
 "metadata": {
  "kernelspec": {
   "display_name": "Python 3",
   "language": "python",
   "name": "python3"
  },
  "language_info": {
   "codemirror_mode": {
    "name": "ipython",
    "version": 3
   },
   "file_extension": ".py",
   "mimetype": "text/x-python",
   "name": "python",
   "nbconvert_exporter": "python",
   "pygments_lexer": "ipython3",
   "version": "3.6.8"
  }
 },
 "nbformat": 4,
 "nbformat_minor": 2
}
