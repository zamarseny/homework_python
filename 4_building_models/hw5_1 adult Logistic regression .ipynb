{
 "cells": [
  {
   "cell_type": "markdown",
   "metadata": {},
   "source": [
    "Имеются данные adult.csv (см. в материалах к занятию или на гитхабе).\n",
    "Целевой переменной является уровень дохода income (крайний правый столбец).\n",
    "Описание признаков можно найти по ссылке http://www.cs.toronto.edu/~delve/data/adult/adultDetail.html\n",
    "\n",
    "Вам необходимо построить модель логистической регрессии, которая предсказывает уровень дохода человека. При возможности попробуйте улучшить точность предсказаний (метод score) с помощью перебора признаков.\n",
    "\n",
    "Готовый ноутбук выложить на гитхаб и прислать ссылку."
   ]
  },
  {
   "cell_type": "code",
   "execution_count": 1,
   "metadata": {},
   "outputs": [],
   "source": [
    "import pandas as pd\n",
    "import numpy as np\n",
    "\n",
    "import matplotlib\n",
    "import matplotlib.pyplot as plt\n",
    "import seaborn as sns\n",
    "\n",
    "import scipy\n",
    "from scipy import stats"
   ]
  },
  {
   "cell_type": "code",
   "execution_count": 2,
   "metadata": {},
   "outputs": [],
   "source": [
    "df=pd.read_csv('adult.csv')"
   ]
  },
  {
   "cell_type": "code",
   "execution_count": 3,
   "metadata": {},
   "outputs": [
    {
     "data": {
      "text/html": [
       "<div>\n",
       "<style scoped>\n",
       "    .dataframe tbody tr th:only-of-type {\n",
       "        vertical-align: middle;\n",
       "    }\n",
       "\n",
       "    .dataframe tbody tr th {\n",
       "        vertical-align: top;\n",
       "    }\n",
       "\n",
       "    .dataframe thead th {\n",
       "        text-align: right;\n",
       "    }\n",
       "</style>\n",
       "<table border=\"1\" class=\"dataframe\">\n",
       "  <thead>\n",
       "    <tr style=\"text-align: right;\">\n",
       "      <th></th>\n",
       "      <th>age</th>\n",
       "      <th>workclass</th>\n",
       "      <th>fnlwgt</th>\n",
       "      <th>education</th>\n",
       "      <th>educational-num</th>\n",
       "      <th>marital-status</th>\n",
       "      <th>occupation</th>\n",
       "      <th>relationship</th>\n",
       "      <th>race</th>\n",
       "      <th>gender</th>\n",
       "      <th>capital-gain</th>\n",
       "      <th>capital-loss</th>\n",
       "      <th>hours-per-week</th>\n",
       "      <th>native-country</th>\n",
       "      <th>income</th>\n",
       "    </tr>\n",
       "  </thead>\n",
       "  <tbody>\n",
       "    <tr>\n",
       "      <th>0</th>\n",
       "      <td>25</td>\n",
       "      <td>Private</td>\n",
       "      <td>226802</td>\n",
       "      <td>11th</td>\n",
       "      <td>7</td>\n",
       "      <td>Never-married</td>\n",
       "      <td>Machine-op-inspct</td>\n",
       "      <td>Own-child</td>\n",
       "      <td>Black</td>\n",
       "      <td>Male</td>\n",
       "      <td>0</td>\n",
       "      <td>0</td>\n",
       "      <td>40</td>\n",
       "      <td>United-States</td>\n",
       "      <td>&lt;=50K</td>\n",
       "    </tr>\n",
       "    <tr>\n",
       "      <th>1</th>\n",
       "      <td>38</td>\n",
       "      <td>Private</td>\n",
       "      <td>89814</td>\n",
       "      <td>HS-grad</td>\n",
       "      <td>9</td>\n",
       "      <td>Married-civ-spouse</td>\n",
       "      <td>Farming-fishing</td>\n",
       "      <td>Husband</td>\n",
       "      <td>White</td>\n",
       "      <td>Male</td>\n",
       "      <td>0</td>\n",
       "      <td>0</td>\n",
       "      <td>50</td>\n",
       "      <td>United-States</td>\n",
       "      <td>&lt;=50K</td>\n",
       "    </tr>\n",
       "    <tr>\n",
       "      <th>2</th>\n",
       "      <td>28</td>\n",
       "      <td>Local-gov</td>\n",
       "      <td>336951</td>\n",
       "      <td>Assoc-acdm</td>\n",
       "      <td>12</td>\n",
       "      <td>Married-civ-spouse</td>\n",
       "      <td>Protective-serv</td>\n",
       "      <td>Husband</td>\n",
       "      <td>White</td>\n",
       "      <td>Male</td>\n",
       "      <td>0</td>\n",
       "      <td>0</td>\n",
       "      <td>40</td>\n",
       "      <td>United-States</td>\n",
       "      <td>&gt;50K</td>\n",
       "    </tr>\n",
       "    <tr>\n",
       "      <th>3</th>\n",
       "      <td>44</td>\n",
       "      <td>Private</td>\n",
       "      <td>160323</td>\n",
       "      <td>Some-college</td>\n",
       "      <td>10</td>\n",
       "      <td>Married-civ-spouse</td>\n",
       "      <td>Machine-op-inspct</td>\n",
       "      <td>Husband</td>\n",
       "      <td>Black</td>\n",
       "      <td>Male</td>\n",
       "      <td>7688</td>\n",
       "      <td>0</td>\n",
       "      <td>40</td>\n",
       "      <td>United-States</td>\n",
       "      <td>&gt;50K</td>\n",
       "    </tr>\n",
       "    <tr>\n",
       "      <th>4</th>\n",
       "      <td>18</td>\n",
       "      <td>?</td>\n",
       "      <td>103497</td>\n",
       "      <td>Some-college</td>\n",
       "      <td>10</td>\n",
       "      <td>Never-married</td>\n",
       "      <td>?</td>\n",
       "      <td>Own-child</td>\n",
       "      <td>White</td>\n",
       "      <td>Female</td>\n",
       "      <td>0</td>\n",
       "      <td>0</td>\n",
       "      <td>30</td>\n",
       "      <td>United-States</td>\n",
       "      <td>&lt;=50K</td>\n",
       "    </tr>\n",
       "  </tbody>\n",
       "</table>\n",
       "</div>"
      ],
      "text/plain": [
       "   age  workclass  fnlwgt     education  educational-num      marital-status  \\\n",
       "0   25    Private  226802          11th                7       Never-married   \n",
       "1   38    Private   89814       HS-grad                9  Married-civ-spouse   \n",
       "2   28  Local-gov  336951    Assoc-acdm               12  Married-civ-spouse   \n",
       "3   44    Private  160323  Some-college               10  Married-civ-spouse   \n",
       "4   18          ?  103497  Some-college               10       Never-married   \n",
       "\n",
       "          occupation relationship   race  gender  capital-gain  capital-loss  \\\n",
       "0  Machine-op-inspct    Own-child  Black    Male             0             0   \n",
       "1    Farming-fishing      Husband  White    Male             0             0   \n",
       "2    Protective-serv      Husband  White    Male             0             0   \n",
       "3  Machine-op-inspct      Husband  Black    Male          7688             0   \n",
       "4                  ?    Own-child  White  Female             0             0   \n",
       "\n",
       "   hours-per-week native-country income  \n",
       "0              40  United-States  <=50K  \n",
       "1              50  United-States  <=50K  \n",
       "2              40  United-States   >50K  \n",
       "3              40  United-States   >50K  \n",
       "4              30  United-States  <=50K  "
      ]
     },
     "execution_count": 3,
     "metadata": {},
     "output_type": "execute_result"
    }
   ],
   "source": [
    "df.head()"
   ]
  },
  {
   "cell_type": "code",
   "execution_count": 4,
   "metadata": {},
   "outputs": [
    {
     "data": {
      "text/plain": [
       "<=50K    37155\n",
       ">50K     11687\n",
       "Name: income, dtype: int64"
      ]
     },
     "execution_count": 4,
     "metadata": {},
     "output_type": "execute_result"
    }
   ],
   "source": [
    "df['income'].value_counts()\n",
    "#df['income'].count()"
   ]
  },
  {
   "cell_type": "code",
   "execution_count": 5,
   "metadata": {},
   "outputs": [
    {
     "data": {
      "text/plain": [
       "age                 int64\n",
       "workclass          object\n",
       "fnlwgt              int64\n",
       "education          object\n",
       "educational-num     int64\n",
       "marital-status     object\n",
       "occupation         object\n",
       "relationship       object\n",
       "race               object\n",
       "gender             object\n",
       "capital-gain        int64\n",
       "capital-loss        int64\n",
       "hours-per-week      int64\n",
       "native-country     object\n",
       "income             object\n",
       "dtype: object"
      ]
     },
     "execution_count": 5,
     "metadata": {},
     "output_type": "execute_result"
    }
   ],
   "source": [
    "df.dtypes"
   ]
  },
  {
   "cell_type": "code",
   "execution_count": 6,
   "metadata": {},
   "outputs": [
    {
     "name": "stdout",
     "output_type": "stream",
     "text": [
      "<class 'pandas.core.frame.DataFrame'>\n",
      "RangeIndex: 48842 entries, 0 to 48841\n",
      "Data columns (total 15 columns):\n",
      "age                48842 non-null int64\n",
      "workclass          48842 non-null object\n",
      "fnlwgt             48842 non-null int64\n",
      "education          48842 non-null object\n",
      "educational-num    48842 non-null int64\n",
      "marital-status     48842 non-null object\n",
      "occupation         48842 non-null object\n",
      "relationship       48842 non-null object\n",
      "race               48842 non-null object\n",
      "gender             48842 non-null object\n",
      "capital-gain       48842 non-null int64\n",
      "capital-loss       48842 non-null int64\n",
      "hours-per-week     48842 non-null int64\n",
      "native-country     48842 non-null object\n",
      "income             48842 non-null object\n",
      "dtypes: int64(6), object(9)\n",
      "memory usage: 5.6+ MB\n"
     ]
    }
   ],
   "source": [
    "df.info()"
   ]
  },
  {
   "cell_type": "code",
   "execution_count": 7,
   "metadata": {},
   "outputs": [],
   "source": [
    "#явных пропусков нет"
   ]
  },
  {
   "cell_type": "code",
   "execution_count": 8,
   "metadata": {},
   "outputs": [],
   "source": [
    "df['target']=df['income'].apply(lambda x: 1 if  x=='>50K' else 0)"
   ]
  },
  {
   "cell_type": "code",
   "execution_count": 9,
   "metadata": {},
   "outputs": [
    {
     "data": {
      "text/plain": [
       "0    37155\n",
       "1    11687\n",
       "Name: target, dtype: int64"
      ]
     },
     "execution_count": 9,
     "metadata": {},
     "output_type": "execute_result"
    }
   ],
   "source": [
    "df['target'].value_counts()"
   ]
  },
  {
   "cell_type": "code",
   "execution_count": 10,
   "metadata": {},
   "outputs": [],
   "source": [
    "# convert to float to scale then\n",
    "df['age']=pd.to_numeric(df['age'], downcast='float')\n",
    "df['fnlwgt']=pd.to_numeric(df['fnlwgt'], downcast='float')\n",
    "df['educational-num']=pd.to_numeric(df['educational-num'], downcast='float')\n",
    "df['capital-gain']=pd.to_numeric(df['capital-gain'], downcast='float')\n",
    "df['capital-loss']=pd.to_numeric(df['capital-loss'], downcast='float')\n",
    "df['hours-per-week']=pd.to_numeric(df['hours-per-week'], downcast='float')\n",
    "\n",
    "\n",
    "#age, fnlwgt,educational-num, capital-gain, capital-loss, hours-per-week "
   ]
  },
  {
   "cell_type": "code",
   "execution_count": 11,
   "metadata": {},
   "outputs": [],
   "source": [
    "#Making digits from categorial features"
   ]
  },
  {
   "cell_type": "code",
   "execution_count": null,
   "metadata": {},
   "outputs": [],
   "source": []
  },
  {
   "cell_type": "code",
   "execution_count": 12,
   "metadata": {},
   "outputs": [],
   "source": [
    "def get_counts(df_train, df_test, col, target_col):\n",
    "    category_val_dict = (\n",
    "        df_train[df_train[target_col] == 1][col].value_counts()\n",
    "        /\n",
    "        df_train[col].value_counts()\n",
    "    ).to_dict()\n",
    "    df_train[col + '_counts'] = df_train[col].apply(category_val_dict.get)\n",
    "    df_test[col + '_counts'] = df_test[col].apply(category_val_dict.get)\n",
    "    return df_train, df_test"
   ]
  },
  {
   "cell_type": "code",
   "execution_count": 13,
   "metadata": {},
   "outputs": [],
   "source": [
    "def get_woe_v1(df_train, df_test, col, target_col):\n",
    "    all_good = len(df_train[df_train[target_col] == 1][col])\n",
    "    all_bad = len(df_train[df_train[target_col] == 0][col])\n",
    "    odds_series = (\n",
    "        df_train[df_train[target_col] == 1][col].value_counts()\n",
    "        /\n",
    "        df_train[df_train[target_col] == 0][col].value_counts()\n",
    "    )\n",
    "    odds_series = odds_series / all_good * all_bad\n",
    "    category_woe_dict = np.log(odds_series).to_dict()\n",
    "    df_train[col + '_woe'] = df_train[col].apply(category_woe_dict.get)\n",
    "    df_test[col + '_woe'] = df_test[col].apply(category_woe_dict.get)\n",
    "    return df_train, df_test"
   ]
  },
  {
   "cell_type": "code",
   "execution_count": null,
   "metadata": {},
   "outputs": [],
   "source": []
  },
  {
   "cell_type": "code",
   "execution_count": 60,
   "metadata": {},
   "outputs": [],
   "source": [
    "from sklearn.model_selection import train_test_split\n",
    "y= df['target'].copy()\n",
    "data_train, data_test, y_train, y_test = train_test_split(df, y, test_size=0.2, random_state=10)"
   ]
  },
  {
   "cell_type": "code",
   "execution_count": null,
   "metadata": {},
   "outputs": [],
   "source": []
  },
  {
   "cell_type": "code",
   "execution_count": 61,
   "metadata": {},
   "outputs": [
    {
     "name": "stderr",
     "output_type": "stream",
     "text": [
      "/home/arseny/anaconda3/lib/python3.6/site-packages/ipykernel_launcher.py:11: SettingWithCopyWarning: \n",
      "A value is trying to be set on a copy of a slice from a DataFrame.\n",
      "Try using .loc[row_indexer,col_indexer] = value instead\n",
      "\n",
      "See the caveats in the documentation: http://pandas.pydata.org/pandas-docs/stable/indexing.html#indexing-view-versus-copy\n",
      "  # This is added back by InteractiveShellApp.init_path()\n",
      "/home/arseny/anaconda3/lib/python3.6/site-packages/ipykernel_launcher.py:12: SettingWithCopyWarning: \n",
      "A value is trying to be set on a copy of a slice from a DataFrame.\n",
      "Try using .loc[row_indexer,col_indexer] = value instead\n",
      "\n",
      "See the caveats in the documentation: http://pandas.pydata.org/pandas-docs/stable/indexing.html#indexing-view-versus-copy\n",
      "  if sys.path[0] == '':\n"
     ]
    }
   ],
   "source": [
    "columns_to_get_counts = [\n",
    "    'workclass', 'education', 'marital-status', 'occupation', 'relationship', 'race', 'gender' , 'native-country'\n",
    "]\n",
    "    \n",
    "for col_get_prob in columns_to_get_counts:\n",
    "    data_train, data_test = get_woe_v1(data_train, data_test, col_get_prob, 'target')"
   ]
  },
  {
   "cell_type": "code",
   "execution_count": 62,
   "metadata": {},
   "outputs": [
    {
     "name": "stdout",
     "output_type": "stream",
     "text": [
      "<class 'pandas.core.frame.DataFrame'>\n",
      "Int64Index: 39073 entries, 29685 to 17673\n",
      "Data columns (total 24 columns):\n",
      "age                   39073 non-null float64\n",
      "workclass             39073 non-null object\n",
      "fnlwgt                39073 non-null float32\n",
      "education             39073 non-null object\n",
      "educational-num       39073 non-null float32\n",
      "marital-status        39073 non-null object\n",
      "occupation            39073 non-null object\n",
      "relationship          39073 non-null object\n",
      "race                  39073 non-null object\n",
      "gender                39073 non-null object\n",
      "capital-gain          39073 non-null float32\n",
      "capital-loss          39073 non-null float32\n",
      "hours-per-week        39073 non-null float32\n",
      "native-country        39073 non-null object\n",
      "income                39073 non-null object\n",
      "target                39073 non-null int64\n",
      "workclass_woe         39050 non-null float64\n",
      "education_woe         39073 non-null float64\n",
      "marital-status_woe    39073 non-null float64\n",
      "occupation_woe        39073 non-null float64\n",
      "relationship_woe      39073 non-null float64\n",
      "race_woe              39073 non-null float64\n",
      "gender_woe            39073 non-null float64\n",
      "native-country_woe    39072 non-null float64\n",
      "dtypes: float32(5), float64(9), int64(1), object(9)\n",
      "memory usage: 6.7+ MB\n"
     ]
    }
   ],
   "source": [
    "data_train.info()"
   ]
  },
  {
   "cell_type": "code",
   "execution_count": 63,
   "metadata": {},
   "outputs": [],
   "source": [
    "#A kind of dictionaries: to encrypt woe after\n",
    "ed=data_train.groupby(['education','education_woe'])['education'].count()#.sort_values(by='education_woe', ascending=False)\n",
    "\n",
    "#ed#.sort_values(by=['education_woe', 'education'])"
   ]
  },
  {
   "cell_type": "code",
   "execution_count": 64,
   "metadata": {},
   "outputs": [],
   "source": [
    "#'workclass', 'education', 'marital-status', 'occupation', 'relationship', 'race', 'gender' , 'native-country'\n",
    "wcl=data_train.groupby(['workclass','workclass_woe'])['workclass'].count()#.sort_values(by='education_woe', ascending=False)\n",
    "ms=data_train.groupby(['marital-status','marital-status_woe'])['marital-status'].count()#.sort_values(by='education_woe', ascending=False)\n",
    "occup=data_train.groupby(['occupation','occupation_woe'])['occupation'].count()#.sort_values(by='education_woe', ascending=False)\n",
    "relsh=data_train.groupby(['relationship','relationship_woe'])['relationship'].count()#.sort_values(by='education_woe', ascending=False)\n",
    "race=data_train.groupby(['race','race_woe'])['race'].count()#.sort_values(by='education_woe', ascending=False)\n",
    "gender=data_train.groupby(['gender','gender_woe'])['gender'].count()#.sort_values(by='education_woe', ascending=False)\n",
    "nc=data_train.groupby(['native-country','native-country_woe'])['native-country'].count()#.sort_values(by='education_woe', ascending=False)\n"
   ]
  },
  {
   "cell_type": "code",
   "execution_count": 65,
   "metadata": {},
   "outputs": [
    {
     "data": {
      "text/plain": [
       "gender  gender_woe\n",
       "Female  -0.932151     12966\n",
       "Male     0.325074     26107\n",
       "Name: gender, dtype: int64"
      ]
     },
     "execution_count": 65,
     "metadata": {},
     "output_type": "execute_result"
    }
   ],
   "source": [
    "gender"
   ]
  },
  {
   "cell_type": "code",
   "execution_count": 66,
   "metadata": {},
   "outputs": [
    {
     "name": "stdout",
     "output_type": "stream",
     "text": [
      "<class 'pandas.core.frame.DataFrame'>\n",
      "Int64Index: 9769 entries, 28113 to 19731\n",
      "Data columns (total 24 columns):\n",
      "age                   9769 non-null float64\n",
      "workclass             9769 non-null object\n",
      "fnlwgt                9769 non-null float32\n",
      "education             9769 non-null object\n",
      "educational-num       9769 non-null float32\n",
      "marital-status        9769 non-null object\n",
      "occupation            9769 non-null object\n",
      "relationship          9769 non-null object\n",
      "race                  9769 non-null object\n",
      "gender                9769 non-null object\n",
      "capital-gain          9769 non-null float32\n",
      "capital-loss          9769 non-null float32\n",
      "hours-per-week        9769 non-null float32\n",
      "native-country        9769 non-null object\n",
      "income                9769 non-null object\n",
      "target                9769 non-null int64\n",
      "workclass_woe         9761 non-null float64\n",
      "education_woe         9769 non-null float64\n",
      "marital-status_woe    9769 non-null float64\n",
      "occupation_woe        9769 non-null float64\n",
      "relationship_woe      9769 non-null float64\n",
      "race_woe              9769 non-null float64\n",
      "gender_woe            9769 non-null float64\n",
      "native-country_woe    9769 non-null float64\n",
      "dtypes: float32(5), float64(9), int64(1), object(9)\n",
      "memory usage: 1.7+ MB\n"
     ]
    }
   ],
   "source": [
    "data_test.info()"
   ]
  },
  {
   "cell_type": "code",
   "execution_count": 21,
   "metadata": {},
   "outputs": [],
   "source": [
    "#8 missed values in test - drop it. about 20 in Train"
   ]
  },
  {
   "cell_type": "code",
   "execution_count": 67,
   "metadata": {},
   "outputs": [
    {
     "name": "stderr",
     "output_type": "stream",
     "text": [
      "/home/arseny/anaconda3/lib/python3.6/site-packages/ipykernel_launcher.py:1: SettingWithCopyWarning: \n",
      "A value is trying to be set on a copy of a slice from a DataFrame\n",
      "\n",
      "See the caveats in the documentation: http://pandas.pydata.org/pandas-docs/stable/indexing.html#indexing-view-versus-copy\n",
      "  \"\"\"Entry point for launching an IPython kernel.\n",
      "/home/arseny/anaconda3/lib/python3.6/site-packages/ipykernel_launcher.py:2: SettingWithCopyWarning: \n",
      "A value is trying to be set on a copy of a slice from a DataFrame\n",
      "\n",
      "See the caveats in the documentation: http://pandas.pydata.org/pandas-docs/stable/indexing.html#indexing-view-versus-copy\n",
      "  \n"
     ]
    }
   ],
   "source": [
    "data_test.dropna(inplace=True)\n",
    "data_train.dropna(inplace=True)"
   ]
  },
  {
   "cell_type": "code",
   "execution_count": 68,
   "metadata": {},
   "outputs": [],
   "source": [
    "#nan values were not deleted from Y\n",
    "y_train=data_train['target']\n",
    "y_test=data_test['target']"
   ]
  },
  {
   "cell_type": "code",
   "execution_count": 69,
   "metadata": {},
   "outputs": [
    {
     "name": "stderr",
     "output_type": "stream",
     "text": [
      "/home/arseny/anaconda3/lib/python3.6/site-packages/pandas/core/frame.py:3697: SettingWithCopyWarning: \n",
      "A value is trying to be set on a copy of a slice from a DataFrame\n",
      "\n",
      "See the caveats in the documentation: http://pandas.pydata.org/pandas-docs/stable/indexing.html#indexing-view-versus-copy\n",
      "  errors=errors)\n"
     ]
    }
   ],
   "source": [
    "data_train.drop(columns=['income' ,'workclass', 'education', 'marital-status', 'occupation', 'relationship', 'race', 'gender' , 'native-country'\n",
    "                        ], inplace=True)"
   ]
  },
  {
   "cell_type": "code",
   "execution_count": 70,
   "metadata": {},
   "outputs": [
    {
     "name": "stderr",
     "output_type": "stream",
     "text": [
      "/home/arseny/anaconda3/lib/python3.6/site-packages/pandas/core/frame.py:3697: SettingWithCopyWarning: \n",
      "A value is trying to be set on a copy of a slice from a DataFrame\n",
      "\n",
      "See the caveats in the documentation: http://pandas.pydata.org/pandas-docs/stable/indexing.html#indexing-view-versus-copy\n",
      "  errors=errors)\n"
     ]
    }
   ],
   "source": [
    "data_test.drop(columns=['income' ,'workclass', 'education', 'marital-status', 'occupation', 'relationship', 'race', 'gender' , 'native-country'\n",
    "                        ], inplace=True)"
   ]
  },
  {
   "cell_type": "code",
   "execution_count": 71,
   "metadata": {},
   "outputs": [
    {
     "data": {
      "text/html": [
       "<div>\n",
       "<style scoped>\n",
       "    .dataframe tbody tr th:only-of-type {\n",
       "        vertical-align: middle;\n",
       "    }\n",
       "\n",
       "    .dataframe tbody tr th {\n",
       "        vertical-align: top;\n",
       "    }\n",
       "\n",
       "    .dataframe thead th {\n",
       "        text-align: right;\n",
       "    }\n",
       "</style>\n",
       "<table border=\"1\" class=\"dataframe\">\n",
       "  <thead>\n",
       "    <tr style=\"text-align: right;\">\n",
       "      <th></th>\n",
       "      <th>age</th>\n",
       "      <th>fnlwgt</th>\n",
       "      <th>educational-num</th>\n",
       "      <th>capital-gain</th>\n",
       "      <th>capital-loss</th>\n",
       "      <th>hours-per-week</th>\n",
       "      <th>target</th>\n",
       "      <th>workclass_woe</th>\n",
       "      <th>education_woe</th>\n",
       "      <th>marital-status_woe</th>\n",
       "      <th>occupation_woe</th>\n",
       "      <th>relationship_woe</th>\n",
       "      <th>race_woe</th>\n",
       "      <th>gender_woe</th>\n",
       "      <th>native-country_woe</th>\n",
       "    </tr>\n",
       "  </thead>\n",
       "  <tbody>\n",
       "    <tr>\n",
       "      <th>29685</th>\n",
       "      <td>26.4</td>\n",
       "      <td>60668.0</td>\n",
       "      <td>9.0</td>\n",
       "      <td>0.0</td>\n",
       "      <td>0.0</td>\n",
       "      <td>40.0</td>\n",
       "      <td>0</td>\n",
       "      <td>1.404491</td>\n",
       "      <td>-0.514999</td>\n",
       "      <td>-1.902833</td>\n",
       "      <td>-0.093551</td>\n",
       "      <td>-3.072364</td>\n",
       "      <td>0.079868</td>\n",
       "      <td>0.325074</td>\n",
       "      <td>0.024303</td>\n",
       "    </tr>\n",
       "    <tr>\n",
       "      <th>46550</th>\n",
       "      <td>31.9</td>\n",
       "      <td>105694.0</td>\n",
       "      <td>9.0</td>\n",
       "      <td>0.0</td>\n",
       "      <td>0.0</td>\n",
       "      <td>42.0</td>\n",
       "      <td>0</td>\n",
       "      <td>-0.121830</td>\n",
       "      <td>-0.514999</td>\n",
       "      <td>0.946114</td>\n",
       "      <td>-1.500493</td>\n",
       "      <td>0.950264</td>\n",
       "      <td>0.079868</td>\n",
       "      <td>0.325074</td>\n",
       "      <td>0.024303</td>\n",
       "    </tr>\n",
       "    <tr>\n",
       "      <th>29239</th>\n",
       "      <td>39.6</td>\n",
       "      <td>355053.0</td>\n",
       "      <td>9.0</td>\n",
       "      <td>0.0</td>\n",
       "      <td>0.0</td>\n",
       "      <td>28.0</td>\n",
       "      <td>0</td>\n",
       "      <td>-0.121830</td>\n",
       "      <td>-0.514999</td>\n",
       "      <td>-1.496396</td>\n",
       "      <td>-2.009004</td>\n",
       "      <td>-1.661263</td>\n",
       "      <td>-0.850213</td>\n",
       "      <td>-0.932151</td>\n",
       "      <td>0.024303</td>\n",
       "    </tr>\n",
       "    <tr>\n",
       "      <th>392</th>\n",
       "      <td>52.8</td>\n",
       "      <td>188741.0</td>\n",
       "      <td>14.0</td>\n",
       "      <td>0.0</td>\n",
       "      <td>0.0</td>\n",
       "      <td>50.0</td>\n",
       "      <td>0</td>\n",
       "      <td>0.249515</td>\n",
       "      <td>1.360194</td>\n",
       "      <td>-1.902833</td>\n",
       "      <td>0.962767</td>\n",
       "      <td>-1.032164</td>\n",
       "      <td>0.079868</td>\n",
       "      <td>-0.932151</td>\n",
       "      <td>0.024303</td>\n",
       "    </tr>\n",
       "    <tr>\n",
       "      <th>8652</th>\n",
       "      <td>36.3</td>\n",
       "      <td>207561.0</td>\n",
       "      <td>13.0</td>\n",
       "      <td>0.0</td>\n",
       "      <td>0.0</td>\n",
       "      <td>40.0</td>\n",
       "      <td>0</td>\n",
       "      <td>-0.121830</td>\n",
       "      <td>0.807050</td>\n",
       "      <td>-1.902833</td>\n",
       "      <td>-0.646041</td>\n",
       "      <td>-1.032164</td>\n",
       "      <td>-0.850213</td>\n",
       "      <td>0.325074</td>\n",
       "      <td>0.024303</td>\n",
       "    </tr>\n",
       "  </tbody>\n",
       "</table>\n",
       "</div>"
      ],
      "text/plain": [
       "        age    fnlwgt  educational-num  capital-gain  capital-loss  \\\n",
       "29685  26.4   60668.0              9.0           0.0           0.0   \n",
       "46550  31.9  105694.0              9.0           0.0           0.0   \n",
       "29239  39.6  355053.0              9.0           0.0           0.0   \n",
       "392    52.8  188741.0             14.0           0.0           0.0   \n",
       "8652   36.3  207561.0             13.0           0.0           0.0   \n",
       "\n",
       "       hours-per-week  target  workclass_woe  education_woe  \\\n",
       "29685            40.0       0       1.404491      -0.514999   \n",
       "46550            42.0       0      -0.121830      -0.514999   \n",
       "29239            28.0       0      -0.121830      -0.514999   \n",
       "392              50.0       0       0.249515       1.360194   \n",
       "8652             40.0       0      -0.121830       0.807050   \n",
       "\n",
       "       marital-status_woe  occupation_woe  relationship_woe  race_woe  \\\n",
       "29685           -1.902833       -0.093551         -3.072364  0.079868   \n",
       "46550            0.946114       -1.500493          0.950264  0.079868   \n",
       "29239           -1.496396       -2.009004         -1.661263 -0.850213   \n",
       "392             -1.902833        0.962767         -1.032164  0.079868   \n",
       "8652            -1.902833       -0.646041         -1.032164 -0.850213   \n",
       "\n",
       "       gender_woe  native-country_woe  \n",
       "29685    0.325074            0.024303  \n",
       "46550    0.325074            0.024303  \n",
       "29239   -0.932151            0.024303  \n",
       "392     -0.932151            0.024303  \n",
       "8652     0.325074            0.024303  "
      ]
     },
     "execution_count": 71,
     "metadata": {},
     "output_type": "execute_result"
    }
   ],
   "source": [
    "data_train.head()"
   ]
  },
  {
   "cell_type": "code",
   "execution_count": 72,
   "metadata": {},
   "outputs": [
    {
     "name": "stdout",
     "output_type": "stream",
     "text": [
      "0.2437250281733429 0.23831596199646599\n"
     ]
    }
   ],
   "source": [
    "print(np.mean(y_test), np.mean(y_train))\n",
    "#распределение доходов близкое в тесте и трэйне"
   ]
  },
  {
   "cell_type": "code",
   "execution_count": 73,
   "metadata": {},
   "outputs": [],
   "source": [
    "#df['age']=1.1*df['age']"
   ]
  },
  {
   "cell_type": "code",
   "execution_count": 74,
   "metadata": {},
   "outputs": [
    {
     "data": {
      "text/html": [
       "<div>\n",
       "<style scoped>\n",
       "    .dataframe tbody tr th:only-of-type {\n",
       "        vertical-align: middle;\n",
       "    }\n",
       "\n",
       "    .dataframe tbody tr th {\n",
       "        vertical-align: top;\n",
       "    }\n",
       "\n",
       "    .dataframe thead th {\n",
       "        text-align: right;\n",
       "    }\n",
       "</style>\n",
       "<table border=\"1\" class=\"dataframe\">\n",
       "  <thead>\n",
       "    <tr style=\"text-align: right;\">\n",
       "      <th></th>\n",
       "      <th>age</th>\n",
       "      <th>workclass</th>\n",
       "      <th>fnlwgt</th>\n",
       "      <th>education</th>\n",
       "      <th>educational-num</th>\n",
       "      <th>marital-status</th>\n",
       "      <th>occupation</th>\n",
       "      <th>relationship</th>\n",
       "      <th>race</th>\n",
       "      <th>gender</th>\n",
       "      <th>capital-gain</th>\n",
       "      <th>capital-loss</th>\n",
       "      <th>hours-per-week</th>\n",
       "      <th>native-country</th>\n",
       "      <th>income</th>\n",
       "      <th>target</th>\n",
       "    </tr>\n",
       "  </thead>\n",
       "  <tbody>\n",
       "    <tr>\n",
       "      <th>0</th>\n",
       "      <td>27.5</td>\n",
       "      <td>Private</td>\n",
       "      <td>226802.0</td>\n",
       "      <td>11th</td>\n",
       "      <td>7.0</td>\n",
       "      <td>Never-married</td>\n",
       "      <td>Machine-op-inspct</td>\n",
       "      <td>Own-child</td>\n",
       "      <td>Black</td>\n",
       "      <td>Male</td>\n",
       "      <td>0.0</td>\n",
       "      <td>0.0</td>\n",
       "      <td>40.0</td>\n",
       "      <td>United-States</td>\n",
       "      <td>&lt;=50K</td>\n",
       "      <td>0</td>\n",
       "    </tr>\n",
       "    <tr>\n",
       "      <th>1</th>\n",
       "      <td>41.8</td>\n",
       "      <td>Private</td>\n",
       "      <td>89814.0</td>\n",
       "      <td>HS-grad</td>\n",
       "      <td>9.0</td>\n",
       "      <td>Married-civ-spouse</td>\n",
       "      <td>Farming-fishing</td>\n",
       "      <td>Husband</td>\n",
       "      <td>White</td>\n",
       "      <td>Male</td>\n",
       "      <td>0.0</td>\n",
       "      <td>0.0</td>\n",
       "      <td>50.0</td>\n",
       "      <td>United-States</td>\n",
       "      <td>&lt;=50K</td>\n",
       "      <td>0</td>\n",
       "    </tr>\n",
       "    <tr>\n",
       "      <th>2</th>\n",
       "      <td>30.8</td>\n",
       "      <td>Local-gov</td>\n",
       "      <td>336951.0</td>\n",
       "      <td>Assoc-acdm</td>\n",
       "      <td>12.0</td>\n",
       "      <td>Married-civ-spouse</td>\n",
       "      <td>Protective-serv</td>\n",
       "      <td>Husband</td>\n",
       "      <td>White</td>\n",
       "      <td>Male</td>\n",
       "      <td>0.0</td>\n",
       "      <td>0.0</td>\n",
       "      <td>40.0</td>\n",
       "      <td>United-States</td>\n",
       "      <td>&gt;50K</td>\n",
       "      <td>1</td>\n",
       "    </tr>\n",
       "    <tr>\n",
       "      <th>3</th>\n",
       "      <td>48.4</td>\n",
       "      <td>Private</td>\n",
       "      <td>160323.0</td>\n",
       "      <td>Some-college</td>\n",
       "      <td>10.0</td>\n",
       "      <td>Married-civ-spouse</td>\n",
       "      <td>Machine-op-inspct</td>\n",
       "      <td>Husband</td>\n",
       "      <td>Black</td>\n",
       "      <td>Male</td>\n",
       "      <td>7688.0</td>\n",
       "      <td>0.0</td>\n",
       "      <td>40.0</td>\n",
       "      <td>United-States</td>\n",
       "      <td>&gt;50K</td>\n",
       "      <td>1</td>\n",
       "    </tr>\n",
       "    <tr>\n",
       "      <th>4</th>\n",
       "      <td>19.8</td>\n",
       "      <td>?</td>\n",
       "      <td>103497.0</td>\n",
       "      <td>Some-college</td>\n",
       "      <td>10.0</td>\n",
       "      <td>Never-married</td>\n",
       "      <td>?</td>\n",
       "      <td>Own-child</td>\n",
       "      <td>White</td>\n",
       "      <td>Female</td>\n",
       "      <td>0.0</td>\n",
       "      <td>0.0</td>\n",
       "      <td>30.0</td>\n",
       "      <td>United-States</td>\n",
       "      <td>&lt;=50K</td>\n",
       "      <td>0</td>\n",
       "    </tr>\n",
       "  </tbody>\n",
       "</table>\n",
       "</div>"
      ],
      "text/plain": [
       "    age  workclass    fnlwgt     education  educational-num  \\\n",
       "0  27.5    Private  226802.0          11th              7.0   \n",
       "1  41.8    Private   89814.0       HS-grad              9.0   \n",
       "2  30.8  Local-gov  336951.0    Assoc-acdm             12.0   \n",
       "3  48.4    Private  160323.0  Some-college             10.0   \n",
       "4  19.8          ?  103497.0  Some-college             10.0   \n",
       "\n",
       "       marital-status         occupation relationship   race  gender  \\\n",
       "0       Never-married  Machine-op-inspct    Own-child  Black    Male   \n",
       "1  Married-civ-spouse    Farming-fishing      Husband  White    Male   \n",
       "2  Married-civ-spouse    Protective-serv      Husband  White    Male   \n",
       "3  Married-civ-spouse  Machine-op-inspct      Husband  Black    Male   \n",
       "4       Never-married                  ?    Own-child  White  Female   \n",
       "\n",
       "   capital-gain  capital-loss  hours-per-week native-country income  target  \n",
       "0           0.0           0.0            40.0  United-States  <=50K       0  \n",
       "1           0.0           0.0            50.0  United-States  <=50K       0  \n",
       "2           0.0           0.0            40.0  United-States   >50K       1  \n",
       "3        7688.0           0.0            40.0  United-States   >50K       1  \n",
       "4           0.0           0.0            30.0  United-States  <=50K       0  "
      ]
     },
     "execution_count": 74,
     "metadata": {},
     "output_type": "execute_result"
    }
   ],
   "source": [
    "df.head()"
   ]
  },
  {
   "cell_type": "code",
   "execution_count": 75,
   "metadata": {},
   "outputs": [
    {
     "name": "stderr",
     "output_type": "stream",
     "text": [
      "/home/arseny/anaconda3/lib/python3.6/site-packages/sklearn/preprocessing/data.py:323: DataConversionWarning: Data with input dtype float32, int64, float64 were all converted to float64 by MinMaxScaler.\n",
      "  return self.partial_fit(X, y)\n"
     ]
    }
   ],
   "source": [
    "from sklearn.preprocessing import MinMaxScaler\n",
    "scaler = MinMaxScaler()\n",
    "scaler.fit(data_train)\n",
    "MinMaxScaler(copy=True, feature_range=(0, 1))\n",
    "#data_train=scaler.transform(data_train)\n",
    "#data_test=\n",
    "data_train_sc=pd.DataFrame(scaler.transform(data_train) \\\n",
    "                           ,columns=data_train.columns \\\n",
    "                          )\n",
    "data_test_sc=pd.DataFrame(scaler.transform(data_test),columns=data_test.columns)\n"
   ]
  },
  {
   "cell_type": "code",
   "execution_count": 78,
   "metadata": {},
   "outputs": [],
   "source": [
    "# For some reasons scale separetely features wich were integers\n",
    "#mms = MinMaxScaler()\n",
    "#mms.fit(data_train[['age', 'fnlwgt', 'educational-num', 'capital-gain', 'capital-loss', 'hours-per-week']])\n",
    "\n",
    "#data_train[['age', 'fnlwgt', 'educational-num', 'capital-gain', 'capital-loss', 'hours-per-week']]= \\\n",
    "#    mms.transform(data_train[['age', 'fnlwgt', 'educational-num', 'capital-gain', 'capital-loss', 'hours-per-week']])\n",
    "\n",
    "#data_test[['age', 'fnlwgt', 'educational-num', 'capital-gain', 'capital-loss', 'hours-per-week']]= \\\n",
    "#    mms.transform(data_test[['age', 'fnlwgt', 'educational-num', 'capital-gain', 'capital-loss', 'hours-per-week']])\n"
   ]
  },
  {
   "cell_type": "code",
   "execution_count": 79,
   "metadata": {},
   "outputs": [
    {
     "data": {
      "text/html": [
       "<div>\n",
       "<style scoped>\n",
       "    .dataframe tbody tr th:only-of-type {\n",
       "        vertical-align: middle;\n",
       "    }\n",
       "\n",
       "    .dataframe tbody tr th {\n",
       "        vertical-align: top;\n",
       "    }\n",
       "\n",
       "    .dataframe thead th {\n",
       "        text-align: right;\n",
       "    }\n",
       "</style>\n",
       "<table border=\"1\" class=\"dataframe\">\n",
       "  <thead>\n",
       "    <tr style=\"text-align: right;\">\n",
       "      <th></th>\n",
       "      <th>age</th>\n",
       "      <th>fnlwgt</th>\n",
       "      <th>educational-num</th>\n",
       "      <th>capital-gain</th>\n",
       "      <th>capital-loss</th>\n",
       "      <th>hours-per-week</th>\n",
       "      <th>target</th>\n",
       "      <th>workclass_woe</th>\n",
       "      <th>education_woe</th>\n",
       "      <th>marital-status_woe</th>\n",
       "      <th>occupation_woe</th>\n",
       "      <th>relationship_woe</th>\n",
       "      <th>race_woe</th>\n",
       "      <th>gender_woe</th>\n",
       "      <th>native-country_woe</th>\n",
       "    </tr>\n",
       "  </thead>\n",
       "  <tbody>\n",
       "    <tr>\n",
       "      <th>count</th>\n",
       "      <td>39049.000000</td>\n",
       "      <td>39049.000000</td>\n",
       "      <td>39049.000000</td>\n",
       "      <td>39049.000000</td>\n",
       "      <td>39049.000000</td>\n",
       "      <td>39049.000000</td>\n",
       "      <td>39049.000000</td>\n",
       "      <td>39049.000000</td>\n",
       "      <td>39049.000000</td>\n",
       "      <td>39049.000000</td>\n",
       "      <td>39049.000000</td>\n",
       "      <td>39049.000000</td>\n",
       "      <td>39049.000000</td>\n",
       "      <td>39049.000000</td>\n",
       "      <td>39049.000000</td>\n",
       "    </tr>\n",
       "    <tr>\n",
       "      <th>mean</th>\n",
       "      <td>0.296577</td>\n",
       "      <td>0.120693</td>\n",
       "      <td>0.605033</td>\n",
       "      <td>0.010682</td>\n",
       "      <td>0.020067</td>\n",
       "      <td>0.402315</td>\n",
       "      <td>0.238316</td>\n",
       "      <td>0.422589</td>\n",
       "      <td>0.548042</td>\n",
       "      <td>0.498727</td>\n",
       "      <td>0.707792</td>\n",
       "      <td>0.604389</td>\n",
       "      <td>0.799110</td>\n",
       "      <td>0.668161</td>\n",
       "      <td>0.702244</td>\n",
       "    </tr>\n",
       "    <tr>\n",
       "      <th>std</th>\n",
       "      <td>0.187551</td>\n",
       "      <td>0.071578</td>\n",
       "      <td>0.171799</td>\n",
       "      <td>0.073873</td>\n",
       "      <td>0.092636</td>\n",
       "      <td>0.126097</td>\n",
       "      <td>0.426059</td>\n",
       "      <td>0.165393</td>\n",
       "      <td>0.171820</td>\n",
       "      <td>0.445181</td>\n",
       "      <td>0.219382</td>\n",
       "      <td>0.365404</td>\n",
       "      <td>0.275259</td>\n",
       "      <td>0.470880</td>\n",
       "      <td>0.102356</td>\n",
       "    </tr>\n",
       "    <tr>\n",
       "      <th>min</th>\n",
       "      <td>0.000000</td>\n",
       "      <td>0.000000</td>\n",
       "      <td>0.000000</td>\n",
       "      <td>0.000000</td>\n",
       "      <td>0.000000</td>\n",
       "      <td>0.000000</td>\n",
       "      <td>0.000000</td>\n",
       "      <td>0.000000</td>\n",
       "      <td>0.000000</td>\n",
       "      <td>0.000000</td>\n",
       "      <td>0.000000</td>\n",
       "      <td>0.000000</td>\n",
       "      <td>0.000000</td>\n",
       "      <td>0.000000</td>\n",
       "      <td>0.000000</td>\n",
       "    </tr>\n",
       "    <tr>\n",
       "      <th>25%</th>\n",
       "      <td>0.150685</td>\n",
       "      <td>0.071646</td>\n",
       "      <td>0.533333</td>\n",
       "      <td>0.000000</td>\n",
       "      <td>0.000000</td>\n",
       "      <td>0.397959</td>\n",
       "      <td>0.000000</td>\n",
       "      <td>0.389102</td>\n",
       "      <td>0.483008</td>\n",
       "      <td>0.000000</td>\n",
       "      <td>0.579194</td>\n",
       "      <td>0.338788</td>\n",
       "      <td>0.894167</td>\n",
       "      <td>0.000000</td>\n",
       "      <td>0.717856</td>\n",
       "    </tr>\n",
       "    <tr>\n",
       "      <th>50%</th>\n",
       "      <td>0.273973</td>\n",
       "      <td>0.112871</td>\n",
       "      <td>0.600000</td>\n",
       "      <td>0.000000</td>\n",
       "      <td>0.000000</td>\n",
       "      <td>0.397959</td>\n",
       "      <td>0.000000</td>\n",
       "      <td>0.389102</td>\n",
       "      <td>0.524804</td>\n",
       "      <td>0.290007</td>\n",
       "      <td>0.738881</td>\n",
       "      <td>0.489827</td>\n",
       "      <td>0.894167</td>\n",
       "      <td>1.000000</td>\n",
       "      <td>0.717856</td>\n",
       "    </tr>\n",
       "    <tr>\n",
       "      <th>75%</th>\n",
       "      <td>0.424658</td>\n",
       "      <td>0.153545</td>\n",
       "      <td>0.733333</td>\n",
       "      <td>0.000000</td>\n",
       "      <td>0.000000</td>\n",
       "      <td>0.448980</td>\n",
       "      <td>0.000000</td>\n",
       "      <td>0.389102</td>\n",
       "      <td>0.602775</td>\n",
       "      <td>0.971659</td>\n",
       "      <td>0.975568</td>\n",
       "      <td>0.965783</td>\n",
       "      <td>0.894167</td>\n",
       "      <td>1.000000</td>\n",
       "      <td>0.717856</td>\n",
       "    </tr>\n",
       "    <tr>\n",
       "      <th>max</th>\n",
       "      <td>1.000000</td>\n",
       "      <td>1.000000</td>\n",
       "      <td>1.000000</td>\n",
       "      <td>1.000000</td>\n",
       "      <td>1.000000</td>\n",
       "      <td>1.000000</td>\n",
       "      <td>1.000000</td>\n",
       "      <td>1.000000</td>\n",
       "      <td>1.000000</td>\n",
       "      <td>1.000000</td>\n",
       "      <td>1.000000</td>\n",
       "      <td>1.000000</td>\n",
       "      <td>1.000000</td>\n",
       "      <td>1.000000</td>\n",
       "      <td>1.000000</td>\n",
       "    </tr>\n",
       "  </tbody>\n",
       "</table>\n",
       "</div>"
      ],
      "text/plain": [
       "                age        fnlwgt  educational-num  capital-gain  \\\n",
       "count  39049.000000  39049.000000     39049.000000  39049.000000   \n",
       "mean       0.296577      0.120693         0.605033      0.010682   \n",
       "std        0.187551      0.071578         0.171799      0.073873   \n",
       "min        0.000000      0.000000         0.000000      0.000000   \n",
       "25%        0.150685      0.071646         0.533333      0.000000   \n",
       "50%        0.273973      0.112871         0.600000      0.000000   \n",
       "75%        0.424658      0.153545         0.733333      0.000000   \n",
       "max        1.000000      1.000000         1.000000      1.000000   \n",
       "\n",
       "       capital-loss  hours-per-week        target  workclass_woe  \\\n",
       "count  39049.000000    39049.000000  39049.000000   39049.000000   \n",
       "mean       0.020067        0.402315      0.238316       0.422589   \n",
       "std        0.092636        0.126097      0.426059       0.165393   \n",
       "min        0.000000        0.000000      0.000000       0.000000   \n",
       "25%        0.000000        0.397959      0.000000       0.389102   \n",
       "50%        0.000000        0.397959      0.000000       0.389102   \n",
       "75%        0.000000        0.448980      0.000000       0.389102   \n",
       "max        1.000000        1.000000      1.000000       1.000000   \n",
       "\n",
       "       education_woe  marital-status_woe  occupation_woe  relationship_woe  \\\n",
       "count   39049.000000        39049.000000    39049.000000      39049.000000   \n",
       "mean        0.548042            0.498727        0.707792          0.604389   \n",
       "std         0.171820            0.445181        0.219382          0.365404   \n",
       "min         0.000000            0.000000        0.000000          0.000000   \n",
       "25%         0.483008            0.000000        0.579194          0.338788   \n",
       "50%         0.524804            0.290007        0.738881          0.489827   \n",
       "75%         0.602775            0.971659        0.975568          0.965783   \n",
       "max         1.000000            1.000000        1.000000          1.000000   \n",
       "\n",
       "           race_woe    gender_woe  native-country_woe  \n",
       "count  39049.000000  39049.000000        39049.000000  \n",
       "mean       0.799110      0.668161            0.702244  \n",
       "std        0.275259      0.470880            0.102356  \n",
       "min        0.000000      0.000000            0.000000  \n",
       "25%        0.894167      0.000000            0.717856  \n",
       "50%        0.894167      1.000000            0.717856  \n",
       "75%        0.894167      1.000000            0.717856  \n",
       "max        1.000000      1.000000            1.000000  "
      ]
     },
     "execution_count": 79,
     "metadata": {},
     "output_type": "execute_result"
    }
   ],
   "source": [
    "data_train_sc.describe()"
   ]
  },
  {
   "cell_type": "code",
   "execution_count": null,
   "metadata": {},
   "outputs": [],
   "source": []
  },
  {
   "cell_type": "code",
   "execution_count": 81,
   "metadata": {},
   "outputs": [
    {
     "data": {
      "text/plain": [
       "<matplotlib.axes._subplots.AxesSubplot at 0x7f54f713e9e8>"
      ]
     },
     "execution_count": 81,
     "metadata": {},
     "output_type": "execute_result"
    },
    {
     "data": {
      "image/png": "[encoded data removed]",
      "text/plain": [
       "<Figure size 1130.4x883.44 with 2 Axes>"
      ]
     },
     "metadata": {},
     "output_type": "display_data"
    }
   ],
   "source": [
    "corr=data_train_sc.corr()\n",
    "\n",
    "#import matplotlib.pyplot as plt\n",
    "#import seaborn as sns\n",
    "\n",
    "fig, ax = plt.subplots(figsize=(15.7, 12.27) )        # Sample figsize in inches\n",
    "\n",
    "sns.heatmap(corr, annot=True,\n",
    "            xticklabels=corr.columns.values,\n",
    "            yticklabels=corr.columns.values)"
   ]
  },
  {
   "cell_type": "code",
   "execution_count": null,
   "metadata": {},
   "outputs": [],
   "source": [
    "# There is a strong correlation between relationship and martial-status. Education and educational num\n",
    "# Drop educational-num and relationship"
   ]
  },
  {
   "cell_type": "code",
   "execution_count": 89,
   "metadata": {},
   "outputs": [
    {
     "name": "stderr",
     "output_type": "stream",
     "text": [
      "/home/arseny/anaconda3/lib/python3.6/site-packages/statsmodels/nonparametric/kde.py:488: RuntimeWarning: invalid value encountered in true_divide\n",
      "  binned = fast_linbin(X, a, b, gridsize) / (delta * nobs)\n",
      "/home/arseny/anaconda3/lib/python3.6/site-packages/statsmodels/nonparametric/kdetools.py:34: RuntimeWarning: invalid value encountered in double_scalars\n",
      "  FAC1 = 2*(np.pi*bw/RANGE)**2\n"
     ]
    },
    {
     "data": {
      "text/plain": [
       "<function matplotlib.pyplot.show(*args, **kw)>"
      ]
     },
     "execution_count": 89,
     "metadata": {},
     "output_type": "execute_result"
    },
    {
     "data": {
      "image/png": "[encoded data removed]",
      "text/plain": [
       "<Figure size 956.975x900 with 30 Axes>"
      ]
     },
     "metadata": {},
     "output_type": "display_data"
    }
   ],
   "source": [
    "sns.set(style='ticks')\n",
    "sns.pairplot(data_train_sc[['age', 'fnlwgt', \\\n",
    "    # 'capital-gain','workclass_woe', \\\n",
    "                            #'capital-loss', 'hours-per-week', \\\n",
    "                            'target', \\\n",
    "                            'education_woe', 'marital-status_woe',  \\\n",
    "                            \n",
    "                            #'educational-num', 'relationship_woe',  \\\n",
    "                            \n",
    "                            #'occupation_woe', 'race_woe', 'gender_woe','native-country_woe' \\\n",
    "                               ]]\n",
    "                 , palette=('g', 'r'), hue='target')\n",
    "plt.show"
   ]
  },
  {
   "cell_type": "code",
   "execution_count": null,
   "metadata": {},
   "outputs": [],
   "source": [
    "#визуально понятно, что с некоторым успехом можно отделить уровни дохода, \n",
    "#например, проведя наклонную черту на графике fnwlwgt vs education_woe "
   ]
  },
  {
   "cell_type": "code",
   "execution_count": 92,
   "metadata": {},
   "outputs": [],
   "source": [
    "data_train_sc.drop(columns=['target'], inplace=True)\n",
    "data_test_sc.drop(columns=['target'], inplace=True)"
   ]
  },
  {
   "cell_type": "code",
   "execution_count": 183,
   "metadata": {},
   "outputs": [
    {
     "name": "stderr",
     "output_type": "stream",
     "text": [
      "/home/arseny/anaconda3/lib/python3.6/site-packages/sklearn/linear_model/logistic.py:432: FutureWarning: Default solver will be changed to 'lbfgs' in 0.22. Specify a solver to silence this warning.\n",
      "  FutureWarning)\n"
     ]
    },
    {
     "data": {
      "text/plain": [
       "array([[1.48939676e+00, 1.08044902e+00, 2.63769857e+00, 1.89248668e+01,\n",
       "        2.67050556e+00, 2.16676176e+00, 3.25820998e-01, 1.27081094e+00,\n",
       "        1.58077194e+00, 2.32383010e+00, 1.91536463e+00, 1.98671278e-01,\n",
       "        1.52117238e-02, 1.14640455e+00]])"
      ]
     },
     "execution_count": 183,
     "metadata": {},
     "output_type": "execute_result"
    }
   ],
   "source": [
    "from sklearn import linear_model\n",
    "from sklearn.linear_model import LogisticRegression\n",
    "\n",
    "reg = LogisticRegression()\n",
    "reg.fit(data_train_sc, y_train)\n",
    "LogisticRegression(fit_intercept=True, n_jobs=None)\n",
    "reg.coef_\n"
   ]
  },
  {
   "cell_type": "code",
   "execution_count": 184,
   "metadata": {},
   "outputs": [],
   "source": [
    "Accuracy=1-sum(abs(reg.predict(data_test_sc)-y_test))/len(y_test)\n",
    "\n",
    "Precision=sum(reg.predict(data_test_sc)*y_test)/ \\\n",
    "    (sum(abs(reg.predict(data_test_sc)*y_test))+sum(reg.predict(data_test_sc)*(1-y_test)))\n",
    "\n",
    "Recall=sum(reg.predict(data_test_sc)*y_test)/ \\\n",
    "    (sum(reg.predict(data_test_sc)*y_test)+sum((1-reg.predict(data_test_sc))*y_test))\n",
    "\n",
    "F1=2*Precision*Recall/(Precision+Recall)\n",
    "\n"
   ]
  },
  {
   "cell_type": "code",
   "execution_count": 97,
   "metadata": {
    "scrolled": true
   },
   "outputs": [
    {
     "data": {
      "text/plain": [
       "array([[6870,  512],\n",
       "       [1031, 1348]])"
      ]
     },
     "execution_count": 97,
     "metadata": {},
     "output_type": "execute_result"
    }
   ],
   "source": [
    "from sklearn.metrics import confusion_matrix\n",
    "confusion_matrix(y_test, reg.predict(data_test_sc))\n"
   ]
  },
  {
   "cell_type": "code",
   "execution_count": 111,
   "metadata": {},
   "outputs": [
    {
     "data": {
      "text/html": [
       "<div>\n",
       "<style scoped>\n",
       "    .dataframe tbody tr th:only-of-type {\n",
       "        vertical-align: middle;\n",
       "    }\n",
       "\n",
       "    .dataframe tbody tr th {\n",
       "        vertical-align: top;\n",
       "    }\n",
       "\n",
       "    .dataframe thead th {\n",
       "        text-align: right;\n",
       "    }\n",
       "</style>\n",
       "<table border=\"1\" class=\"dataframe\">\n",
       "  <thead>\n",
       "    <tr style=\"text-align: right;\">\n",
       "      <th></th>\n",
       "      <th>y_1</th>\n",
       "      <th>y_0</th>\n",
       "    </tr>\n",
       "  </thead>\n",
       "  <tbody>\n",
       "    <tr>\n",
       "      <th>pred_1</th>\n",
       "      <td>1348</td>\n",
       "      <td>512</td>\n",
       "    </tr>\n",
       "    <tr>\n",
       "      <th>pred_0</th>\n",
       "      <td>1031</td>\n",
       "      <td>6870</td>\n",
       "    </tr>\n",
       "  </tbody>\n",
       "</table>\n",
       "</div>"
      ],
      "text/plain": [
       "         y_1   y_0\n",
       "pred_1  1348   512\n",
       "pred_0  1031  6870"
      ]
     },
     "execution_count": 111,
     "metadata": {},
     "output_type": "execute_result"
    }
   ],
   "source": [
    "tp=sum(reg.predict(data_test_sc)*y_test)\n",
    "tn=sum((1-reg.predict(data_test_sc))*(1-y_test))\n",
    "fp=sum(reg.predict(data_test_sc)*(1-y_test))\n",
    "fn=sum((1-reg.predict(data_test_sc))*y_test)\n",
    "conv_d=[[tp, fp],\n",
    "[fn, tn]]\n",
    "y_distr_vs_pred=pd.DataFrame(conv_d, columns=['y_1','y_0'], index=['pred_1', 'pred_0'])\n",
    "y_distr_vs_pred"
   ]
  },
  {
   "cell_type": "code",
   "execution_count": null,
   "metadata": {},
   "outputs": [],
   "source": [
    "y_d=[[sum(y_test), len(y_test)-sum(y_test)],\n",
    "[sum(reg.predict(data_test_sc)), len(y_test)-sum(reg.predict(data_test_sc))]]\n",
    "y_distr_vs_pred=pd.DataFrame(y_d, columns=['1','0'], index=['y', 'pred'])\n",
    "y_distr_vs_pred"
   ]
  },
  {
   "cell_type": "code",
   "execution_count": 99,
   "metadata": {
    "scrolled": true
   },
   "outputs": [
    {
     "name": "stdout",
     "output_type": "stream",
     "text": [
      "0.8419219342280504 0.7247311827956989 0.5666246321984026 0.6359990563812219\n"
     ]
    }
   ],
   "source": [
    "print(Accuracy, Precision, Recall, F1)"
   ]
  },
  {
   "cell_type": "code",
   "execution_count": 185,
   "metadata": {},
   "outputs": [],
   "source": [
    "all_columns=data_train_sc.columns\n",
    "predictors=all_columns"
   ]
  },
  {
   "cell_type": "code",
   "execution_count": 186,
   "metadata": {},
   "outputs": [],
   "source": [
    "col = ['model', 'Accuracy', 'Precision', 'Recall', 'F1-Score', 'intercept'] \\\n",
    "    + ['coefx_%s' % i for i in all_columns]\n",
    "\n",
    "#ind = ['model_pow_%d' % i for i in range(1, 16)]\n",
    "ind = [i for i in range(17)]\n",
    "coef_matrix_simple = pd.DataFrame(index=ind, columns=col)"
   ]
  },
  {
   "cell_type": "code",
   "execution_count": 187,
   "metadata": {},
   "outputs": [],
   "source": [
    "coef_matrix_simple.iloc[0, 0 ]='logreg_%d' % (len(predictors)-1) +'_factors'\n",
    "coef_matrix_simple.iloc[0, 1 ]=Accuracy\n",
    "coef_matrix_simple.iloc[0, 2 ]=Precision\n",
    "coef_matrix_simple.iloc[0, 3 ]=Recall\n",
    "coef_matrix_simple.iloc[0, 4 ]=F1\n",
    "coef_matrix_simple.iloc[0, 5 ]=reg.intercept_[0]\n",
    "#for i in range(len(predictors)):\n",
    "for i in range(len(all_columns)):\n",
    "    #coef_matrix_simple.iloc[i - 1, 0:i + 2] = linreg.coef_[i]\n",
    "    coef_matrix_simple.iloc[0, col.index('coefx_'+all_columns[i])] = reg.coef_[0][i]\n",
    "    #print(col.index('coefx_'+all_columns[i]), reg.coef_[0][i])"
   ]
  },
  {
   "cell_type": "code",
   "execution_count": 118,
   "metadata": {
    "scrolled": true
   },
   "outputs": [
    {
     "data": {
      "text/html": [
       "<div>\n",
       "<style scoped>\n",
       "    .dataframe tbody tr th:only-of-type {\n",
       "        vertical-align: middle;\n",
       "    }\n",
       "\n",
       "    .dataframe tbody tr th {\n",
       "        vertical-align: top;\n",
       "    }\n",
       "\n",
       "    .dataframe thead th {\n",
       "        text-align: right;\n",
       "    }\n",
       "</style>\n",
       "<table border=\"1\" class=\"dataframe\">\n",
       "  <thead>\n",
       "    <tr style=\"text-align: right;\">\n",
       "      <th></th>\n",
       "      <th>model</th>\n",
       "      <th>Accuracy</th>\n",
       "      <th>Precision</th>\n",
       "      <th>Recall</th>\n",
       "      <th>F1-Score</th>\n",
       "      <th>intercept</th>\n",
       "      <th>coefx_age</th>\n",
       "      <th>coefx_fnlwgt</th>\n",
       "      <th>coefx_educational-num</th>\n",
       "      <th>coefx_capital-gain</th>\n",
       "      <th>coefx_capital-loss</th>\n",
       "      <th>coefx_hours-per-week</th>\n",
       "      <th>coefx_workclass_woe</th>\n",
       "      <th>coefx_education_woe</th>\n",
       "      <th>coefx_marital-status_woe</th>\n",
       "      <th>coefx_occupation_woe</th>\n",
       "      <th>coefx_relationship_woe</th>\n",
       "      <th>coefx_race_woe</th>\n",
       "      <th>coefx_gender_woe</th>\n",
       "      <th>coefx_native-country_woe</th>\n",
       "    </tr>\n",
       "  </thead>\n",
       "  <tbody>\n",
       "    <tr>\n",
       "      <th>0</th>\n",
       "      <td>logreg_13_factors</td>\n",
       "      <td>0.841922</td>\n",
       "      <td>0.724731</td>\n",
       "      <td>0.566625</td>\n",
       "      <td>0.635999</td>\n",
       "      <td>-10.7136</td>\n",
       "      <td>1.4894</td>\n",
       "      <td>1.08045</td>\n",
       "      <td>2.6377</td>\n",
       "      <td>18.9249</td>\n",
       "      <td>2.67051</td>\n",
       "      <td>2.16676</td>\n",
       "      <td>0.325821</td>\n",
       "      <td>1.27081</td>\n",
       "      <td>1.58077</td>\n",
       "      <td>2.32383</td>\n",
       "      <td>1.91536</td>\n",
       "      <td>0.198671</td>\n",
       "      <td>0.0152117</td>\n",
       "      <td>1.1464</td>\n",
       "    </tr>\n",
       "  </tbody>\n",
       "</table>\n",
       "</div>"
      ],
      "text/plain": [
       "               model  Accuracy Precision    Recall  F1-Score intercept  \\\n",
       "0  logreg_13_factors  0.841922  0.724731  0.566625  0.635999  -10.7136   \n",
       "\n",
       "  coefx_age coefx_fnlwgt coefx_educational-num coefx_capital-gain  \\\n",
       "0    1.4894      1.08045                2.6377            18.9249   \n",
       "\n",
       "  coefx_capital-loss coefx_hours-per-week coefx_workclass_woe  \\\n",
       "0            2.67051              2.16676            0.325821   \n",
       "\n",
       "  coefx_education_woe coefx_marital-status_woe coefx_occupation_woe  \\\n",
       "0             1.27081                  1.58077              2.32383   \n",
       "\n",
       "  coefx_relationship_woe coefx_race_woe coefx_gender_woe  \\\n",
       "0                1.91536       0.198671        0.0152117   \n",
       "\n",
       "  coefx_native-country_woe  \n",
       "0                   1.1464  "
      ]
     },
     "execution_count": 118,
     "metadata": {},
     "output_type": "execute_result"
    }
   ],
   "source": [
    "coef_matrix_simple.head(1)"
   ]
  },
  {
   "cell_type": "code",
   "execution_count": 147,
   "metadata": {},
   "outputs": [
    {
     "data": {
      "text/plain": [
       "['age',\n",
       " 'fnlwgt',\n",
       " 'capital-gain',\n",
       " 'capital-loss',\n",
       " 'hours-per-week',\n",
       " 'workclass_woe',\n",
       " 'education_woe',\n",
       " 'marital-status_woe',\n",
       " 'occupation_woe',\n",
       " 'relationship_woe',\n",
       " 'race_woe',\n",
       " 'gender_woe',\n",
       " 'native-country_woe']"
      ]
     },
     "execution_count": 147,
     "metadata": {},
     "output_type": "execute_result"
    }
   ],
   "source": [
    "predictors"
   ]
  },
  {
   "cell_type": "code",
   "execution_count": 188,
   "metadata": {},
   "outputs": [
    {
     "name": "stderr",
     "output_type": "stream",
     "text": [
      "/home/arseny/anaconda3/lib/python3.6/site-packages/sklearn/linear_model/logistic.py:432: FutureWarning: Default solver will be changed to 'lbfgs' in 0.22. Specify a solver to silence this warning.\n",
      "  FutureWarning)\n"
     ]
    },
    {
     "data": {
      "text/plain": [
       "array([[ 1.53821727,  1.09776173,  2.58204626, 18.96420237,  2.7019416 ,\n",
       "         2.2199274 ,  0.32465196,  1.40331113,  2.8352858 ,  2.35425422,\n",
       "         0.20817159,  0.05758169,  1.18085372]])"
      ]
     },
     "execution_count": 188,
     "metadata": {},
     "output_type": "execute_result"
    }
   ],
   "source": [
    "predictors=list(predictors)\n",
    "#predictors.remove('educational-num')\n",
    "predictors.remove('relationship_woe')\n",
    "\n",
    "\n",
    "reg.fit(data_train_sc[predictors], y_train)\n",
    "LogisticRegression(fit_intercept=True, n_jobs=None)\n",
    "reg.coef_"
   ]
  },
  {
   "cell_type": "code",
   "execution_count": 149,
   "metadata": {},
   "outputs": [
    {
     "data": {
      "text/plain": [
       "['age',\n",
       " 'fnlwgt',\n",
       " 'capital-gain',\n",
       " 'capital-loss',\n",
       " 'hours-per-week',\n",
       " 'workclass_woe',\n",
       " 'education_woe',\n",
       " 'marital-status_woe',\n",
       " 'occupation_woe',\n",
       " 'race_woe',\n",
       " 'gender_woe',\n",
       " 'native-country_woe']"
      ]
     },
     "execution_count": 149,
     "metadata": {},
     "output_type": "execute_result"
    }
   ],
   "source": [
    "list(predictors)"
   ]
  },
  {
   "cell_type": "code",
   "execution_count": 189,
   "metadata": {},
   "outputs": [],
   "source": [
    "def log_reg(X_train, Y_tr, X_test, Y_te, predics):\n",
    "    reg = LogisticRegression()\n",
    "    reg.fit(X_train[predics], Y_tr)\n",
    "    LogisticRegression(fit_intercept=True, n_jobs=None)\n",
    "    \n",
    "    ret=[]\n",
    "    Accuracy=1-sum(abs(reg.predict(X_test[predics])-Y_te))/len(Y_te)\n",
    "    \n",
    "    Precision=sum(reg.predict(X_test[predics])*Y_te)/ \\\n",
    "        (sum(abs(reg.predict(X_test[predics])*Y_te))+sum(reg.predict(X_test[predics])*(1-Y_te)))\n",
    "    \n",
    "    Recall=sum(reg.predict(X_test[predics])*Y_te)/ \\\n",
    "    (sum(reg.predict(X_test[predics])*Y_te)+sum((1-reg.predict(X_test[predics]))*Y_te))\n",
    "    \n",
    "    F1=2*Precision*Recall/(Precision+Recall)\n",
    "    name='logreg_%d' % (len(predics)-1) +'_factors'\n",
    "    ret.extend([name, Accuracy, Precision, Recall, F1, reg.intercept_[0]])\n",
    "    #for i in range(len(predics)):\n",
    "        #coef_matrix_simple.iloc[i - 1, 0:i + 2] = linreg.coef_[i]\n",
    "        #ret.extend(reg.coef_[0][i])\n",
    "    ret.extend(reg.coef_[0])\n",
    "\n",
    "    return ret"
   ]
  },
  {
   "cell_type": "code",
   "execution_count": 190,
   "metadata": {},
   "outputs": [
    {
     "name": "stderr",
     "output_type": "stream",
     "text": [
      "/home/arseny/anaconda3/lib/python3.6/site-packages/sklearn/linear_model/logistic.py:432: FutureWarning: Default solver will be changed to 'lbfgs' in 0.22. Specify a solver to silence this warning.\n",
      "  FutureWarning)\n"
     ]
    },
    {
     "data": {
      "text/plain": [
       "['logreg_12_factors',\n",
       " 0.8408974490318615,\n",
       " 0.7239696312364425,\n",
       " 0.5611601513240857,\n",
       " 0.632251953587497,\n",
       " -10.275860409961897]"
      ]
     },
     "execution_count": 190,
     "metadata": {},
     "output_type": "execute_result"
    }
   ],
   "source": [
    "lr=log_reg(data_train_sc, y_train, data_test_sc, y_test, predictors)\n",
    "lr[0:6]"
   ]
  },
  {
   "cell_type": "code",
   "execution_count": 191,
   "metadata": {},
   "outputs": [],
   "source": [
    "coef_matrix_simple.iloc[1, 0:6 ]=lr[0:6]"
   ]
  },
  {
   "cell_type": "code",
   "execution_count": 192,
   "metadata": {},
   "outputs": [],
   "source": [
    "for i in range(len(predictors)):\n",
    "    #coef_matrix_simple.iloc[i - 1, 0:i + 2] = linreg.coef_[i]\n",
    "    coef_matrix_simple.iloc[1, col.index('coefx_'+predictors[i])] = reg.coef_[0][i]"
   ]
  },
  {
   "cell_type": "code",
   "execution_count": 193,
   "metadata": {},
   "outputs": [
    {
     "data": {
      "text/html": [
       "<div>\n",
       "<style scoped>\n",
       "    .dataframe tbody tr th:only-of-type {\n",
       "        vertical-align: middle;\n",
       "    }\n",
       "\n",
       "    .dataframe tbody tr th {\n",
       "        vertical-align: top;\n",
       "    }\n",
       "\n",
       "    .dataframe thead th {\n",
       "        text-align: right;\n",
       "    }\n",
       "</style>\n",
       "<table border=\"1\" class=\"dataframe\">\n",
       "  <thead>\n",
       "    <tr style=\"text-align: right;\">\n",
       "      <th></th>\n",
       "      <th>model</th>\n",
       "      <th>Accuracy</th>\n",
       "      <th>Precision</th>\n",
       "      <th>Recall</th>\n",
       "      <th>F1-Score</th>\n",
       "      <th>intercept</th>\n",
       "      <th>coefx_age</th>\n",
       "      <th>coefx_fnlwgt</th>\n",
       "      <th>coefx_educational-num</th>\n",
       "      <th>coefx_capital-gain</th>\n",
       "      <th>coefx_capital-loss</th>\n",
       "      <th>coefx_hours-per-week</th>\n",
       "      <th>coefx_workclass_woe</th>\n",
       "      <th>coefx_education_woe</th>\n",
       "      <th>coefx_marital-status_woe</th>\n",
       "      <th>coefx_occupation_woe</th>\n",
       "      <th>coefx_relationship_woe</th>\n",
       "      <th>coefx_race_woe</th>\n",
       "      <th>coefx_gender_woe</th>\n",
       "      <th>coefx_native-country_woe</th>\n",
       "    </tr>\n",
       "  </thead>\n",
       "  <tbody>\n",
       "    <tr>\n",
       "      <th>0</th>\n",
       "      <td>logreg_13_factors</td>\n",
       "      <td>0.841922</td>\n",
       "      <td>0.724731</td>\n",
       "      <td>0.566625</td>\n",
       "      <td>0.635999</td>\n",
       "      <td>-10.7136</td>\n",
       "      <td>1.4894</td>\n",
       "      <td>1.08045</td>\n",
       "      <td>2.6377</td>\n",
       "      <td>18.9249</td>\n",
       "      <td>2.67051</td>\n",
       "      <td>2.16676</td>\n",
       "      <td>0.325821</td>\n",
       "      <td>1.27081</td>\n",
       "      <td>1.58077</td>\n",
       "      <td>2.32383</td>\n",
       "      <td>1.91536</td>\n",
       "      <td>0.198671</td>\n",
       "      <td>0.0152117</td>\n",
       "      <td>1.1464</td>\n",
       "    </tr>\n",
       "    <tr>\n",
       "      <th>1</th>\n",
       "      <td>logreg_12_factors</td>\n",
       "      <td>0.840897</td>\n",
       "      <td>0.72397</td>\n",
       "      <td>0.56116</td>\n",
       "      <td>0.632252</td>\n",
       "      <td>-10.2759</td>\n",
       "      <td>1.53822</td>\n",
       "      <td>1.09776</td>\n",
       "      <td>2.58205</td>\n",
       "      <td>18.9642</td>\n",
       "      <td>2.70194</td>\n",
       "      <td>2.21993</td>\n",
       "      <td>0.324652</td>\n",
       "      <td>1.40331</td>\n",
       "      <td>2.83529</td>\n",
       "      <td>2.35425</td>\n",
       "      <td>NaN</td>\n",
       "      <td>0.208172</td>\n",
       "      <td>0.0575817</td>\n",
       "      <td>1.18085</td>\n",
       "    </tr>\n",
       "    <tr>\n",
       "      <th>2</th>\n",
       "      <td>NaN</td>\n",
       "      <td>NaN</td>\n",
       "      <td>NaN</td>\n",
       "      <td>NaN</td>\n",
       "      <td>NaN</td>\n",
       "      <td>NaN</td>\n",
       "      <td>NaN</td>\n",
       "      <td>NaN</td>\n",
       "      <td>NaN</td>\n",
       "      <td>NaN</td>\n",
       "      <td>NaN</td>\n",
       "      <td>NaN</td>\n",
       "      <td>NaN</td>\n",
       "      <td>NaN</td>\n",
       "      <td>NaN</td>\n",
       "      <td>NaN</td>\n",
       "      <td>NaN</td>\n",
       "      <td>NaN</td>\n",
       "      <td>NaN</td>\n",
       "      <td>NaN</td>\n",
       "    </tr>\n",
       "    <tr>\n",
       "      <th>3</th>\n",
       "      <td>NaN</td>\n",
       "      <td>NaN</td>\n",
       "      <td>NaN</td>\n",
       "      <td>NaN</td>\n",
       "      <td>NaN</td>\n",
       "      <td>NaN</td>\n",
       "      <td>NaN</td>\n",
       "      <td>NaN</td>\n",
       "      <td>NaN</td>\n",
       "      <td>NaN</td>\n",
       "      <td>NaN</td>\n",
       "      <td>NaN</td>\n",
       "      <td>NaN</td>\n",
       "      <td>NaN</td>\n",
       "      <td>NaN</td>\n",
       "      <td>NaN</td>\n",
       "      <td>NaN</td>\n",
       "      <td>NaN</td>\n",
       "      <td>NaN</td>\n",
       "      <td>NaN</td>\n",
       "    </tr>\n",
       "    <tr>\n",
       "      <th>4</th>\n",
       "      <td>NaN</td>\n",
       "      <td>NaN</td>\n",
       "      <td>NaN</td>\n",
       "      <td>NaN</td>\n",
       "      <td>NaN</td>\n",
       "      <td>NaN</td>\n",
       "      <td>NaN</td>\n",
       "      <td>NaN</td>\n",
       "      <td>NaN</td>\n",
       "      <td>NaN</td>\n",
       "      <td>NaN</td>\n",
       "      <td>NaN</td>\n",
       "      <td>NaN</td>\n",
       "      <td>NaN</td>\n",
       "      <td>NaN</td>\n",
       "      <td>NaN</td>\n",
       "      <td>NaN</td>\n",
       "      <td>NaN</td>\n",
       "      <td>NaN</td>\n",
       "      <td>NaN</td>\n",
       "    </tr>\n",
       "  </tbody>\n",
       "</table>\n",
       "</div>"
      ],
      "text/plain": [
       "               model  Accuracy Precision    Recall  F1-Score intercept  \\\n",
       "0  logreg_13_factors  0.841922  0.724731  0.566625  0.635999  -10.7136   \n",
       "1  logreg_12_factors  0.840897   0.72397   0.56116  0.632252  -10.2759   \n",
       "2                NaN       NaN       NaN       NaN       NaN       NaN   \n",
       "3                NaN       NaN       NaN       NaN       NaN       NaN   \n",
       "4                NaN       NaN       NaN       NaN       NaN       NaN   \n",
       "\n",
       "  coefx_age coefx_fnlwgt coefx_educational-num coefx_capital-gain  \\\n",
       "0    1.4894      1.08045                2.6377            18.9249   \n",
       "1   1.53822      1.09776               2.58205            18.9642   \n",
       "2       NaN          NaN                   NaN                NaN   \n",
       "3       NaN          NaN                   NaN                NaN   \n",
       "4       NaN          NaN                   NaN                NaN   \n",
       "\n",
       "  coefx_capital-loss coefx_hours-per-week coefx_workclass_woe  \\\n",
       "0            2.67051              2.16676            0.325821   \n",
       "1            2.70194              2.21993            0.324652   \n",
       "2                NaN                  NaN                 NaN   \n",
       "3                NaN                  NaN                 NaN   \n",
       "4                NaN                  NaN                 NaN   \n",
       "\n",
       "  coefx_education_woe coefx_marital-status_woe coefx_occupation_woe  \\\n",
       "0             1.27081                  1.58077              2.32383   \n",
       "1             1.40331                  2.83529              2.35425   \n",
       "2                 NaN                      NaN                  NaN   \n",
       "3                 NaN                      NaN                  NaN   \n",
       "4                 NaN                      NaN                  NaN   \n",
       "\n",
       "  coefx_relationship_woe coefx_race_woe coefx_gender_woe  \\\n",
       "0                1.91536       0.198671        0.0152117   \n",
       "1                    NaN       0.208172        0.0575817   \n",
       "2                    NaN            NaN              NaN   \n",
       "3                    NaN            NaN              NaN   \n",
       "4                    NaN            NaN              NaN   \n",
       "\n",
       "  coefx_native-country_woe  \n",
       "0                   1.1464  \n",
       "1                  1.18085  \n",
       "2                      NaN  \n",
       "3                      NaN  \n",
       "4                      NaN  "
      ]
     },
     "execution_count": 193,
     "metadata": {},
     "output_type": "execute_result"
    }
   ],
   "source": [
    "coef_matrix_simple.head()"
   ]
  },
  {
   "cell_type": "code",
   "execution_count": 195,
   "metadata": {},
   "outputs": [
    {
     "name": "stderr",
     "output_type": "stream",
     "text": [
      "/home/arseny/anaconda3/lib/python3.6/site-packages/sklearn/ensemble/forest.py:248: FutureWarning: The default value of n_estimators will change from 10 in version 0.20 to 100 in 0.22.\n",
      "  \"10 in version 0.20 to 100 in 0.22.\", FutureWarning)\n",
      "/home/arseny/anaconda3/lib/python3.6/site-packages/sklearn/ensemble/forest.py:248: FutureWarning: The default value of n_estimators will change from 10 in version 0.20 to 100 in 0.22.\n",
      "  \"10 in version 0.20 to 100 in 0.22.\", FutureWarning)\n",
      "/home/arseny/anaconda3/lib/python3.6/site-packages/sklearn/ensemble/forest.py:248: FutureWarning: The default value of n_estimators will change from 10 in version 0.20 to 100 in 0.22.\n",
      "  \"10 in version 0.20 to 100 in 0.22.\", FutureWarning)\n",
      "/home/arseny/anaconda3/lib/python3.6/site-packages/sklearn/ensemble/forest.py:248: FutureWarning: The default value of n_estimators will change from 10 in version 0.20 to 100 in 0.22.\n",
      "  \"10 in version 0.20 to 100 in 0.22.\", FutureWarning)\n",
      "/home/arseny/anaconda3/lib/python3.6/site-packages/sklearn/ensemble/forest.py:248: FutureWarning: The default value of n_estimators will change from 10 in version 0.20 to 100 in 0.22.\n",
      "  \"10 in version 0.20 to 100 in 0.22.\", FutureWarning)\n"
     ]
    },
    {
     "name": "stdout",
     "output_type": "stream",
     "text": [
      "Chosen best 10 feature by rfe: Index(['age', 'fnlwgt', 'educational-num', 'capital-gain', 'hours-per-week',\n",
      "       'workclass_woe', 'education_woe', 'marital-status_woe',\n",
      "       'occupation_woe', 'relationship_woe'],\n",
      "      dtype='object')\n"
     ]
    }
   ],
   "source": [
    "\n",
    "from sklearn.feature_selection import RFE\n",
    "from sklearn.ensemble import RandomForestClassifier\n",
    "# Create the RFE object and rank each pixel\n",
    "rfclass = RandomForestClassifier()      \n",
    "rfe = RFE(estimator=rfclass, n_features_to_select=10, step=1)\n",
    "rfe = rfe.fit(data_train_sc, y_train)\n",
    "print('Chosen best 10 feature by rfe:', data_train_sc.columns[rfe.support_])"
   ]
  },
  {
   "cell_type": "code",
   "execution_count": 196,
   "metadata": {},
   "outputs": [],
   "source": [
    "#deleted relationship_woe, educational-num\n",
    "predictors=['age', 'fnlwgt', 'capital-gain', 'hours-per-week',\n",
    "       'workclass_woe', 'education_woe', 'marital-status_woe',\n",
    "       'occupation_woe']"
   ]
  },
  {
   "cell_type": "code",
   "execution_count": 197,
   "metadata": {},
   "outputs": [
    {
     "name": "stderr",
     "output_type": "stream",
     "text": [
      "/home/arseny/anaconda3/lib/python3.6/site-packages/sklearn/linear_model/logistic.py:432: FutureWarning: Default solver will be changed to 'lbfgs' in 0.22. Specify a solver to silence this warning.\n",
      "  FutureWarning)\n"
     ]
    }
   ],
   "source": [
    "lr=log_reg(data_train_sc, y_train, data_test_sc, y_test, predictors)"
   ]
  },
  {
   "cell_type": "code",
   "execution_count": 198,
   "metadata": {},
   "outputs": [],
   "source": [
    "coef_matrix_simple.iloc[2, 0:6 ]=lr[0:6]\n",
    "for i in range(len(predictors)):\n",
    "    #coef_matrix_simple.iloc[i - 1, 0:i + 2] = linreg.coef_[i]\n",
    "    coef_matrix_simple.iloc[2, col.index('coefx_'+predictors[i])] = reg.coef_[0][i]"
   ]
  },
  {
   "cell_type": "code",
   "execution_count": 199,
   "metadata": {},
   "outputs": [
    {
     "data": {
      "text/html": [
       "<div>\n",
       "<style scoped>\n",
       "    .dataframe tbody tr th:only-of-type {\n",
       "        vertical-align: middle;\n",
       "    }\n",
       "\n",
       "    .dataframe tbody tr th {\n",
       "        vertical-align: top;\n",
       "    }\n",
       "\n",
       "    .dataframe thead th {\n",
       "        text-align: right;\n",
       "    }\n",
       "</style>\n",
       "<table border=\"1\" class=\"dataframe\">\n",
       "  <thead>\n",
       "    <tr style=\"text-align: right;\">\n",
       "      <th></th>\n",
       "      <th>model</th>\n",
       "      <th>Accuracy</th>\n",
       "      <th>Precision</th>\n",
       "      <th>Recall</th>\n",
       "      <th>F1-Score</th>\n",
       "      <th>intercept</th>\n",
       "      <th>coefx_age</th>\n",
       "      <th>coefx_fnlwgt</th>\n",
       "      <th>coefx_educational-num</th>\n",
       "      <th>coefx_capital-gain</th>\n",
       "      <th>coefx_capital-loss</th>\n",
       "      <th>coefx_hours-per-week</th>\n",
       "      <th>coefx_workclass_woe</th>\n",
       "      <th>coefx_education_woe</th>\n",
       "      <th>coefx_marital-status_woe</th>\n",
       "      <th>coefx_occupation_woe</th>\n",
       "      <th>coefx_relationship_woe</th>\n",
       "      <th>coefx_race_woe</th>\n",
       "      <th>coefx_gender_woe</th>\n",
       "      <th>coefx_native-country_woe</th>\n",
       "    </tr>\n",
       "  </thead>\n",
       "  <tbody>\n",
       "    <tr>\n",
       "      <th>0</th>\n",
       "      <td>logreg_13_factors</td>\n",
       "      <td>0.841922</td>\n",
       "      <td>0.724731</td>\n",
       "      <td>0.566625</td>\n",
       "      <td>0.635999</td>\n",
       "      <td>-10.7136</td>\n",
       "      <td>1.4894</td>\n",
       "      <td>1.08045</td>\n",
       "      <td>2.6377</td>\n",
       "      <td>18.9249</td>\n",
       "      <td>2.67051</td>\n",
       "      <td>2.16676</td>\n",
       "      <td>0.325821</td>\n",
       "      <td>1.27081</td>\n",
       "      <td>1.58077</td>\n",
       "      <td>2.32383</td>\n",
       "      <td>1.91536</td>\n",
       "      <td>0.198671</td>\n",
       "      <td>0.0152117</td>\n",
       "      <td>1.1464</td>\n",
       "    </tr>\n",
       "    <tr>\n",
       "      <th>1</th>\n",
       "      <td>logreg_12_factors</td>\n",
       "      <td>0.840897</td>\n",
       "      <td>0.72397</td>\n",
       "      <td>0.56116</td>\n",
       "      <td>0.632252</td>\n",
       "      <td>-10.2759</td>\n",
       "      <td>1.53822</td>\n",
       "      <td>1.09776</td>\n",
       "      <td>2.58205</td>\n",
       "      <td>18.9642</td>\n",
       "      <td>2.70194</td>\n",
       "      <td>2.21993</td>\n",
       "      <td>0.324652</td>\n",
       "      <td>1.40331</td>\n",
       "      <td>2.83529</td>\n",
       "      <td>2.35425</td>\n",
       "      <td>NaN</td>\n",
       "      <td>0.208172</td>\n",
       "      <td>0.0575817</td>\n",
       "      <td>1.18085</td>\n",
       "    </tr>\n",
       "    <tr>\n",
       "      <th>2</th>\n",
       "      <td>logreg_7_factors</td>\n",
       "      <td>0.83639</td>\n",
       "      <td>0.716981</td>\n",
       "      <td>0.543085</td>\n",
       "      <td>0.618034</td>\n",
       "      <td>-9.10657</td>\n",
       "      <td>1.53822</td>\n",
       "      <td>1.09776</td>\n",
       "      <td>NaN</td>\n",
       "      <td>2.58205</td>\n",
       "      <td>NaN</td>\n",
       "      <td>18.9642</td>\n",
       "      <td>2.70194</td>\n",
       "      <td>2.21993</td>\n",
       "      <td>0.324652</td>\n",
       "      <td>1.40331</td>\n",
       "      <td>NaN</td>\n",
       "      <td>NaN</td>\n",
       "      <td>NaN</td>\n",
       "      <td>NaN</td>\n",
       "    </tr>\n",
       "    <tr>\n",
       "      <th>3</th>\n",
       "      <td>NaN</td>\n",
       "      <td>NaN</td>\n",
       "      <td>NaN</td>\n",
       "      <td>NaN</td>\n",
       "      <td>NaN</td>\n",
       "      <td>NaN</td>\n",
       "      <td>NaN</td>\n",
       "      <td>NaN</td>\n",
       "      <td>NaN</td>\n",
       "      <td>NaN</td>\n",
       "      <td>NaN</td>\n",
       "      <td>NaN</td>\n",
       "      <td>NaN</td>\n",
       "      <td>NaN</td>\n",
       "      <td>NaN</td>\n",
       "      <td>NaN</td>\n",
       "      <td>NaN</td>\n",
       "      <td>NaN</td>\n",
       "      <td>NaN</td>\n",
       "      <td>NaN</td>\n",
       "    </tr>\n",
       "    <tr>\n",
       "      <th>4</th>\n",
       "      <td>NaN</td>\n",
       "      <td>NaN</td>\n",
       "      <td>NaN</td>\n",
       "      <td>NaN</td>\n",
       "      <td>NaN</td>\n",
       "      <td>NaN</td>\n",
       "      <td>NaN</td>\n",
       "      <td>NaN</td>\n",
       "      <td>NaN</td>\n",
       "      <td>NaN</td>\n",
       "      <td>NaN</td>\n",
       "      <td>NaN</td>\n",
       "      <td>NaN</td>\n",
       "      <td>NaN</td>\n",
       "      <td>NaN</td>\n",
       "      <td>NaN</td>\n",
       "      <td>NaN</td>\n",
       "      <td>NaN</td>\n",
       "      <td>NaN</td>\n",
       "      <td>NaN</td>\n",
       "    </tr>\n",
       "  </tbody>\n",
       "</table>\n",
       "</div>"
      ],
      "text/plain": [
       "               model  Accuracy Precision    Recall  F1-Score intercept  \\\n",
       "0  logreg_13_factors  0.841922  0.724731  0.566625  0.635999  -10.7136   \n",
       "1  logreg_12_factors  0.840897   0.72397   0.56116  0.632252  -10.2759   \n",
       "2   logreg_7_factors   0.83639  0.716981  0.543085  0.618034  -9.10657   \n",
       "3                NaN       NaN       NaN       NaN       NaN       NaN   \n",
       "4                NaN       NaN       NaN       NaN       NaN       NaN   \n",
       "\n",
       "  coefx_age coefx_fnlwgt coefx_educational-num coefx_capital-gain  \\\n",
       "0    1.4894      1.08045                2.6377            18.9249   \n",
       "1   1.53822      1.09776               2.58205            18.9642   \n",
       "2   1.53822      1.09776                   NaN            2.58205   \n",
       "3       NaN          NaN                   NaN                NaN   \n",
       "4       NaN          NaN                   NaN                NaN   \n",
       "\n",
       "  coefx_capital-loss coefx_hours-per-week coefx_workclass_woe  \\\n",
       "0            2.67051              2.16676            0.325821   \n",
       "1            2.70194              2.21993            0.324652   \n",
       "2                NaN              18.9642             2.70194   \n",
       "3                NaN                  NaN                 NaN   \n",
       "4                NaN                  NaN                 NaN   \n",
       "\n",
       "  coefx_education_woe coefx_marital-status_woe coefx_occupation_woe  \\\n",
       "0             1.27081                  1.58077              2.32383   \n",
       "1             1.40331                  2.83529              2.35425   \n",
       "2             2.21993                 0.324652              1.40331   \n",
       "3                 NaN                      NaN                  NaN   \n",
       "4                 NaN                      NaN                  NaN   \n",
       "\n",
       "  coefx_relationship_woe coefx_race_woe coefx_gender_woe  \\\n",
       "0                1.91536       0.198671        0.0152117   \n",
       "1                    NaN       0.208172        0.0575817   \n",
       "2                    NaN            NaN              NaN   \n",
       "3                    NaN            NaN              NaN   \n",
       "4                    NaN            NaN              NaN   \n",
       "\n",
       "  coefx_native-country_woe  \n",
       "0                   1.1464  \n",
       "1                  1.18085  \n",
       "2                      NaN  \n",
       "3                      NaN  \n",
       "4                      NaN  "
      ]
     },
     "execution_count": 199,
     "metadata": {},
     "output_type": "execute_result"
    }
   ],
   "source": [
    "coef_matrix_simple.head()"
   ]
  },
  {
   "cell_type": "code",
   "execution_count": 200,
   "metadata": {},
   "outputs": [
    {
     "name": "stderr",
     "output_type": "stream",
     "text": [
      "/home/arseny/anaconda3/lib/python3.6/site-packages/sklearn/ensemble/forest.py:248: FutureWarning: The default value of n_estimators will change from 10 in version 0.20 to 100 in 0.22.\n",
      "  \"10 in version 0.20 to 100 in 0.22.\", FutureWarning)\n",
      "/home/arseny/anaconda3/lib/python3.6/site-packages/sklearn/ensemble/forest.py:248: FutureWarning: The default value of n_estimators will change from 10 in version 0.20 to 100 in 0.22.\n",
      "  \"10 in version 0.20 to 100 in 0.22.\", FutureWarning)\n",
      "/home/arseny/anaconda3/lib/python3.6/site-packages/sklearn/ensemble/forest.py:248: FutureWarning: The default value of n_estimators will change from 10 in version 0.20 to 100 in 0.22.\n",
      "  \"10 in version 0.20 to 100 in 0.22.\", FutureWarning)\n",
      "/home/arseny/anaconda3/lib/python3.6/site-packages/sklearn/ensemble/forest.py:248: FutureWarning: The default value of n_estimators will change from 10 in version 0.20 to 100 in 0.22.\n",
      "  \"10 in version 0.20 to 100 in 0.22.\", FutureWarning)\n",
      "/home/arseny/anaconda3/lib/python3.6/site-packages/sklearn/ensemble/forest.py:248: FutureWarning: The default value of n_estimators will change from 10 in version 0.20 to 100 in 0.22.\n",
      "  \"10 in version 0.20 to 100 in 0.22.\", FutureWarning)\n",
      "/home/arseny/anaconda3/lib/python3.6/site-packages/sklearn/ensemble/forest.py:248: FutureWarning: The default value of n_estimators will change from 10 in version 0.20 to 100 in 0.22.\n",
      "  \"10 in version 0.20 to 100 in 0.22.\", FutureWarning)\n",
      "/home/arseny/anaconda3/lib/python3.6/site-packages/sklearn/ensemble/forest.py:248: FutureWarning: The default value of n_estimators will change from 10 in version 0.20 to 100 in 0.22.\n",
      "  \"10 in version 0.20 to 100 in 0.22.\", FutureWarning)\n",
      "/home/arseny/anaconda3/lib/python3.6/site-packages/sklearn/ensemble/forest.py:248: FutureWarning: The default value of n_estimators will change from 10 in version 0.20 to 100 in 0.22.\n",
      "  \"10 in version 0.20 to 100 in 0.22.\", FutureWarning)\n",
      "/home/arseny/anaconda3/lib/python3.6/site-packages/sklearn/ensemble/forest.py:248: FutureWarning: The default value of n_estimators will change from 10 in version 0.20 to 100 in 0.22.\n",
      "  \"10 in version 0.20 to 100 in 0.22.\", FutureWarning)\n",
      "/home/arseny/anaconda3/lib/python3.6/site-packages/sklearn/ensemble/forest.py:248: FutureWarning: The default value of n_estimators will change from 10 in version 0.20 to 100 in 0.22.\n",
      "  \"10 in version 0.20 to 100 in 0.22.\", FutureWarning)\n"
     ]
    },
    {
     "name": "stdout",
     "output_type": "stream",
     "text": [
      "Chosen best 5 feature by rfe: Index(['age', 'fnlwgt', 'capital-gain', 'education_woe', 'relationship_woe'], dtype='object')\n"
     ]
    }
   ],
   "source": [
    "rfclass = RandomForestClassifier()      \n",
    "rfe = RFE(estimator=rfclass, n_features_to_select=5, step=1)\n",
    "rfe = rfe.fit(data_train_sc, y_train)\n",
    "print('Chosen best 5 feature by rfe:', data_train_sc.columns[rfe.support_])"
   ]
  },
  {
   "cell_type": "code",
   "execution_count": 201,
   "metadata": {},
   "outputs": [],
   "source": [
    "predictors=['age', 'fnlwgt', 'capital-gain', 'education_woe', 'relationship_woe']"
   ]
  },
  {
   "cell_type": "code",
   "execution_count": 202,
   "metadata": {},
   "outputs": [
    {
     "name": "stderr",
     "output_type": "stream",
     "text": [
      "/home/arseny/anaconda3/lib/python3.6/site-packages/sklearn/linear_model/logistic.py:432: FutureWarning: Default solver will be changed to 'lbfgs' in 0.22. Specify a solver to silence this warning.\n",
      "  FutureWarning)\n"
     ]
    }
   ],
   "source": [
    "lr=log_reg(data_train_sc, y_train, data_test_sc, y_test, predictors)"
   ]
  },
  {
   "cell_type": "code",
   "execution_count": 203,
   "metadata": {},
   "outputs": [],
   "source": [
    "coef_matrix_simple.iloc[3, 0:6 ]=lr[0:6]\n",
    "for i in range(len(predictors)):\n",
    "    #coef_matrix_simple.iloc[i - 1, 0:i + 2] = linreg.coef_[i]\n",
    "    coef_matrix_simple.iloc[3, col.index('coefx_'+predictors[i])] = reg.coef_[0][i]"
   ]
  },
  {
   "cell_type": "code",
   "execution_count": 204,
   "metadata": {},
   "outputs": [
    {
     "data": {
      "text/html": [
       "<div>\n",
       "<style scoped>\n",
       "    .dataframe tbody tr th:only-of-type {\n",
       "        vertical-align: middle;\n",
       "    }\n",
       "\n",
       "    .dataframe tbody tr th {\n",
       "        vertical-align: top;\n",
       "    }\n",
       "\n",
       "    .dataframe thead th {\n",
       "        text-align: right;\n",
       "    }\n",
       "</style>\n",
       "<table border=\"1\" class=\"dataframe\">\n",
       "  <thead>\n",
       "    <tr style=\"text-align: right;\">\n",
       "      <th></th>\n",
       "      <th>model</th>\n",
       "      <th>Accuracy</th>\n",
       "      <th>Precision</th>\n",
       "      <th>Recall</th>\n",
       "      <th>F1-Score</th>\n",
       "      <th>intercept</th>\n",
       "      <th>coefx_age</th>\n",
       "      <th>coefx_fnlwgt</th>\n",
       "      <th>coefx_educational-num</th>\n",
       "      <th>coefx_capital-gain</th>\n",
       "      <th>coefx_capital-loss</th>\n",
       "      <th>coefx_hours-per-week</th>\n",
       "      <th>coefx_workclass_woe</th>\n",
       "      <th>coefx_education_woe</th>\n",
       "      <th>coefx_marital-status_woe</th>\n",
       "      <th>coefx_occupation_woe</th>\n",
       "      <th>coefx_relationship_woe</th>\n",
       "      <th>coefx_race_woe</th>\n",
       "      <th>coefx_gender_woe</th>\n",
       "      <th>coefx_native-country_woe</th>\n",
       "    </tr>\n",
       "  </thead>\n",
       "  <tbody>\n",
       "    <tr>\n",
       "      <th>0</th>\n",
       "      <td>logreg_13_factors</td>\n",
       "      <td>0.841922</td>\n",
       "      <td>0.724731</td>\n",
       "      <td>0.566625</td>\n",
       "      <td>0.635999</td>\n",
       "      <td>-10.7136</td>\n",
       "      <td>1.4894</td>\n",
       "      <td>1.08045</td>\n",
       "      <td>2.6377</td>\n",
       "      <td>18.9249</td>\n",
       "      <td>2.67051</td>\n",
       "      <td>2.16676</td>\n",
       "      <td>0.325821</td>\n",
       "      <td>1.27081</td>\n",
       "      <td>1.58077</td>\n",
       "      <td>2.32383</td>\n",
       "      <td>1.91536</td>\n",
       "      <td>0.198671</td>\n",
       "      <td>0.0152117</td>\n",
       "      <td>1.1464</td>\n",
       "    </tr>\n",
       "    <tr>\n",
       "      <th>1</th>\n",
       "      <td>logreg_12_factors</td>\n",
       "      <td>0.840897</td>\n",
       "      <td>0.72397</td>\n",
       "      <td>0.56116</td>\n",
       "      <td>0.632252</td>\n",
       "      <td>-10.2759</td>\n",
       "      <td>1.53822</td>\n",
       "      <td>1.09776</td>\n",
       "      <td>2.58205</td>\n",
       "      <td>18.9642</td>\n",
       "      <td>2.70194</td>\n",
       "      <td>2.21993</td>\n",
       "      <td>0.324652</td>\n",
       "      <td>1.40331</td>\n",
       "      <td>2.83529</td>\n",
       "      <td>2.35425</td>\n",
       "      <td>NaN</td>\n",
       "      <td>0.208172</td>\n",
       "      <td>0.0575817</td>\n",
       "      <td>1.18085</td>\n",
       "    </tr>\n",
       "    <tr>\n",
       "      <th>2</th>\n",
       "      <td>logreg_7_factors</td>\n",
       "      <td>0.83639</td>\n",
       "      <td>0.716981</td>\n",
       "      <td>0.543085</td>\n",
       "      <td>0.618034</td>\n",
       "      <td>-9.10657</td>\n",
       "      <td>1.53822</td>\n",
       "      <td>1.09776</td>\n",
       "      <td>NaN</td>\n",
       "      <td>2.58205</td>\n",
       "      <td>NaN</td>\n",
       "      <td>18.9642</td>\n",
       "      <td>2.70194</td>\n",
       "      <td>2.21993</td>\n",
       "      <td>0.324652</td>\n",
       "      <td>1.40331</td>\n",
       "      <td>NaN</td>\n",
       "      <td>NaN</td>\n",
       "      <td>NaN</td>\n",
       "      <td>NaN</td>\n",
       "    </tr>\n",
       "    <tr>\n",
       "      <th>3</th>\n",
       "      <td>logreg_4_factors</td>\n",
       "      <td>0.830857</td>\n",
       "      <td>0.721411</td>\n",
       "      <td>0.498529</td>\n",
       "      <td>0.58961</td>\n",
       "      <td>-7.98324</td>\n",
       "      <td>1.53822</td>\n",
       "      <td>1.09776</td>\n",
       "      <td>NaN</td>\n",
       "      <td>2.58205</td>\n",
       "      <td>NaN</td>\n",
       "      <td>NaN</td>\n",
       "      <td>NaN</td>\n",
       "      <td>18.9642</td>\n",
       "      <td>NaN</td>\n",
       "      <td>NaN</td>\n",
       "      <td>2.70194</td>\n",
       "      <td>NaN</td>\n",
       "      <td>NaN</td>\n",
       "      <td>NaN</td>\n",
       "    </tr>\n",
       "    <tr>\n",
       "      <th>4</th>\n",
       "      <td>NaN</td>\n",
       "      <td>NaN</td>\n",
       "      <td>NaN</td>\n",
       "      <td>NaN</td>\n",
       "      <td>NaN</td>\n",
       "      <td>NaN</td>\n",
       "      <td>NaN</td>\n",
       "      <td>NaN</td>\n",
       "      <td>NaN</td>\n",
       "      <td>NaN</td>\n",
       "      <td>NaN</td>\n",
       "      <td>NaN</td>\n",
       "      <td>NaN</td>\n",
       "      <td>NaN</td>\n",
       "      <td>NaN</td>\n",
       "      <td>NaN</td>\n",
       "      <td>NaN</td>\n",
       "      <td>NaN</td>\n",
       "      <td>NaN</td>\n",
       "      <td>NaN</td>\n",
       "    </tr>\n",
       "  </tbody>\n",
       "</table>\n",
       "</div>"
      ],
      "text/plain": [
       "               model  Accuracy Precision    Recall  F1-Score intercept  \\\n",
       "0  logreg_13_factors  0.841922  0.724731  0.566625  0.635999  -10.7136   \n",
       "1  logreg_12_factors  0.840897   0.72397   0.56116  0.632252  -10.2759   \n",
       "2   logreg_7_factors   0.83639  0.716981  0.543085  0.618034  -9.10657   \n",
       "3   logreg_4_factors  0.830857  0.721411  0.498529   0.58961  -7.98324   \n",
       "4                NaN       NaN       NaN       NaN       NaN       NaN   \n",
       "\n",
       "  coefx_age coefx_fnlwgt coefx_educational-num coefx_capital-gain  \\\n",
       "0    1.4894      1.08045                2.6377            18.9249   \n",
       "1   1.53822      1.09776               2.58205            18.9642   \n",
       "2   1.53822      1.09776                   NaN            2.58205   \n",
       "3   1.53822      1.09776                   NaN            2.58205   \n",
       "4       NaN          NaN                   NaN                NaN   \n",
       "\n",
       "  coefx_capital-loss coefx_hours-per-week coefx_workclass_woe  \\\n",
       "0            2.67051              2.16676            0.325821   \n",
       "1            2.70194              2.21993            0.324652   \n",
       "2                NaN              18.9642             2.70194   \n",
       "3                NaN                  NaN                 NaN   \n",
       "4                NaN                  NaN                 NaN   \n",
       "\n",
       "  coefx_education_woe coefx_marital-status_woe coefx_occupation_woe  \\\n",
       "0             1.27081                  1.58077              2.32383   \n",
       "1             1.40331                  2.83529              2.35425   \n",
       "2             2.21993                 0.324652              1.40331   \n",
       "3             18.9642                      NaN                  NaN   \n",
       "4                 NaN                      NaN                  NaN   \n",
       "\n",
       "  coefx_relationship_woe coefx_race_woe coefx_gender_woe  \\\n",
       "0                1.91536       0.198671        0.0152117   \n",
       "1                    NaN       0.208172        0.0575817   \n",
       "2                    NaN            NaN              NaN   \n",
       "3                2.70194            NaN              NaN   \n",
       "4                    NaN            NaN              NaN   \n",
       "\n",
       "  coefx_native-country_woe  \n",
       "0                   1.1464  \n",
       "1                  1.18085  \n",
       "2                      NaN  \n",
       "3                      NaN  \n",
       "4                      NaN  "
      ]
     },
     "execution_count": 204,
     "metadata": {},
     "output_type": "execute_result"
    }
   ],
   "source": [
    "coef_matrix_simple.head()"
   ]
  },
  {
   "cell_type": "code",
   "execution_count": null,
   "metadata": {},
   "outputs": [],
   "source": [
    "#F1 is low. Fast attempts to choose right features were not successful. \n",
    "# Probably new features should be generated. We 've just shorten dimensions nmb"
   ]
  }
 ],
 "metadata": {
  "kernelspec": {
   "display_name": "Python 3",
   "language": "python",
   "name": "python3"
  },
  "language_info": {
   "codemirror_mode": {
    "name": "ipython",
    "version": 3
   },
   "file_extension": ".py",
   "mimetype": "text/x-python",
   "name": "python",
   "nbconvert_exporter": "python",
   "pygments_lexer": "ipython3",
   "version": "3.6.5"
  }
 },
 "nbformat": 4,
 "nbformat_minor": 2
}
