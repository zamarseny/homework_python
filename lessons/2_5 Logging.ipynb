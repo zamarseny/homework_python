{
 "cells": [
  {
   "cell_type": "markdown",
   "metadata": {},
   "source": [
    "## Logging"
   ]
  },
  {
   "cell_type": "markdown",
   "metadata": {
    "collapsed": true
   },
   "source": [
    "Что было бы круто:\n",
    "* сообщения выводятся на экран в Jupyter notebook без задержек (как это иногда бывает у print)\n",
    "* сообщения автоматом пишутся в файл в едином формате (например, когда скрипт выполняется по cron)\n",
    "* понятно какой скрипт, на какой строке и какой тип сообщения выдал (INFO, WARNING, ERROR)"
   ]
  },
  {
   "cell_type": "code",
   "execution_count": null,
   "metadata": {},
   "outputs": [],
   "source": [
    "# https://docs.python.org/3.6/library/logging.html\n",
    "import logging"
   ]
  },
  {
   "cell_type": "code",
   "execution_count": null,
   "metadata": {},
   "outputs": [],
   "source": [
    "logger = logging.getLogger( 'Тест логгера' )\n",
    "\n",
    "# в какой файл пишем логи\n",
    "hdlr = logging.FileHandler( 'error.log', mode = 'w' )\n",
    "\n",
    "# что будем писать в файл\n",
    "# https://docs.python.org/3.6/library/logging.html#logrecord-attributes\n",
    "formatter = logging.Formatter('%(asctime)s [LINE:%(lineno)d] %(levelname)s %(message)s')\n",
    "\n",
    "hdlr.setFormatter( formatter )\n",
    "logger.addHandler( hdlr )\n",
    "logger.setLevel(logging.INFO)"
   ]
  },
  {
   "cell_type": "code",
   "execution_count": null,
   "metadata": {},
   "outputs": [],
   "source": [
    "data = [ 1, 55, 'abc', 12 ]"
   ]
  },
  {
   "cell_type": "code",
   "execution_count": null,
   "metadata": {},
   "outputs": [],
   "source": [
    "for num in data:\n",
    "    # проверяем входные данные на целое число\n",
    "    if isinstance( num, int ):\n",
    "        logger.info( 'Строка норм'.format(num) )\n",
    "    \n",
    "    else:\n",
    "        logger.warning( 'Некорректное значение. Значение было {}'.format(num) )"
   ]
  }
 ],
 "metadata": {
  "kernelspec": {
   "display_name": "Python 3",
   "language": "python",
   "name": "python3"
  },
  "language_info": {
   "codemirror_mode": {
    "name": "ipython",
    "version": 3
   },
   "file_extension": ".py",
   "mimetype": "text/x-python",
   "name": "python",
   "nbconvert_exporter": "python",
   "pygments_lexer": "ipython3",
   "version": "3.6.5"
  }
 },
 "nbformat": 4,
 "nbformat_minor": 2
}
