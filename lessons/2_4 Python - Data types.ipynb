{
 "cells": [
  {
   "cell_type": "markdown",
   "metadata": {},
   "source": [
    "# Даты"
   ]
  },
  {
   "cell_type": "code",
   "execution_count": 1,
   "metadata": {},
   "outputs": [],
   "source": [
    "from datetime import datetime"
   ]
  },
  {
   "cell_type": "code",
   "execution_count": 2,
   "metadata": {},
   "outputs": [],
   "source": [
    "date_string = '09.05.2018  09:00'"
   ]
  },
  {
   "cell_type": "code",
   "execution_count": 3,
   "metadata": {},
   "outputs": [
    {
     "data": {
      "text/plain": [
       "str"
      ]
     },
     "execution_count": 3,
     "metadata": {},
     "output_type": "execute_result"
    }
   ],
   "source": [
    "# сейчас date_string это просто строка\n",
    "type(date_string)"
   ]
  },
  {
   "cell_type": "code",
   "execution_count": 4,
   "metadata": {},
   "outputs": [
    {
     "data": {
      "text/plain": [
       "datetime.datetime(2018, 5, 9, 9, 0)"
      ]
     },
     "execution_count": 4,
     "metadata": {},
     "output_type": "execute_result"
    }
   ],
   "source": [
    "# https://docs.python.org/3/library/datetime.html\n",
    "\n",
    "date_datetime = datetime.strptime( date_string, '%d.%m.%Y %H:%M' )\n",
    "date_datetime"
   ]
  },
  {
   "cell_type": "code",
   "execution_count": 5,
   "metadata": {},
   "outputs": [
    {
     "data": {
      "text/plain": [
       "datetime.datetime"
      ]
     },
     "execution_count": 5,
     "metadata": {},
     "output_type": "execute_result"
    }
   ],
   "source": [
    "# теперь можем работать с датами\n",
    "type(date_datetime)"
   ]
  },
  {
   "cell_type": "code",
   "execution_count": 6,
   "metadata": {},
   "outputs": [
    {
     "data": {
      "text/plain": [
       "(2018, 9)"
      ]
     },
     "execution_count": 6,
     "metadata": {},
     "output_type": "execute_result"
    }
   ],
   "source": [
    "date_datetime.year, date_datetime.hour"
   ]
  },
  {
   "cell_type": "markdown",
   "metadata": {},
   "source": [
    "### Упражнение\n",
    "С помощью метода datetime.strptime переведите строку 'May 25 2017 5:00AM' в формат datetime."
   ]
  },
  {
   "cell_type": "code",
   "execution_count": 29,
   "metadata": {},
   "outputs": [],
   "source": [
    "strin='May 25 2017 5:00AM'\n",
    "#strin='May 25 2017'\n",
    "#strin='5:00AM'\n"
   ]
  },
  {
   "cell_type": "code",
   "execution_count": 30,
   "metadata": {},
   "outputs": [],
   "source": [
    "date_datetime = datetime.strptime( strin, '%b %d %Y %I:%M%p' )\n",
    "#date_datetime = datetime.strptime( strin, '%I:%M%p' )\n",
    "\n",
    "#date_datetime = datetime.strptime( strin, '%b %d %Y' )"
   ]
  },
  {
   "cell_type": "code",
   "execution_count": 31,
   "metadata": {},
   "outputs": [
    {
     "name": "stdout",
     "output_type": "stream",
     "text": [
      "2017-05-25 05:00:00\n"
     ]
    }
   ],
   "source": [
    "print(date_datetime)"
   ]
  },
  {
   "cell_type": "markdown",
   "metadata": {},
   "source": [
    "### Прибавление интервала к датам"
   ]
  },
  {
   "cell_type": "code",
   "execution_count": 32,
   "metadata": {},
   "outputs": [],
   "source": [
    "from datetime import timedelta"
   ]
  },
  {
   "cell_type": "code",
   "execution_count": 33,
   "metadata": {},
   "outputs": [],
   "source": [
    "start_date = '2018-01-01'\n",
    "end_date = '2018-01-07'"
   ]
  },
  {
   "cell_type": "code",
   "execution_count": 34,
   "metadata": {},
   "outputs": [
    {
     "data": {
      "text/plain": [
       "str"
      ]
     },
     "execution_count": 34,
     "metadata": {},
     "output_type": "execute_result"
    }
   ],
   "source": [
    "type(start_date)"
   ]
  },
  {
   "cell_type": "code",
   "execution_count": 35,
   "metadata": {},
   "outputs": [
    {
     "data": {
      "text/plain": [
       "datetime.datetime(2018, 1, 1, 0, 0)"
      ]
     },
     "execution_count": 35,
     "metadata": {},
     "output_type": "execute_result"
    }
   ],
   "source": [
    "start_date_datetime = datetime.strptime(start_date, '%Y-%m-%d')\n",
    "start_date_datetime"
   ]
  },
  {
   "cell_type": "code",
   "execution_count": 36,
   "metadata": {},
   "outputs": [
    {
     "data": {
      "text/plain": [
       "datetime.datetime(2018, 1, 2, 0, 0)"
      ]
     },
     "execution_count": 36,
     "metadata": {},
     "output_type": "execute_result"
    }
   ],
   "source": [
    "start_date_datetime + timedelta(days=1)"
   ]
  },
  {
   "cell_type": "markdown",
   "metadata": {},
   "source": [
    "### Упражнение\n",
    "Дана дата в формате '2018-09-01T09:30:00'. Прибавьте к ней 12 часов 15минут и 3 секунды."
   ]
  },
  {
   "cell_type": "code",
   "execution_count": 72,
   "metadata": {},
   "outputs": [],
   "source": [
    "#srtin='2018-09-01T09:30:00'\n",
    "#srtin='09:30:00'\n",
    "strin='2018-09-01'"
   ]
  },
  {
   "cell_type": "code",
   "execution_count": 73,
   "metadata": {},
   "outputs": [],
   "source": [
    "#date_datetime = datetime.strptime( strin, '%Y-%m-%d%T%H:%M:%S' )\n",
    "#date_datetime = datetime.strptime( strin, '%H%H:%M:%S' )\n",
    "New_date_datetime = datetime.strptime( strin, '%Y-%m-%d' )"
   ]
  },
  {
   "cell_type": "code",
   "execution_count": 77,
   "metadata": {},
   "outputs": [
    {
     "data": {
      "text/plain": [
       "datetime.datetime(2018, 9, 1, 12, 15, 3)"
      ]
     },
     "execution_count": 77,
     "metadata": {},
     "output_type": "execute_result"
    }
   ],
   "source": [
    "New_date_datetime + timedelta(hours=12)+ timedelta(minutes=15)+ timedelta(seconds=3)"
   ]
  },
  {
   "cell_type": "markdown",
   "metadata": {},
   "source": [
    "### Перевод обратно в строку"
   ]
  },
  {
   "cell_type": "code",
   "execution_count": 68,
   "metadata": {},
   "outputs": [
    {
     "data": {
      "text/plain": [
       "datetime.datetime(2018, 9, 1, 0, 0)"
      ]
     },
     "execution_count": 68,
     "metadata": {},
     "output_type": "execute_result"
    }
   ],
   "source": [
    "date = datetime(2018, 9, 1)\n",
    "date"
   ]
  },
  {
   "cell_type": "code",
   "execution_count": 69,
   "metadata": {},
   "outputs": [
    {
     "data": {
      "text/plain": [
       "'2018-09-01'"
      ]
     },
     "execution_count": 69,
     "metadata": {},
     "output_type": "execute_result"
    }
   ],
   "source": [
    "date.strftime('%Y-%m-%d')"
   ]
  },
  {
   "cell_type": "code",
   "execution_count": 70,
   "metadata": {},
   "outputs": [
    {
     "data": {
      "text/plain": [
       "'2018-01-01'"
      ]
     },
     "execution_count": 70,
     "metadata": {},
     "output_type": "execute_result"
    }
   ],
   "source": [
    "# внезапно\n",
    "\n",
    "date.strftime('%Y-01-%d')"
   ]
  },
  {
   "cell_type": "code",
   "execution_count": 22,
   "metadata": {},
   "outputs": [
    {
     "data": {
      "text/plain": [
       "('2018-01-01', '2018-01-07')"
      ]
     },
     "execution_count": 22,
     "metadata": {},
     "output_type": "execute_result"
    }
   ],
   "source": [
    "start_date, end_date"
   ]
  },
  {
   "cell_type": "code",
   "execution_count": 23,
   "metadata": {},
   "outputs": [],
   "source": [
    "start_date_dt = datetime.strptime(start_date, '%Y-%m-%d')\n",
    "end_date_dt = datetime.strptime(end_date, '%Y-%m-%d')"
   ]
  },
  {
   "cell_type": "code",
   "execution_count": 71,
   "metadata": {},
   "outputs": [
    {
     "name": "stdout",
     "output_type": "stream",
     "text": [
      "2018-09-01\n",
      "2018-09-02\n",
      "2018-09-03\n",
      "2018-09-04\n",
      "2018-09-05\n",
      "2018-09-06\n",
      "2018-09-07\n"
     ]
    }
   ],
   "source": [
    "start_date = '2018-09-01'\n",
    "end_date = '2018-09-07'\n",
    "start_date_dt = datetime.strptime(start_date, '%Y-%m-%d')\n",
    "end_date_dt = datetime.strptime(end_date, '%Y-%m-%d')\n",
    "\n",
    "current_dt = start_date_dt\n",
    "\n",
    "while current_dt <= end_date_dt:\n",
    "    print(current_dt.strftime('%Y-%m-%d'))\n",
    "    \n",
    "    current_dt += timedelta(days=1)"
   ]
  },
  {
   "cell_type": "markdown",
   "metadata": {},
   "source": [
    "### Упражнение\n",
    "Напишите алгоритм, который \"пробегает\" период 1 до 7 сентября по часам. Формат вывода '06.01.2018 23:00:00'."
   ]
  },
  {
   "cell_type": "code",
   "execution_count": 30,
   "metadata": {},
   "outputs": [
    {
     "name": "stdout",
     "output_type": "stream",
     "text": [
      "2018-09-01 00:00:00\n",
      "2018-09-01 01:00:00\n",
      "2018-09-01 02:00:00\n",
      "2018-09-01 03:00:00\n",
      "2018-09-01 04:00:00\n",
      "2018-09-01 05:00:00\n",
      "2018-09-01 06:00:00\n",
      "2018-09-01 07:00:00\n",
      "2018-09-01 08:00:00\n",
      "2018-09-01 09:00:00\n",
      "2018-09-01 10:00:00\n",
      "2018-09-01 11:00:00\n",
      "2018-09-01 12:00:00\n",
      "2018-09-01 13:00:00\n",
      "2018-09-01 14:00:00\n",
      "2018-09-01 15:00:00\n",
      "2018-09-01 16:00:00\n",
      "2018-09-01 17:00:00\n",
      "2018-09-01 18:00:00\n",
      "2018-09-01 19:00:00\n",
      "2018-09-01 20:00:00\n",
      "2018-09-01 21:00:00\n",
      "2018-09-01 22:00:00\n",
      "2018-09-01 23:00:00\n",
      "2018-09-02 00:00:00\n",
      "2018-09-02 01:00:00\n",
      "2018-09-02 02:00:00\n",
      "2018-09-02 03:00:00\n",
      "2018-09-02 04:00:00\n",
      "2018-09-02 05:00:00\n",
      "2018-09-02 06:00:00\n",
      "2018-09-02 07:00:00\n",
      "2018-09-02 08:00:00\n",
      "2018-09-02 09:00:00\n",
      "2018-09-02 10:00:00\n",
      "2018-09-02 11:00:00\n",
      "2018-09-02 12:00:00\n",
      "2018-09-02 13:00:00\n",
      "2018-09-02 14:00:00\n",
      "2018-09-02 15:00:00\n",
      "2018-09-02 16:00:00\n",
      "2018-09-02 17:00:00\n",
      "2018-09-02 18:00:00\n",
      "2018-09-02 19:00:00\n",
      "2018-09-02 20:00:00\n",
      "2018-09-02 21:00:00\n",
      "2018-09-02 22:00:00\n",
      "2018-09-02 23:00:00\n",
      "2018-09-03 00:00:00\n",
      "2018-09-03 01:00:00\n",
      "2018-09-03 02:00:00\n",
      "2018-09-03 03:00:00\n",
      "2018-09-03 04:00:00\n",
      "2018-09-03 05:00:00\n",
      "2018-09-03 06:00:00\n",
      "2018-09-03 07:00:00\n",
      "2018-09-03 08:00:00\n",
      "2018-09-03 09:00:00\n",
      "2018-09-03 10:00:00\n",
      "2018-09-03 11:00:00\n",
      "2018-09-03 12:00:00\n",
      "2018-09-03 13:00:00\n",
      "2018-09-03 14:00:00\n",
      "2018-09-03 15:00:00\n",
      "2018-09-03 16:00:00\n",
      "2018-09-03 17:00:00\n",
      "2018-09-03 18:00:00\n",
      "2018-09-03 19:00:00\n",
      "2018-09-03 20:00:00\n",
      "2018-09-03 21:00:00\n",
      "2018-09-03 22:00:00\n",
      "2018-09-03 23:00:00\n",
      "2018-09-04 00:00:00\n",
      "2018-09-04 01:00:00\n",
      "2018-09-04 02:00:00\n",
      "2018-09-04 03:00:00\n",
      "2018-09-04 04:00:00\n",
      "2018-09-04 05:00:00\n",
      "2018-09-04 06:00:00\n",
      "2018-09-04 07:00:00\n",
      "2018-09-04 08:00:00\n",
      "2018-09-04 09:00:00\n",
      "2018-09-04 10:00:00\n",
      "2018-09-04 11:00:00\n",
      "2018-09-04 12:00:00\n",
      "2018-09-04 13:00:00\n",
      "2018-09-04 14:00:00\n",
      "2018-09-04 15:00:00\n",
      "2018-09-04 16:00:00\n",
      "2018-09-04 17:00:00\n",
      "2018-09-04 18:00:00\n",
      "2018-09-04 19:00:00\n",
      "2018-09-04 20:00:00\n",
      "2018-09-04 21:00:00\n",
      "2018-09-04 22:00:00\n",
      "2018-09-04 23:00:00\n",
      "2018-09-05 00:00:00\n",
      "2018-09-05 01:00:00\n",
      "2018-09-05 02:00:00\n",
      "2018-09-05 03:00:00\n",
      "2018-09-05 04:00:00\n",
      "2018-09-05 05:00:00\n",
      "2018-09-05 06:00:00\n",
      "2018-09-05 07:00:00\n",
      "2018-09-05 08:00:00\n",
      "2018-09-05 09:00:00\n",
      "2018-09-05 10:00:00\n",
      "2018-09-05 11:00:00\n",
      "2018-09-05 12:00:00\n",
      "2018-09-05 13:00:00\n",
      "2018-09-05 14:00:00\n",
      "2018-09-05 15:00:00\n",
      "2018-09-05 16:00:00\n",
      "2018-09-05 17:00:00\n",
      "2018-09-05 18:00:00\n",
      "2018-09-05 19:00:00\n",
      "2018-09-05 20:00:00\n",
      "2018-09-05 21:00:00\n",
      "2018-09-05 22:00:00\n",
      "2018-09-05 23:00:00\n",
      "2018-09-06 00:00:00\n",
      "2018-09-06 01:00:00\n",
      "2018-09-06 02:00:00\n",
      "2018-09-06 03:00:00\n",
      "2018-09-06 04:00:00\n",
      "2018-09-06 05:00:00\n",
      "2018-09-06 06:00:00\n",
      "2018-09-06 07:00:00\n",
      "2018-09-06 08:00:00\n",
      "2018-09-06 09:00:00\n",
      "2018-09-06 10:00:00\n",
      "2018-09-06 11:00:00\n",
      "2018-09-06 12:00:00\n",
      "2018-09-06 13:00:00\n",
      "2018-09-06 14:00:00\n",
      "2018-09-06 15:00:00\n",
      "2018-09-06 16:00:00\n",
      "2018-09-06 17:00:00\n",
      "2018-09-06 18:00:00\n",
      "2018-09-06 19:00:00\n",
      "2018-09-06 20:00:00\n",
      "2018-09-06 21:00:00\n",
      "2018-09-06 22:00:00\n",
      "2018-09-06 23:00:00\n",
      "2018-09-07 00:00:00\n"
     ]
    }
   ],
   "source": [
    "current_dt = start_date_dt\n",
    "\n",
    "while current_dt <= end_date_dt:\n",
    "    print(current_dt.strftime('%d-%m-%Y %H:%M:%S'))\n",
    "    \n",
    "    current_dt += timedelta(hours=1)\n",
    "    "
   ]
  },
  {
   "cell_type": "markdown",
   "metadata": {},
   "source": [
    "### Нагрузка на систему по часам"
   ]
  },
  {
   "cell_type": "code",
   "execution_count": 37,
   "metadata": {},
   "outputs": [
    {
     "ename": "ValueError",
     "evalue": "time data '2018-04-30T21:37:41Z' does not match format '%Y-%m-%d %H:%M'",
     "output_type": "error",
     "traceback": [
      "\u001b[0;31m---------------------------------------------------------------------------\u001b[0m",
      "\u001b[0;31mValueError\u001b[0m                                Traceback (most recent call last)",
      "\u001b[0;32m<ipython-input-37-5e22d985e47a>\u001b[0m in \u001b[0;36m<module>\u001b[0;34m()\u001b[0m\n\u001b[1;32m      5\u001b[0m         \u001b[0mline\u001b[0m \u001b[0;34m=\u001b[0m \u001b[0mline\u001b[0m\u001b[0;34m.\u001b[0m\u001b[0mstrip\u001b[0m\u001b[0;34m(\u001b[0m\u001b[0;34m)\u001b[0m\u001b[0;34m\u001b[0m\u001b[0m\n\u001b[1;32m      6\u001b[0m         \u001b[0;31m#2018-04-30T21:37:41Z\u001b[0m\u001b[0;34m\u001b[0m\u001b[0;34m\u001b[0m\u001b[0m\n\u001b[0;32m----> 7\u001b[0;31m         \u001b[0mcur_date_dt\u001b[0m \u001b[0;34m=\u001b[0m \u001b[0mdatetime\u001b[0m\u001b[0;34m.\u001b[0m\u001b[0mstrptime\u001b[0m\u001b[0;34m(\u001b[0m\u001b[0mline\u001b[0m\u001b[0;34m,\u001b[0m \u001b[0;34m'%Y-%m-%d %H:%M'\u001b[0m\u001b[0;34m)\u001b[0m\u001b[0;34m\u001b[0m\u001b[0m\n\u001b[0m\u001b[1;32m      8\u001b[0m         \u001b[0mprint\u001b[0m\u001b[0;34m(\u001b[0m\u001b[0mcur_date_dt\u001b[0m\u001b[0;34m)\u001b[0m\u001b[0;34m\u001b[0m\u001b[0m\n\u001b[1;32m      9\u001b[0m         \u001b[0;32mbreak\u001b[0m\u001b[0;34m\u001b[0m\u001b[0m\n",
      "\u001b[0;32m~/anaconda3/lib/python3.6/_strptime.py\u001b[0m in \u001b[0;36m_strptime_datetime\u001b[0;34m(cls, data_string, format)\u001b[0m\n\u001b[1;32m    563\u001b[0m     \"\"\"Return a class cls instance based on the input string and the\n\u001b[1;32m    564\u001b[0m     format string.\"\"\"\n\u001b[0;32m--> 565\u001b[0;31m     \u001b[0mtt\u001b[0m\u001b[0;34m,\u001b[0m \u001b[0mfraction\u001b[0m \u001b[0;34m=\u001b[0m \u001b[0m_strptime\u001b[0m\u001b[0;34m(\u001b[0m\u001b[0mdata_string\u001b[0m\u001b[0;34m,\u001b[0m \u001b[0mformat\u001b[0m\u001b[0;34m)\u001b[0m\u001b[0;34m\u001b[0m\u001b[0m\n\u001b[0m\u001b[1;32m    566\u001b[0m     \u001b[0mtzname\u001b[0m\u001b[0;34m,\u001b[0m \u001b[0mgmtoff\u001b[0m \u001b[0;34m=\u001b[0m \u001b[0mtt\u001b[0m\u001b[0;34m[\u001b[0m\u001b[0;34m-\u001b[0m\u001b[0;36m2\u001b[0m\u001b[0;34m:\u001b[0m\u001b[0;34m]\u001b[0m\u001b[0;34m\u001b[0m\u001b[0m\n\u001b[1;32m    567\u001b[0m     \u001b[0margs\u001b[0m \u001b[0;34m=\u001b[0m \u001b[0mtt\u001b[0m\u001b[0;34m[\u001b[0m\u001b[0;34m:\u001b[0m\u001b[0;36m6\u001b[0m\u001b[0;34m]\u001b[0m \u001b[0;34m+\u001b[0m \u001b[0;34m(\u001b[0m\u001b[0mfraction\u001b[0m\u001b[0;34m,\u001b[0m\u001b[0;34m)\u001b[0m\u001b[0;34m\u001b[0m\u001b[0m\n",
      "\u001b[0;32m~/anaconda3/lib/python3.6/_strptime.py\u001b[0m in \u001b[0;36m_strptime\u001b[0;34m(data_string, format)\u001b[0m\n\u001b[1;32m    360\u001b[0m     \u001b[0;32mif\u001b[0m \u001b[0;32mnot\u001b[0m \u001b[0mfound\u001b[0m\u001b[0;34m:\u001b[0m\u001b[0;34m\u001b[0m\u001b[0m\n\u001b[1;32m    361\u001b[0m         raise ValueError(\"time data %r does not match format %r\" %\n\u001b[0;32m--> 362\u001b[0;31m                          (data_string, format))\n\u001b[0m\u001b[1;32m    363\u001b[0m     \u001b[0;32mif\u001b[0m \u001b[0mlen\u001b[0m\u001b[0;34m(\u001b[0m\u001b[0mdata_string\u001b[0m\u001b[0;34m)\u001b[0m \u001b[0;34m!=\u001b[0m \u001b[0mfound\u001b[0m\u001b[0;34m.\u001b[0m\u001b[0mend\u001b[0m\u001b[0;34m(\u001b[0m\u001b[0;34m)\u001b[0m\u001b[0;34m:\u001b[0m\u001b[0;34m\u001b[0m\u001b[0m\n\u001b[1;32m    364\u001b[0m         raise ValueError(\"unconverted data remains: %s\" %\n",
      "\u001b[0;31mValueError\u001b[0m: time data '2018-04-30T21:37:41Z' does not match format '%Y-%m-%d %H:%M'"
     ]
    }
   ],
   "source": [
    "stats = {}\n",
    "\n",
    "with open('logs.csv', 'r') as f:\n",
    "    for line in f:\n",
    "        line = line.strip()\n",
    "        #2018-04-30T21:37:41Z\n",
    "        cur_date_dt = datetime.strptime(line, '%Y-%m-%d %H:%M')\n",
    "        print(cur_date_dt)\n",
    "        break\n",
    "        # вычисления нагрузки на систему...\n",
    "        \n",
    "# результат\n",
    "stats"
   ]
  },
  {
   "cell_type": "code",
   "execution_count": null,
   "metadata": {},
   "outputs": [],
   "source": [
    "# а в процентном соотношении?\n",
    "\n"
   ]
  },
  {
   "cell_type": "markdown",
   "metadata": {},
   "source": [
    "###  Unixtime"
   ]
  },
  {
   "cell_type": "code",
   "execution_count": null,
   "metadata": {},
   "outputs": [],
   "source": [
    "import time\n",
    "from datetime import date"
   ]
  },
  {
   "cell_type": "code",
   "execution_count": null,
   "metadata": {},
   "outputs": [],
   "source": [
    "d = datetime.date(2018, 9, 1)\n",
    "\n",
    "unixtime = time.mktime(d.timetuple())\n",
    "unixtime"
   ]
  },
  {
   "cell_type": "code",
   "execution_count": null,
   "metadata": {},
   "outputs": [],
   "source": [
    "from datetime import datetime"
   ]
  },
  {
   "cell_type": "code",
   "execution_count": null,
   "metadata": {},
   "outputs": [],
   "source": [
    "datetime.fromtimestamp(1535749200)"
   ]
  },
  {
   "cell_type": "markdown",
   "metadata": {},
   "source": [
    "# Обработка ошибок"
   ]
  },
  {
   "cell_type": "code",
   "execution_count": null,
   "metadata": {},
   "outputs": [],
   "source": [
    "some_num = '123'"
   ]
  },
  {
   "cell_type": "code",
   "execution_count": null,
   "metadata": {},
   "outputs": [],
   "source": [
    "float(some_num)"
   ]
  },
  {
   "cell_type": "code",
   "execution_count": null,
   "metadata": {},
   "outputs": [],
   "source": [
    "ups = '123a'"
   ]
  },
  {
   "cell_type": "code",
   "execution_count": null,
   "metadata": {},
   "outputs": [],
   "source": [
    "float(ups)"
   ]
  },
  {
   "cell_type": "code",
   "execution_count": null,
   "metadata": {},
   "outputs": [],
   "source": [
    "try:\n",
    "    float(ups)\n",
    "\n",
    "except Exception as e:\n",
    "    print(e)\n",
    "    \n",
    "print('Проехали')"
   ]
  },
  {
   "cell_type": "code",
   "execution_count": null,
   "metadata": {},
   "outputs": [],
   "source": [
    "# полная версия traceback\n",
    "import traceback\n",
    "\n",
    "try:\n",
    "    float(ups)\n",
    "\n",
    "except Exception:\n",
    "    print(traceback.print_exc())\n",
    "    \n",
    "print('Проехали')"
   ]
  },
  {
   "cell_type": "markdown",
   "metadata": {},
   "source": [
    "### Более жизненный пример"
   ]
  },
  {
   "cell_type": "code",
   "execution_count": 38,
   "metadata": {},
   "outputs": [
    {
     "name": "stdout",
     "output_type": "stream",
     "text": [
      "05.10.16 23:18\t1010\t20,2\n",
      "09.10.2016T 21:40:00\t1036\t15,6\n",
      "05.10.16 3:23\t1041\n",
      "05.10.16 23:19\t1041\n",
      "01.10.16 4:57\t1042\t14,8\n",
      "01.10.16 23:29\t1042\t14,4\n",
      "03.10.16 20:20\t1042\t14\n",
      "04.10.16 0:35\t1042\t20\n",
      "04.10.16 13:46\t1042\t16,2\n",
      "04.10.16 17:34\t1042\t11\n",
      "05.10.16 15:15\t1042\t10800000\n",
      "06.10.16 20:45\t1042\t22,6\n",
      "07.10.16 2:54\t1042\t22,4\n",
      "07.10.16 5:02\t1042\t24,4\n",
      "07.10.16 6:35\t1042\t16,6\n",
      "08.10.2016T 16:46:00\t1042\t8,6\n",
      "01.10.16 13:39\t1047\n",
      "05.10.16 21:41\t1047\n",
      "07.10.16 9:59\t1052\t24\n",
      "08.10.2016T 19:36:00\t1052\t18,8\n",
      "04.10.16 11:12\t1057\n",
      "09.10.2016T 2:47:00\t1057\n",
      "09.10.2016T 16:27:00\t1062\t11,2\n",
      "05.10.16 4:38\t1067\t19\n",
      "04.10.16 9:56\t1078\t23,4\n",
      "04.10.16 14:36\t1085\t17\n",
      "05.10.16 16:41\t1096\t20,8\n",
      "01.10.16 11:55\t1098\t15,6\n",
      "01.10.16 14:16\t1100\n",
      "02.10.16 1:39\t1100\n",
      "02.10.16 2:49\t1100\n",
      "02.10.16 13:05\t1100\n",
      "03.10.16 4:04\t1100\n",
      "03.10.16 6:58\t1100\n",
      "03.10.16 15:01\t1100\n",
      "04.10.16 23:43\t1100\n",
      "05.10.16 5:46\t1100\n",
      "06.10.16 0:31\t1100\n",
      "06.10.16 9:25\t1100\n",
      "08.10.2016T 15:15:00\t1100\n",
      "07.10.16 9:06\t1105\t16,2\n",
      "01.10.16 4:30\t1108\t17,8\n",
      "01.10.16 18:16\t1108\t18,8\n",
      "02.10.16 2:58\t1108\t20000000\n",
      "02.10.16 6:01\t1108\t21\n",
      "02.10.16 20:03\t1108\t16,6\n",
      "04.10.16 2:56\t1108\t20\n",
      "04.10.16 6:57\t1108\t19,8\n",
      "06.10.16 6:46\t1108\t16,8\n",
      "09.10.2016T 8:33:00\t1108\t24000000\n",
      "08.10.2016T 8:02:00\t1111\t12\n",
      "05.10.16 5:25\t1112\t10,2\n",
      "09.10.2016T 0:03:00\t1112\t24\n",
      "06.10.16 10:09\t1113\t15,8\n",
      "09.10.2016T 12:09:00\t1113\t22\n",
      "05.10.16 18:00\t1114\t17,4\n",
      "06.10.16 17:58\t1114\t14,8\n",
      "05.10.16 23:19\t1116\t20\n",
      "01.10.16 23:13\t1118\t11,6\n",
      "09.10.2016T 21:14:00\t1118\t20\n",
      "05.10.16 16:30\t1123\t16\n",
      "06.10.16 5:27\t1123\t11,2\n",
      "01.10.16 17:46\t1128\t12,2\n",
      "04.10.16 5:00\t1134\n",
      "06.10.16 12:01\t1134\n",
      "01.10.16 15:58\t1135\n",
      "02.10.16 3:19\t1135\n",
      "02.10.16 19:24\t1135\n",
      "04.10.16 10:40\t1135\n",
      "06.10.16 6:06\t1135\n",
      "06.10.16 16:08\t1135\n",
      "08.10.2016T 0:31:00\t1135\n",
      "08.10.2016T 10:16:00\t1135\n",
      "08.10.2016T 23:10:00\t1135\n",
      "01.10.16 22:28\t1136\t21,6\n",
      "03.10.16 23:03\t1136\t17,4\n",
      "03.10.16 8:06\t1140\t22\n",
      "04.10.16 10:01\t1140\t22\n",
      "01.10.16 16:53\t1141\t16\n",
      "05.10.16 3:31\t1145\t16\n",
      "06.10.16 4:00\t1145\t20\n",
      "02.10.16 8:08\t1149\t10\n",
      "07.10.16 16:12\t1149\t21,2\n",
      "08.10.2016T 6:55:00\t1149\t30,4\n",
      "08.10.2016T 22:55:00\t1149\t18800000\n",
      "09.10.2016T 4:10:00\t1149\t14\n",
      "09.10.2016T 10:26:00\t1149\t22\n",
      "09.10.2016T 22:22:00\t1149\t16\n",
      "07.10.16 6:57\t1150\t12,6\n",
      "02.10.16 12:03\t1154\t13,4\n",
      "04.10.16 22:51\t1154\t13,6\n",
      "04.10.16 9:28\t1159\t10,2\n",
      "04.10.16 13:34\t1159\t17,4\n",
      "08.10.2016T 9:43:00\t1164\t22,4\n",
      "07.10.16 14:57\t1167\t11,4\n",
      "07.10.16 20:25\t1175\t14\n",
      "06.10.16 12:48\t1181\t22,4\n",
      "07.10.16 9:54\t1182\t18\n",
      "10.10.16 2:35\t1182\t17\n",
      "04.10.16 13:49\t1193\t24800000\n",
      "09.10.2016T 20:49:00\t1193\t16,6\n",
      "01.10.16 5:12\t1198\t17,8\n",
      "06.10.16 7:52\t1198\t9\n",
      "06.10.16 5:15\t1201\t10,6\n",
      "05.10.16 13:55\t1203\n",
      "06.10.16 5:56\t1203\n",
      "01.10.16 16:10\t1207\t16,6\n",
      "02.10.16 1:24\t1207\t24,2\n",
      "02.10.16 21:17\t1207\t20,4\n",
      "03.10.16 16:08\t1207\t25,6\n",
      "04.10.16 17:29\t1207\t19,8\n",
      "05.10.16 1:39\t1207\t16,4\n",
      "05.10.16 6:33\t1207\t16,2\n",
      "05.10.16 18:57\t1207\t17\n",
      "05.10.16 20:51\t1207\t16,8\n",
      "07.10.16 8:55\t1207\t19,8\n",
      "07.10.16 17:40\t1207\t15,6\n",
      "08.10.2016T 23:36:00\t1207\t19,2\n",
      "09.10.2016T 10:25:00\t1207\t23,2\n",
      "09.10.2016T 21:04:00\t1207\t10,8\n",
      "04.10.16 7:38\t1208\t24,4\n",
      "09.10.2016T 14:53:00\t1208\t13,4\n",
      "05.10.16 17:15\t1209\t12\n",
      "03.10.16 6:16\t1213\t18,6\n",
      "06.10.16 10:04\t1213\t16,6\n",
      "01.10.16 16:52\t1218\t12200000\n",
      "09.10.2016T 19:10:00\t1218\t22400000\n",
      "02.10.16 8:42\t1219\t15,4\n",
      "03.10.16 19:32\t1223\t17,2\n",
      "06.10.16 22:11\t1223\t17600000\n",
      "08.10.2016T 15:18:00\t1224\t16,4\n",
      "01.10.16 4:41\t1226\n",
      "03.10.16 9:32\t1226\n",
      "07.10.16 18:32\t1228\t18,8\n",
      "08.10.2016T 13:21:00\t1228\t17,6\n",
      "03.10.16 15:47\t1230\t20,6\n",
      "01.10.16 9:02\t1233\n",
      "01.10.16 10:27\t1233\n",
      "02.10.16 22:01\t1236\t17,4\n",
      "05.10.16 5:27\t1238\t13,6\n",
      "09.10.2016T 14:43:00\t1238\t17,6\n",
      "04.10.16 22:25\t1242\t18,4\n",
      "06.10.16 4:54\t1243\t20,4\n",
      "06.10.16 14:28\t1243\t20\n",
      "01.10.16 4:27\t1246\t17,8\n",
      "02.10.16 4:27\t1246\n",
      "02.10.16 8:45\t1246\n",
      "02.10.16 16:58\t1246\n",
      "02.10.16 17:30\t1246\n",
      "02.10.16 19:46\t1246\n",
      "03.10.16 2:05\t1246\n",
      "03.10.16 2:57\t1246\n",
      "03.10.16 7:19\t1246\n",
      "03.10.16 12:15\t1246\n",
      "03.10.16 14:58\t1246\n",
      "03.10.16 19:43\t1246\n",
      "04.10.16 7:27\t1246\n",
      "04.10.16 9:08\t1246\n",
      "04.10.16 13:52\t1246\n",
      "04.10.16 16:34\t1246\n",
      "05.10.16 0:27\t1246\n",
      "05.10.16 6:36\t1246\n",
      "05.10.16 12:59\t1246\n",
      "05.10.16 16:52\t1246\n",
      "05.10.16 17:26\t1246\n",
      "06.10.16 6:48\t1246\n",
      "08.10.2016T 2:53:00\t1246\n",
      "10.10.16 0:59\t1246\n",
      "01.10.16 16:30\t1248\t13,2\n",
      "01.10.16 21:06\t1248\t28,8\n",
      "02.10.16 7:12\t1252\t22\n",
      "04.10.16 13:51\t1252\t15,6\n",
      "01.10.16 12:36\t1253\t13,6\n",
      "04.10.16 17:11\t1253\t8,6\n",
      "02.10.16 16:22\t1258\t22\n",
      "08.10.2016T 19:34:00\t1258\t20\n",
      "02.10.16 10:36\t1263\t12,6\n",
      "03.10.16 6:10\t1263\t18\n",
      "02.10.16 21:42\t1267\n",
      "04.10.16 9:02\t1267\n",
      "04.10.16 12:10\t1267\n",
      "04.10.16 15:40\t1267\n",
      "04.10.16 18:37\t1267\n",
      "04.10.16 21:29\t1267\n",
      "05.10.16 21:11\t1267\n",
      "05.10.16 22:09\t1267\n",
      "06.10.16 3:58\t1267\n",
      "06.10.16 11:16\t1267\n",
      "06.10.16 19:20\t1267\n",
      "07.10.16 10:18\t1267\n",
      "08.10.2016T 18:18:00\t1267\n",
      "09.10.2016T 4:41:00\t1267\n",
      "09.10.2016T 9:13:00\t1267\n",
      "09.10.2016T 15:37:00\t1267\n",
      "09.10.2016T 18:56:00\t1267\n",
      "05.10.16 2:48\t1268\t16,4\n",
      "07.10.16 19:36\t1268\t16\n",
      "02.10.16 14:12\t1269\t22\n",
      "07.10.16 3:29\t1270\t21,8\n",
      "01.10.16 8:56\t1273\t14,6\n",
      "08.10.2016T 13:49:00\t1273\t22\n",
      "07.10.16 6:00\t1274\t25\n",
      "04.10.16 13:47\t1278\t15,6\n",
      "07.10.16 6:42\t1278\t17,8\n",
      "08.10.2016T 3:24:00\t1279\t14,8\n",
      "03.10.16 1:03\t1281\t18,2\n",
      "02.10.16 6:11\t1283\t12,6\n",
      "02.10.16 19:24\t1283\t11,8\n",
      "07.10.16 13:37\t1288\t16\n",
      "08.10.2016T 19:46:00\t1288\t30,4\n",
      "07.10.16 2:41\t1291\t13,4\n",
      "01.10.16 17:29\t1293\t18,4\n",
      "02.10.16 20:12\t1293\t20\n",
      "02.10.16 23:36\t1294\t17\n",
      "07.10.16 10:32\t1296\t26\n",
      "03.10.16 20:41\t1298\t21\n",
      "03.10.16 22:35\t1298\t19,4\n",
      "05.10.16 12:19\t1298\t16\n",
      "02.10.16 11:43\t1300\t12,8\n",
      "03.10.16 23:18\t1300\t14\n",
      "03.10.16 18:28\t1302\t21800000\n",
      "02.10.16 8:06\t1303\t11,8\n",
      "06.10.16 6:23\t1303\t25,8\n",
      "03.10.16 10:42\t1308\t18\n",
      "06.10.16 18:52\t1308\t10,2\n",
      "06.10.16 16:16\t1313\t12\n",
      "08.10.2016T 18:12:00\t1313\t13,8\n",
      "02.10.16 14:04\t1315\t16,6\n",
      "03.10.16 14:10\t1318\n",
      "03.10.16 18:15\t1318\n",
      "03.10.16 18:27\t1318\n",
      "04.10.16 17:09\t1318\n",
      "05.10.16 11:07\t1318\n",
      "06.10.16 1:46\t1318\n",
      "06.10.16 22:29\t1318\n",
      "07.10.16 0:44\t1318\n",
      "07.10.16 10:17\t1318\n",
      "07.10.16 11:29\t1318\n",
      "08.10.2016T 23:18:00\t1318\n",
      "09.10.2016T 1:37:00\t1318\n",
      "09.10.2016T 7:48:00\t1318\n",
      "09.10.2016T 22:27:00\t1318\n",
      "06.10.16 17:08\t1320\t18\n",
      "09.10.2016T 2:35:00\t1323\t16\n",
      "09.10.2016T 10:08:00\t1323\t28,6\n",
      "05.10.16 7:29\t1328\t18,4\n",
      "05.10.16 11:58\t1328\t18,8\n",
      "03.10.16 0:36\t1330\t17,8\n",
      "09.10.2016T 2:08:00\t1331\t16,8\n",
      "03.10.16 2:19\t1332\t19,4\n",
      "04.10.16 22:01\t1333\t20\n",
      "08.10.2016T 3:48:00\t1334\t16\n",
      "03.10.16 1:32\t1343\t22\n",
      "08.10.2016T 4:34:00\t1350\t12800000\n",
      "04.10.16 4:09\t1351\t20\n",
      "06.10.16 19:09\t1353\t17,4\n",
      "03.10.16 1:30\t1354\t15,6\n",
      "02.10.16 23:30\t1355\t22\n",
      "08.10.2016T 6:50:00\t1359\t14,4\n",
      "02.10.16 13:33\t1362\t12,2\n",
      "05.10.16 21:36\t1363\t12,2\n",
      "04.10.16 22:06\t1364\t20\n",
      "01.10.16 5:29\t1366\t13000000\n",
      "07.10.16 9:40\t1367\t22,4\n",
      "04.10.16 7:31\t1371\t13,6\n",
      "04.10.16 1:36\t1372\t30,4\n",
      "07.10.16 17:25\t1374\t12,4\n",
      "05.10.16 23:06\t1377\t16\n",
      "06.10.16 14:29\t1380\t30,4\n",
      "09.10.2016T 4:55:00\t1382\t23,2\n",
      "05.10.16 21:24\t1383\t20\n",
      "05.10.16 8:14\t1386\t12,6\n",
      "03.10.16 11:43\t1387\t14,6\n",
      "01.10.16 6:21\t1388\t11,8\n",
      "03.10.16 6:03\t1392\t20,2\n",
      "06.10.16 5:34\t1393\t10\n",
      "04.10.16 23:55\t1394\t12,8\n",
      "05.10.16 5:01\t1397\t20,6\n",
      "05.10.16 22:54\t1398\t18\n",
      "01.10.16 17:01\t1424\n",
      "03.10.16 6:50\t1424\n",
      "04.10.16 5:27\t1424\n",
      "04.10.16 16:14\t1424\n",
      "04.10.16 18:21\t1424\n",
      "05.10.16 23:33\t1424\n",
      "06.10.16 7:27\t1424\n",
      "07.10.16 3:01\t1424\n",
      "07.10.16 16:08\t1424\n",
      "07.10.16 16:12\t1424\n",
      "08.10.2016T 12:41:00\t1424\n",
      "08.10.2016T 15:26:00\t1424\n",
      "08.10.2016T 17:21:00\t1424\n",
      "09.10.2016T 8:00:00\t1424\n",
      "10.10.16 1:24\t1424\n"
     ]
    }
   ],
   "source": [
    "with open('real_data.txt', 'r') as f:\n",
    "    for line in f:\n",
    "        print(line.strip())"
   ]
  },
  {
   "cell_type": "markdown",
   "metadata": {},
   "source": [
    "Чем прекрасен этот файл:\n",
    "1. Даты имеют разный формат: за 8 и 9 октября формат с \"09.10.2016 21:40\" сменился на \"09.10.2016T 21:40:00\" (добавилась буква T и секунды). Разработчики объяснили этот тем, что сбились настройки в базе данных.\n",
    "2. У покупок некоторых пользователей неизвестно значение выручки, из-за чего количество столбцов в строке уменьшается на один.\n",
    "3. У некоторых строк реальная сумма покупки умножена на миллион. Так иногда действительно делают, чтобы избежать дробных чисел и работать только с целыми. Разработчикам просто так удобнее."
   ]
  },
  {
   "cell_type": "code",
   "execution_count": 39,
   "metadata": {},
   "outputs": [],
   "source": [
    "def make_datetime_normal(dt):\n",
    "    \"\"\"Перевод даты покупки в формат %Y-%m-%d\"\"\"\n",
    "    \n",
    "    date_datetime = datetime.strptime(dt, '%d.%m.%y %H:%M')\n",
    "    return date_datetime.strftime('%Y-%m-%d')"
   ]
  },
  {
   "cell_type": "code",
   "execution_count": 40,
   "metadata": {},
   "outputs": [
    {
     "data": {
      "text/plain": [
       "'2016-10-05'"
      ]
     },
     "execution_count": 40,
     "metadata": {},
     "output_type": "execute_result"
    }
   ],
   "source": [
    "make_datetime_normal('05.10.16 23:18')"
   ]
  },
  {
   "cell_type": "code",
   "execution_count": 41,
   "metadata": {},
   "outputs": [
    {
     "ename": "ValueError",
     "evalue": "time data '08.10.2016T 16:46:00' does not match format '%d.%m.%y %H:%M'",
     "output_type": "error",
     "traceback": [
      "\u001b[0;31m---------------------------------------------------------------------------\u001b[0m",
      "\u001b[0;31mValueError\u001b[0m                                Traceback (most recent call last)",
      "\u001b[0;32m<ipython-input-41-d8779a753750>\u001b[0m in \u001b[0;36m<module>\u001b[0;34m()\u001b[0m\n\u001b[0;32m----> 1\u001b[0;31m \u001b[0mmake_datetime_normal\u001b[0m\u001b[0;34m(\u001b[0m\u001b[0;34m'08.10.2016T 16:46:00'\u001b[0m\u001b[0;34m)\u001b[0m\u001b[0;34m\u001b[0m\u001b[0m\n\u001b[0m",
      "\u001b[0;32m<ipython-input-39-480e2a01a1ff>\u001b[0m in \u001b[0;36mmake_datetime_normal\u001b[0;34m(dt)\u001b[0m\n\u001b[1;32m      2\u001b[0m     \u001b[0;34m\"\"\"Перевод даты покупки в формат %Y-%m-%d\"\"\"\u001b[0m\u001b[0;34m\u001b[0m\u001b[0m\n\u001b[1;32m      3\u001b[0m \u001b[0;34m\u001b[0m\u001b[0m\n\u001b[0;32m----> 4\u001b[0;31m     \u001b[0mdate_datetime\u001b[0m \u001b[0;34m=\u001b[0m \u001b[0mdatetime\u001b[0m\u001b[0;34m.\u001b[0m\u001b[0mstrptime\u001b[0m\u001b[0;34m(\u001b[0m\u001b[0mdt\u001b[0m\u001b[0;34m,\u001b[0m \u001b[0;34m'%d.%m.%y %H:%M'\u001b[0m\u001b[0;34m)\u001b[0m\u001b[0;34m\u001b[0m\u001b[0m\n\u001b[0m\u001b[1;32m      5\u001b[0m     \u001b[0;32mreturn\u001b[0m \u001b[0mdate_datetime\u001b[0m\u001b[0;34m.\u001b[0m\u001b[0mstrftime\u001b[0m\u001b[0;34m(\u001b[0m\u001b[0;34m'%Y-%m-%d'\u001b[0m\u001b[0;34m)\u001b[0m\u001b[0;34m\u001b[0m\u001b[0m\n",
      "\u001b[0;32m~/anaconda3/lib/python3.6/_strptime.py\u001b[0m in \u001b[0;36m_strptime_datetime\u001b[0;34m(cls, data_string, format)\u001b[0m\n\u001b[1;32m    563\u001b[0m     \"\"\"Return a class cls instance based on the input string and the\n\u001b[1;32m    564\u001b[0m     format string.\"\"\"\n\u001b[0;32m--> 565\u001b[0;31m     \u001b[0mtt\u001b[0m\u001b[0;34m,\u001b[0m \u001b[0mfraction\u001b[0m \u001b[0;34m=\u001b[0m \u001b[0m_strptime\u001b[0m\u001b[0;34m(\u001b[0m\u001b[0mdata_string\u001b[0m\u001b[0;34m,\u001b[0m \u001b[0mformat\u001b[0m\u001b[0;34m)\u001b[0m\u001b[0;34m\u001b[0m\u001b[0m\n\u001b[0m\u001b[1;32m    566\u001b[0m     \u001b[0mtzname\u001b[0m\u001b[0;34m,\u001b[0m \u001b[0mgmtoff\u001b[0m \u001b[0;34m=\u001b[0m \u001b[0mtt\u001b[0m\u001b[0;34m[\u001b[0m\u001b[0;34m-\u001b[0m\u001b[0;36m2\u001b[0m\u001b[0;34m:\u001b[0m\u001b[0;34m]\u001b[0m\u001b[0;34m\u001b[0m\u001b[0m\n\u001b[1;32m    567\u001b[0m     \u001b[0margs\u001b[0m \u001b[0;34m=\u001b[0m \u001b[0mtt\u001b[0m\u001b[0;34m[\u001b[0m\u001b[0;34m:\u001b[0m\u001b[0;36m6\u001b[0m\u001b[0;34m]\u001b[0m \u001b[0;34m+\u001b[0m \u001b[0;34m(\u001b[0m\u001b[0mfraction\u001b[0m\u001b[0;34m,\u001b[0m\u001b[0;34m)\u001b[0m\u001b[0;34m\u001b[0m\u001b[0m\n",
      "\u001b[0;32m~/anaconda3/lib/python3.6/_strptime.py\u001b[0m in \u001b[0;36m_strptime\u001b[0;34m(data_string, format)\u001b[0m\n\u001b[1;32m    360\u001b[0m     \u001b[0;32mif\u001b[0m \u001b[0;32mnot\u001b[0m \u001b[0mfound\u001b[0m\u001b[0;34m:\u001b[0m\u001b[0;34m\u001b[0m\u001b[0m\n\u001b[1;32m    361\u001b[0m         raise ValueError(\"time data %r does not match format %r\" %\n\u001b[0;32m--> 362\u001b[0;31m                          (data_string, format))\n\u001b[0m\u001b[1;32m    363\u001b[0m     \u001b[0;32mif\u001b[0m \u001b[0mlen\u001b[0m\u001b[0;34m(\u001b[0m\u001b[0mdata_string\u001b[0m\u001b[0;34m)\u001b[0m \u001b[0;34m!=\u001b[0m \u001b[0mfound\u001b[0m\u001b[0;34m.\u001b[0m\u001b[0mend\u001b[0m\u001b[0;34m(\u001b[0m\u001b[0;34m)\u001b[0m\u001b[0;34m:\u001b[0m\u001b[0;34m\u001b[0m\u001b[0m\n\u001b[1;32m    364\u001b[0m         raise ValueError(\"unconverted data remains: %s\" %\n",
      "\u001b[0;31mValueError\u001b[0m: time data '08.10.2016T 16:46:00' does not match format '%d.%m.%y %H:%M'"
     ]
    }
   ],
   "source": [
    "make_datetime_normal('08.10.2016T 16:46:00')"
   ]
  },
  {
   "cell_type": "markdown",
   "metadata": {},
   "source": [
    "### Упражнение\n",
    "Создайте словарь stats = {'monday': 100, 'tuesday': 200}. \n",
    "\n",
    "Какой тип ошибки вызовет обращение stats['wednesday']?"
   ]
  },
  {
   "cell_type": "code",
   "execution_count": null,
   "metadata": {},
   "outputs": [],
   "source": []
  },
  {
   "cell_type": "code",
   "execution_count": 42,
   "metadata": {},
   "outputs": [],
   "source": [
    "def make_datetime_normal(date_string):\n",
    "    \"\"\"Перевод даты покупки в формат %Y-%m-%d\"\"\"\n",
    "\n",
    "    try:\n",
    "        # пробуем расшифровать дату в формате '%d.%m.%Y %H:%M'\n",
    "        date_datetime = datetime.strptime(date_string, '%d.%m.%Y %H:%M')\n",
    "\n",
    "    except ValueError:\n",
    "\n",
    "        # пробуем расшифровать дату в формате '%d.%m.%YT %H:%M:%S'\n",
    "        try:\n",
    "            date_datetime = datetime.strptime(date_string, '%d.%m.%YT %H:%M:%S')\n",
    "\n",
    "        except:\n",
    "            # ни один из известных форматов не подошел, возвращаем 'undefined'\n",
    "            return 'undefined'\n",
    "\n",
    "    return date_datetime.strftime('%Y-%m-%d')"
   ]
  },
  {
   "cell_type": "code",
   "execution_count": 43,
   "metadata": {},
   "outputs": [
    {
     "data": {
      "text/plain": [
       "'undefined'"
      ]
     },
     "execution_count": 43,
     "metadata": {},
     "output_type": "execute_result"
    }
   ],
   "source": [
    "make_datetime_normal('05.10.16 23:18')"
   ]
  },
  {
   "cell_type": "code",
   "execution_count": 44,
   "metadata": {},
   "outputs": [
    {
     "data": {
      "text/plain": [
       "'2016-10-08'"
      ]
     },
     "execution_count": 44,
     "metadata": {},
     "output_type": "execute_result"
    }
   ],
   "source": [
    "make_datetime_normal('08.10.2016T 16:46:00')"
   ]
  },
  {
   "cell_type": "code",
   "execution_count": 45,
   "metadata": {},
   "outputs": [
    {
     "data": {
      "text/plain": [
       "'undefined'"
      ]
     },
     "execution_count": 45,
     "metadata": {},
     "output_type": "execute_result"
    }
   ],
   "source": [
    "make_datetime_normal('08.10.2016T16:46:00Z')"
   ]
  },
  {
   "cell_type": "markdown",
   "metadata": {},
   "source": [
    "### Упражнение\n",
    "Посчитайте сумму третьего столбца с файле real_data.txt. Считайте, что если значение больше 1000, то оно умножено на миллион."
   ]
  },
  {
   "cell_type": "code",
   "execution_count": 48,
   "metadata": {},
   "outputs": [
    {
     "ename": "SyntaxError",
     "evalue": "unexpected EOF while parsing (<ipython-input-48-041039fa101c>, line 7)",
     "output_type": "error",
     "traceback": [
      "\u001b[0;36m  File \u001b[0;32m\"<ipython-input-48-041039fa101c>\"\u001b[0;36m, line \u001b[0;32m7\u001b[0m\n\u001b[0;31m    try: sum(date)\u001b[0m\n\u001b[0m                  ^\u001b[0m\n\u001b[0;31mSyntaxError\u001b[0m\u001b[0;31m:\u001b[0m unexpected EOF while parsing\n"
     ]
    }
   ],
   "source": [
    "sum=0\n",
    "with open('real_data.txt', 'r') as f:\n",
    "    for line in f:\n",
    "        line=line.strip().split('/t')\n",
    "        #numb=parse(line,' ')\n",
    "        print(line.strip())\n",
    "        try: sum(date)"
   ]
  },
  {
   "cell_type": "code",
   "execution_count": null,
   "metadata": {},
   "outputs": [],
   "source": []
  },
  {
   "cell_type": "markdown",
   "metadata": {},
   "source": [
    "# YAML-формат\n",
    "Неочевидные приемы https://habr.com/post/270097/"
   ]
  },
  {
   "cell_type": "code",
   "execution_count": null,
   "metadata": {},
   "outputs": [],
   "source": [
    "from yaml import load"
   ]
  },
  {
   "cell_type": "code",
   "execution_count": null,
   "metadata": {},
   "outputs": [],
   "source": [
    "config = load( open('config.yaml') )\n",
    "config"
   ]
  },
  {
   "cell_type": "code",
   "execution_count": null,
   "metadata": {},
   "outputs": [],
   "source": [
    "config['accounts']"
   ]
  },
  {
   "cell_type": "code",
   "execution_count": null,
   "metadata": {},
   "outputs": [],
   "source": [
    "vk_username = config['accounts']['vk']['username']\n",
    "vk_username"
   ]
  },
  {
   "cell_type": "code",
   "execution_count": null,
   "metadata": {},
   "outputs": [],
   "source": [
    "for city in config['cities']:\n",
    "    print(city)"
   ]
  },
  {
   "cell_type": "markdown",
   "metadata": {},
   "source": [
    "### Упражнение\n",
    "Вам необходимо написать YAML-файл с параметрами для выгрузки данных. Как бы вы организовали такой файл?\n",
    "\n",
    "1. Выгрузка происходит из нескольких систем (vk, mytarget, dbm).\n",
    "\n",
    "2. У каждой системы есть несколько аккаунтов (account1, account2, ...). \n",
    "\n",
    "3. Для выгрузки данных из каждого аккаунта есть своя пара ключей приложения client_id и client_secret.\n",
    "\n",
    "4. Также у каждого аккаунта есть набор клиентов (client1, client2, ...), у каждого из которых есть свой логин и refresh_token."
   ]
  },
  {
   "cell_type": "code",
   "execution_count": null,
   "metadata": {},
   "outputs": [],
   "source": []
  }
 ],
 "metadata": {
  "kernelspec": {
   "display_name": "Python 3",
   "language": "python",
   "name": "python3"
  },
  "language_info": {
   "codemirror_mode": {
    "name": "ipython",
    "version": 3
   },
   "file_extension": ".py",
   "mimetype": "text/x-python",
   "name": "python",
   "nbconvert_exporter": "python",
   "pygments_lexer": "ipython3",
   "version": "3.6.5"
  }
 },
 "nbformat": 4,
 "nbformat_minor": 2
}
