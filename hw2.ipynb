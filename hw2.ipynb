{
 "cells": [
  {
   "cell_type": "markdown",
   "metadata": {},
   "source": [
    "# Задание 1"
   ]
  },
  {
   "cell_type": "markdown",
   "metadata": {},
   "source": [
    "Дан список с визитами по городам и странам. Напишите код, который возвращает отфильтрованный список geo_logs, содержащий только визиты из России. Считайте, что список geo_logs легко помещается в оперативной памяти."
   ]
  },
  {
   "cell_type": "code",
   "execution_count": 251,
   "metadata": {},
   "outputs": [],
   "source": [
    "geo_logs = [\n",
    "['visit1', ['Москва', 'Россия']],\n",
    "['visit2', ['Дели', 'Индия']],\n",
    "['visit3', ['Владимир', 'Россия']],\n",
    "['visit4', ['Лиссабон', 'Португалия']],\n",
    "['visit5', ['Париж', 'Франция']],\n",
    "['visit6', ['Лиссабон', 'Португалия']],\n",
    "['visit7', ['Тула', 'Россия']],\n",
    "['visit8', ['Тула', 'Россия']],\n",
    "['visit9', ['Курск', 'Россия']],\n",
    "['visit10', ['Архангельск', 'Россия']],\n",
    "]\n",
    "# двоеточия после слов \"визит\" заменены на запятые"
   ]
  },
  {
   "cell_type": "code",
   "execution_count": 41,
   "metadata": {
    "scrolled": true
   },
   "outputs": [
    {
     "name": "stdout",
     "output_type": "stream",
     "text": [
      "['visit1', ['Москва', 'Россия']]\n",
      "['visit3', ['Владимир', 'Россия']]\n",
      "['visit7', ['Тула', 'Россия']]\n",
      "['visit8', ['Тула', 'Россия']]\n",
      "['visit9', ['Курск', 'Россия']]\n",
      "['visit10', ['Архангельск', 'Россия']]\n"
     ]
    }
   ],
   "source": [
    "for lines in geo_logs:\n",
    "    if lines[1][1]=='Россия':\n",
    "        print(lines)"
   ]
  },
  {
   "cell_type": "markdown",
   "metadata": {},
   "source": [
    "# Задание 2"
   ]
  },
  {
   "cell_type": "markdown",
   "metadata": {},
   "source": [
    "\n",
    "Выведите на экран все уникальные гео-ID из значений словаря ids. Т. е. список вида [213, 15, 54, 119, 98, 35]\n",
    "ids = {'user1': [213, 213, 213, 15, 213], 'user2': [54, 54, 119, 119, 119], 'user3': [213, 98, 98, 35]}"
   ]
  },
  {
   "cell_type": "code",
   "execution_count": 81,
   "metadata": {},
   "outputs": [
    {
     "name": "stdout",
     "output_type": "stream",
     "text": [
      "{98, 35, 15, 213, 54, 119}\n"
     ]
    }
   ],
   "source": [
    "ids = {'user1': [213, 213, 213, 15, 213], 'user2': [54, 54, 119, 119, 119], 'user3': [213, 98, 98, 35]}\n",
    "conc=[]\n",
    "#склеиваю в один список и беру уникальные элементы с помощью set()\n",
    "for key in ids.values():\n",
    "    #print(key)\n",
    "    conc=conc+key\n",
    "    #conc=join(conc, key)\n",
    "#print(conc)\n",
    "print(set(conc))\n",
    "#type(set(conc))"
   ]
  },
  {
   "cell_type": "markdown",
   "metadata": {},
   "source": [
    "# Задание 3"
   ]
  },
  {
   "cell_type": "markdown",
   "metadata": {},
   "source": [
    "Список поисковых запросов. Получить распределение количества слов в них. Т. е. поисковых запросов из одного слова 5%, из двух - 7%, из трех - 3% итд.\n"
   ]
  },
  {
   "cell_type": "code",
   "execution_count": 66,
   "metadata": {},
   "outputs": [],
   "source": [
    "queries = [\n",
    "'смотреть сериалы онлайн',\n",
    "'новости спорта',\n",
    "'афиша кино',\n",
    "'курс доллара',\n",
    "'сериалы этим летом',\n",
    "'курс по питону',\n",
    "'сериалы про спорт',\n",
    "]"
   ]
  },
  {
   "cell_type": "code",
   "execution_count": 78,
   "metadata": {},
   "outputs": [
    {
     "name": "stdout",
     "output_type": "stream",
     "text": [
      "{3: 0.5714285714285714, 2: 0.42857142857142855}\n"
     ]
    }
   ],
   "source": [
    "stats={}\n",
    "\n",
    "newNum = '2017-05-04'\n",
    "newValue = 1/len(queries)\n",
    "# для каждой строки определяем - есть ли такое количество слов в словаре. \n",
    "#Количество слов принял равным количеству пробелов +1\n",
    "\n",
    "for line in queries:\n",
    "    newNum=line.count(' ')+1\n",
    "    if newNum in stats:\n",
    "        #print('Значение для ключа уже существует')\n",
    "        stats[ newNum ]+= newValue\n",
    "    \n",
    "    else:\n",
    "        stats[ newNum ] = newValue\n",
    "\n",
    "print( stats )"
   ]
  },
  {
   "cell_type": "markdown",
   "metadata": {},
   "source": [
    "# Задание 4"
   ]
  },
  {
   "cell_type": "markdown",
   "metadata": {},
   "source": [
    "Дана статистика рекламных каналов по объемам продаж. Напишите скрипт, который возвращает название канала с максимальным объемом.\n",
    "Т. е. в данном примере скрипт должен возвращать 'yandex'."
   ]
  },
  {
   "cell_type": "code",
   "execution_count": 82,
   "metadata": {},
   "outputs": [],
   "source": [
    "stats = {\n",
    "    'facebook': 55, \n",
    "    'yandex': 120, \n",
    "    'vk': 115, \n",
    "    'google': 99, \n",
    "    'email': 42, \n",
    "    'ok': 98}"
   ]
  },
  {
   "cell_type": "code",
   "execution_count": 90,
   "metadata": {},
   "outputs": [
    {
     "name": "stdout",
     "output_type": "stream",
     "text": [
      "yandex\n"
     ]
    }
   ],
   "source": [
    "max_value=-1\n",
    "max_channel=''\n",
    "for line in stats:\n",
    "    if stats[line]>max_value:\n",
    "        max_value=stats[line]\n",
    "        max_channel=line\n",
    "print(max_channel)"
   ]
  },
  {
   "cell_type": "markdown",
   "metadata": {},
   "source": [
    "# Задание 5"
   ]
  },
  {
   "cell_type": "code",
   "execution_count": null,
   "metadata": {},
   "outputs": [],
   "source": [
    "#Дан поток логов по количеству просмотренных страниц для каждого пользователя. \n",
    "#Список отсортирован по ID пользователя. \n",
    "#Вам необходимо написать алгоритм, который считает среднее значение просмотров на пользователя. \n",
    "#Т. е. надо посчитать отношение суммы всех просмотров к количеству уникальных пользователей. \n",
    "#Учтите, что весь список stream не помещается в оперативную память, \n",
    "#т. е. его нужно обрабатывать поэлементно в цикле."
   ]
  },
  {
   "cell_type": "code",
   "execution_count": 93,
   "metadata": {},
   "outputs": [],
   "source": [
    "stream = [\n",
    "'2018-01-01,user1,3',\n",
    "'2018-01-07,user1,4',\n",
    "'2018-03-29,user1,1',\n",
    "'2018-04-04,user1,13',\n",
    "'2018-01-05,user2,7',\n",
    "'2018-06-14,user3,4',\n",
    "'2018-07-02,user3,10',\n",
    "'2018-03-21,user4,19',\n",
    "'2018-03-22,user4,4',\n",
    "'2018-04-22,user4,8',\n",
    "'2018-05-03,user4,9',\n",
    "'2018-05-11,user4,11',\n",
    "]"
   ]
  },
  {
   "cell_type": "code",
   "execution_count": 112,
   "metadata": {},
   "outputs": [
    {
     "name": "stdout",
     "output_type": "stream",
     "text": [
      "23.25\n"
     ]
    }
   ],
   "source": [
    "nmb_of_views=0\n",
    "nmb_of_users=0\n",
    "i=0\n",
    "sec='uu'\n",
    "# задаем пользователя для счетчика. Умолчательного берем который нам не встретится\n",
    "#stats={}\n",
    "for elem in stream:\n",
    "    #print(elem.split(','))\n",
    "    first, second, third =elem.split(',')\n",
    "#построчно суммируем просмотры\n",
    "    nmb_of_views+=int(third)\n",
    "#считаем пользователей, принимая в расчет, что они идут по порядку    \n",
    "    if second!=sec:\n",
    "        nmb_of_users+=1\n",
    "    i+=1\n",
    "    sec=second\n",
    "print(nmb_of_views/ nmb_of_users)\n"
   ]
  },
  {
   "cell_type": "markdown",
   "metadata": {},
   "source": [
    "# Задание 6"
   ]
  },
  {
   "cell_type": "code",
   "execution_count": null,
   "metadata": {},
   "outputs": [],
   "source": [
    "#Дана статистика рекламных кампаний по дням. \n",
    "#Напишите алгоритм, который по паре дата-кампания ищет значение численного столбца. \n",
    "#Т. е. для даты '2018-01-01' и 'google' нужно получить число 25. \n",
    "#Считайте, что все комбинации дата-кампания уникальны, а список stats легко помещается в оперативной памяти."
   ]
  },
  {
   "cell_type": "code",
   "execution_count": 113,
   "metadata": {},
   "outputs": [],
   "source": [
    "stats = [\n",
    "['2018-01-01', 'google', 25],\n",
    "['2018-01-01', 'yandex', 65],\n",
    "['2018-01-01', 'market', 89],\n",
    "['2018-01-02', 'google', 574],\n",
    "['2018-01-02', 'yandex', 249],\n",
    "['2018-01-02', 'market', 994],\n",
    "['2018-01-03', 'google', 1843],\n",
    "['2018-01-03', 'yandex', 1327],\n",
    "['2018-01-03', 'market', 1764],\n",
    "]"
   ]
  },
  {
   "cell_type": "code",
   "execution_count": 140,
   "metadata": {},
   "outputs": [
    {
     "data": {
      "text/plain": [
       "[25]"
      ]
     },
     "execution_count": 140,
     "metadata": {},
     "output_type": "execute_result"
    }
   ],
   "source": [
    "#stats[0:3]\n",
    "dt='2018-01-01'\n",
    "company='google'\n",
    "[line[2] for line in stats if (dt == line[0] and line[1]==company)]"
   ]
  },
  {
   "cell_type": "markdown",
   "metadata": {},
   "source": [
    "# Бонусный вариант (делать его не обязательно)"
   ]
  },
  {
   "cell_type": "code",
   "execution_count": null,
   "metadata": {},
   "outputs": [],
   "source": [
    "#Рассмотрите обобщенный вариант этой задачи: имеется таблица из n столбцов.\n",
    "#Первые n-1 столбцов - признаки (комбинации этих признаков в таблице уникальные). \n",
    "#Последний столбец - значение. \n",
    "#Вам необходимо по набору n-1 признаков найти соответствующую строчку в таблице и вернуть значение из правого столбца. Учтите, что исходная таблица может быть любого размера.\n",
    "\n",
    "#Одно из применений задачи - объединение двух таблиц по n столбцов, \n",
    "#одна из которых помещается в оперативной памяти. Например, 7 столбцов по 1 и 10 миллионов строк."
   ]
  },
  {
   "cell_type": "code",
   "execution_count": 280,
   "metadata": {},
   "outputs": [],
   "source": [
    "from random import  random, choice, randint\n",
    "from string import ascii_letters\n",
    "import csv\n",
    "import timeit\n",
    "\n",
    "#n - number of columns\n",
    "n=7\n",
    "rows=10**7-1\n",
    "#rows number will be 10**7. Last row will be the one I will search for\n",
    "\n",
    "#Firstly lets create table csv to save big table\n",
    "#hope it is not overload memory\n",
    "\n",
    "field_names = []\n",
    "\n",
    "for k in range(n-1):\n",
    "        field_names.append(k)\n",
    "field_names.append('value')\n",
    "#print(field_names)\n",
    "\n",
    "\n",
    "with open('6 table.csv', 'w', newline='') as csvfile:\n",
    "    fieldnames = field_names\n",
    "    #writer = csv.DictWriter(csvfile, fieldnames=fieldnames)\n",
    "    #writer = csv.writer(csvfile, fieldnames=fieldnames)\n",
    "    writer = csv.writer(csvfile)\n",
    "\n",
    "    #writer.writeheader()\n",
    "    for i in range(rows):\n",
    "        tab_row=[]\n",
    "        for j in range(n-1):\n",
    "            #len_cell=randint(0, n)\n",
    "            len_cell=2\n",
    "            tab_row.append(''.join(choice(ascii_letters) for s in range(len_cell)))\n",
    "        tab_row.append(randint(0, rows))\n",
    "        #print(tab_row)\n",
    "        writer.writerow(tab_row)\n",
    "    #last row I will search for\n",
    "    writer.writerow(['JL', 'VT', 'dw', 'Wa', 'EO', 'MV', '7078246'])\n",
    "        #if i%1000000==0: \n",
    "            #print(timeit.timeit())"
   ]
  },
  {
   "cell_type": "code",
   "execution_count": null,
   "metadata": {},
   "outputs": [],
   "source": [
    "#commented code wich just to checks the table\n",
    "#import pandas as pd\n",
    "#data = pd.read_csv('6 table.csv')\n",
    "#data.tail()\n",
    "#array_to_search=['JL', 'VT', 'dw', 'Wa', 'EO', 'MV'] # '7078246'\n",
    "#array_to_search"
   ]
  },
  {
   "cell_type": "code",
   "execution_count": 285,
   "metadata": {},
   "outputs": [
    {
     "name": "stdout",
     "output_type": "stream",
     "text": [
      "volume is  7078246\n"
     ]
    }
   ],
   "source": [
    "#secondly I will read row by row and search for volume in the cycle using attributes\n",
    "import csv\n",
    "\n",
    "array_to_search=['JL', 'VT', 'dw', 'Wa', 'EO', 'MV'] # '7078246'\n",
    "\n",
    "with open('6 table.csv', newline='') as f:\n",
    "    reader = csv.reader(f)\n",
    "    \n",
    "    for row in reader:\n",
    "        arr_in=row[:n-1]\n",
    "        if arr_in==array_to_search:\n",
    "            print('volume is ', row[n-1])\n",
    "            break\n"
   ]
  },
  {
   "cell_type": "code",
   "execution_count": 282,
   "metadata": {},
   "outputs": [
    {
     "data": {
      "text/html": [
       "<div>\n",
       "<style scoped>\n",
       "    .dataframe tbody tr th:only-of-type {\n",
       "        vertical-align: middle;\n",
       "    }\n",
       "\n",
       "    .dataframe tbody tr th {\n",
       "        vertical-align: top;\n",
       "    }\n",
       "\n",
       "    .dataframe thead th {\n",
       "        text-align: right;\n",
       "    }\n",
       "</style>\n",
       "<table border=\"1\" class=\"dataframe\">\n",
       "  <thead>\n",
       "    <tr style=\"text-align: right;\">\n",
       "      <th></th>\n",
       "      <th>Lt</th>\n",
       "      <th>UK</th>\n",
       "      <th>Sk</th>\n",
       "      <th>wY</th>\n",
       "      <th>sP</th>\n",
       "      <th>wv</th>\n",
       "      <th>20788</th>\n",
       "    </tr>\n",
       "  </thead>\n",
       "  <tbody>\n",
       "    <tr>\n",
       "      <th>999995</th>\n",
       "      <td>yX</td>\n",
       "      <td>BP</td>\n",
       "      <td>na</td>\n",
       "      <td>Rg</td>\n",
       "      <td>Cm</td>\n",
       "      <td>Me</td>\n",
       "      <td>234120</td>\n",
       "    </tr>\n",
       "    <tr>\n",
       "      <th>999996</th>\n",
       "      <td>ur</td>\n",
       "      <td>kM</td>\n",
       "      <td>Cq</td>\n",
       "      <td>DM</td>\n",
       "      <td>Zr</td>\n",
       "      <td>Xu</td>\n",
       "      <td>281740</td>\n",
       "    </tr>\n",
       "    <tr>\n",
       "      <th>999997</th>\n",
       "      <td>my</td>\n",
       "      <td>oa</td>\n",
       "      <td>ST</td>\n",
       "      <td>Qq</td>\n",
       "      <td>wQ</td>\n",
       "      <td>oK</td>\n",
       "      <td>622546</td>\n",
       "    </tr>\n",
       "    <tr>\n",
       "      <th>999998</th>\n",
       "      <td>gz</td>\n",
       "      <td>MT</td>\n",
       "      <td>Uq</td>\n",
       "      <td>bW</td>\n",
       "      <td>RN</td>\n",
       "      <td>wa</td>\n",
       "      <td>517376</td>\n",
       "    </tr>\n",
       "    <tr>\n",
       "      <th>999999</th>\n",
       "      <td>JL</td>\n",
       "      <td>VT</td>\n",
       "      <td>dw</td>\n",
       "      <td>Wa</td>\n",
       "      <td>EO</td>\n",
       "      <td>MV</td>\n",
       "      <td>7078246</td>\n",
       "    </tr>\n",
       "  </tbody>\n",
       "</table>\n",
       "</div>"
      ],
      "text/plain": [
       "        Lt  UK  Sk  wY  sP  wv    20788\n",
       "999995  yX  BP  na  Rg  Cm  Me   234120\n",
       "999996  ur  kM  Cq  DM  Zr  Xu   281740\n",
       "999997  my  oa  ST  Qq  wQ  oK   622546\n",
       "999998  gz  MT  Uq  bW  RN  wa   517376\n",
       "999999  JL  VT  dw  Wa  EO  MV  7078246"
      ]
     },
     "execution_count": 282,
     "metadata": {},
     "output_type": "execute_result"
    }
   ],
   "source": []
  },
  {
   "cell_type": "code",
   "execution_count": null,
   "metadata": {},
   "outputs": [],
   "source": []
  }
 ],
 "metadata": {
  "kernelspec": {
   "display_name": "Python 3",
   "language": "python",
   "name": "python3"
  },
  "language_info": {
   "codemirror_mode": {
    "name": "ipython",
    "version": 3
   },
   "file_extension": ".py",
   "mimetype": "text/x-python",
   "name": "python",
   "nbconvert_exporter": "python",
   "pygments_lexer": "ipython3",
   "version": "3.6.5"
  }
 },
 "nbformat": 4,
 "nbformat_minor": 2
}
