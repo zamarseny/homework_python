{
 "cells": [
  {
   "cell_type": "code",
   "execution_count": null,
   "metadata": {},
   "outputs": [],
   "source": [
    "#start 11:16"
   ]
  },
  {
   "cell_type": "markdown",
   "metadata": {},
   "source": [
    "# Задание 1 \n"
   ]
  },
  {
   "cell_type": "markdown",
   "metadata": {},
   "source": [
    "Напишите функцию date_range, которая возвращает список дней между датами start_date и end_date. \n",
    "Даты должны вводиться в формате YYYY-MM-DD."
   ]
  },
  {
   "cell_type": "code",
   "execution_count": 23,
   "metadata": {},
   "outputs": [],
   "source": [
    "from datetime import datetime\n",
    "from datetime import timedelta"
   ]
  },
  {
   "cell_type": "code",
   "execution_count": 24,
   "metadata": {},
   "outputs": [],
   "source": [
    "start_date = '2018-09-01'\n",
    "end_date = '2018-09-07'"
   ]
  },
  {
   "cell_type": "code",
   "execution_count": 25,
   "metadata": {},
   "outputs": [
    {
     "data": {
      "text/plain": [
       "datetime.datetime(2018, 9, 1, 0, 0)"
      ]
     },
     "execution_count": 25,
     "metadata": {},
     "output_type": "execute_result"
    }
   ],
   "source": [
    "start_date_datetime = datetime.strptime(start_date, '%Y-%m-%d')\n",
    "start_date_datetime"
   ]
  },
  {
   "cell_type": "code",
   "execution_count": 26,
   "metadata": {},
   "outputs": [
    {
     "data": {
      "text/plain": [
       "datetime.datetime(2018, 9, 2, 0, 0)"
      ]
     },
     "execution_count": 26,
     "metadata": {},
     "output_type": "execute_result"
    }
   ],
   "source": [
    "start_date_datetime + timedelta(days=1)"
   ]
  },
  {
   "cell_type": "code",
   "execution_count": 27,
   "metadata": {},
   "outputs": [],
   "source": [
    "def date_range(start_date, end_date):\n",
    "    date_rng=[]\n",
    "    start_date_datetime = datetime.strptime(start_date, '%Y-%m-%d')\n",
    "    end_date_datetime = datetime.strptime(end_date, '%Y-%m-%d')\n",
    "    while start_date_datetime<=end_date_datetime:\n",
    "        #как я понял по условию, вывожу список именно ДНЕЙ \n",
    "        #с повторами если в разных месяцах(без указания месяца и года)\n",
    "        date_rng.append(start_date_datetime.strftime('%d'))\n",
    "        start_date_datetime += timedelta(days=1)\n",
    "    return date_rng"
   ]
  },
  {
   "cell_type": "code",
   "execution_count": 28,
   "metadata": {},
   "outputs": [
    {
     "data": {
      "text/plain": [
       "['01', '02', '03', '04', '05', '06', '07']"
      ]
     },
     "execution_count": 28,
     "metadata": {},
     "output_type": "execute_result"
    }
   ],
   "source": [
    "date_range(start_date, end_date)"
   ]
  },
  {
   "cell_type": "code",
   "execution_count": null,
   "metadata": {},
   "outputs": [],
   "source": [
    "#continued on 12:12\n"
   ]
  },
  {
   "cell_type": "markdown",
   "metadata": {},
   "source": [
    "# Задание 2"
   ]
  },
  {
   "cell_type": "markdown",
   "metadata": {},
   "source": [
    "Дополните функцию из первого задания проверкой на корректность дат. \n",
    "В случае неверного формата или если start_date > end_date должен возвращаться пустой список."
   ]
  },
  {
   "cell_type": "code",
   "execution_count": null,
   "metadata": {},
   "outputs": [],
   "source": [
    "#сразу так и вышло"
   ]
  },
  {
   "cell_type": "code",
   "execution_count": 29,
   "metadata": {},
   "outputs": [
    {
     "data": {
      "text/plain": [
       "[]"
      ]
     },
     "execution_count": 29,
     "metadata": {},
     "output_type": "execute_result"
    }
   ],
   "source": [
    "date_range(end_date, start_date)"
   ]
  },
  {
   "cell_type": "markdown",
   "metadata": {},
   "source": [
    "# Задание 3"
   ]
  },
  {
   "cell_type": "code",
   "execution_count": null,
   "metadata": {},
   "outputs": [],
   "source": [
    "#continued on 12:16\n",
    "#paused on 12:46\n",
    "#continued on 13:31"
   ]
  },
  {
   "cell_type": "markdown",
   "metadata": {},
   "source": [
    "Дан поток дат в формате YYYY-MM-DD, в которых встречаются некорректные значения:\n",
    "stream = ['2018-04-02', '2018-02-29', '2018-19-02']\n",
    "Напишите функцию, которая проверяет эти даты на корректность. \n",
    "Т. е. для каждой даты возвращает True (дата корректна) или False (некорректная дата)."
   ]
  },
  {
   "cell_type": "code",
   "execution_count": 39,
   "metadata": {},
   "outputs": [],
   "source": [
    "stream = ['2018-04-02', '2018-02-29', '2018-19-02']"
   ]
  },
  {
   "cell_type": "code",
   "execution_count": 62,
   "metadata": {},
   "outputs": [],
   "source": [
    "def dates_correctness(array):\n",
    "    #return [datetime.strptime(array[i], '%Y-%m-%d') for i in range(len(array)) if array[i]>'']\n",
    "    dt_correctness=[0]*len(array)\n",
    "    for i in range(len(array)):\n",
    "        try: \n",
    "            datetime.strptime(array[i], '%Y-%m-%d')\n",
    "            dt_correctness[i]=1\n",
    "        except ValueError:\n",
    "            dt_correctness[i]=0\n",
    "        except IndexError:\n",
    "            dt_correctness[i]=0\n",
    "    return dt_correctness"
   ]
  },
  {
   "cell_type": "code",
   "execution_count": 63,
   "metadata": {
    "scrolled": true
   },
   "outputs": [
    {
     "data": {
      "text/plain": [
       "[1, 0, 0]"
      ]
     },
     "execution_count": 63,
     "metadata": {},
     "output_type": "execute_result"
    }
   ],
   "source": [
    "#dates_correctness(stream[0:1])\n",
    "dates_correctness(stream)"
   ]
  },
  {
   "cell_type": "code",
   "execution_count": 67,
   "metadata": {
    "scrolled": true
   },
   "outputs": [
    {
     "data": {
      "text/plain": [
       "[('2018-04-02', 1), ('2018-02-29', 0), ('2018-19-02', 0)]"
      ]
     },
     "execution_count": 67,
     "metadata": {},
     "output_type": "execute_result"
    }
   ],
   "source": [
    "list(zip(stream,dates_correctness(stream)))"
   ]
  },
  {
   "cell_type": "code",
   "execution_count": null,
   "metadata": {},
   "outputs": [],
   "source": [
    "#continued on 13:50"
   ]
  },
  {
   "cell_type": "markdown",
   "metadata": {},
   "source": [
    "# Задание 4"
   ]
  },
  {
   "cell_type": "markdown",
   "metadata": {},
   "source": [
    "Напишите функцию, которая возвращает список дат с 1 по вчерашний день текущего месяца. \n",
    "Если дан 1 день месяца, то возвращается список дней прошлого месяца."
   ]
  },
  {
   "cell_type": "code",
   "execution_count": 155,
   "metadata": {},
   "outputs": [],
   "source": [
    "def dates_list(itd=datetime.today()):\n",
    "    #сделал входной параметр для проверки в случае первого числа. По умолчанию - сегодня\n",
    "    lis=[]\n",
    "    flag=1\n",
    "    #td=datetime.today()\n",
    "    td=itd\n",
    "    if td.day==1:\n",
    "        td=td+timedelta(days=-1)\n",
    "        flag=0\n",
    "    for i in range(td.day-flag):\n",
    "        lis.append(datetime.strftime(td+timedelta(days=-i-flag), '%Y-%m-%d'))\n",
    "    lis.sort()\n",
    "    return lis #.sort()"
   ]
  },
  {
   "cell_type": "code",
   "execution_count": 156,
   "metadata": {},
   "outputs": [
    {
     "data": {
      "text/plain": [
       "['2018-09-01',\n",
       " '2018-09-02',\n",
       " '2018-09-03',\n",
       " '2018-09-04',\n",
       " '2018-09-05',\n",
       " '2018-09-06',\n",
       " '2018-09-07',\n",
       " '2018-09-08',\n",
       " '2018-09-09',\n",
       " '2018-09-10',\n",
       " '2018-09-11',\n",
       " '2018-09-12']"
      ]
     },
     "execution_count": 156,
     "metadata": {},
     "output_type": "execute_result"
    }
   ],
   "source": [
    "#print(dates_list())\n",
    "dates_list()\n",
    "#td=datetime.today().day\n",
    "#print(td)"
   ]
  },
  {
   "cell_type": "code",
   "execution_count": 157,
   "metadata": {},
   "outputs": [
    {
     "data": {
      "text/plain": [
       "['2018-08-01',\n",
       " '2018-08-02',\n",
       " '2018-08-03',\n",
       " '2018-08-04',\n",
       " '2018-08-05',\n",
       " '2018-08-06',\n",
       " '2018-08-07',\n",
       " '2018-08-08',\n",
       " '2018-08-09',\n",
       " '2018-08-10',\n",
       " '2018-08-11',\n",
       " '2018-08-12',\n",
       " '2018-08-13',\n",
       " '2018-08-14',\n",
       " '2018-08-15',\n",
       " '2018-08-16',\n",
       " '2018-08-17',\n",
       " '2018-08-18',\n",
       " '2018-08-19',\n",
       " '2018-08-20',\n",
       " '2018-08-21',\n",
       " '2018-08-22',\n",
       " '2018-08-23',\n",
       " '2018-08-24',\n",
       " '2018-08-25',\n",
       " '2018-08-26',\n",
       " '2018-08-27',\n",
       " '2018-08-28',\n",
       " '2018-08-29',\n",
       " '2018-08-30',\n",
       " '2018-08-31']"
      ]
     },
     "execution_count": 157,
     "metadata": {},
     "output_type": "execute_result"
    }
   ],
   "source": [
    "\n",
    "dates_list(datetime.strptime('2018-09-01','%Y-%m-%d'))"
   ]
  },
  {
   "cell_type": "code",
   "execution_count": null,
   "metadata": {},
   "outputs": [],
   "source": [
    "#continued on 14:52"
   ]
  },
  {
   "cell_type": "markdown",
   "metadata": {},
   "source": [
    "# Задание 5"
   ]
  },
  {
   "cell_type": "markdown",
   "metadata": {},
   "source": [
    "Напишите функцию, которая возвращает точную дату в формате YYYY-MM-DD по фразе:\n",
    "1. 'today' - сегодняшнюю дату\n",
    "2. 'last monday' -  прошлый понедельник\n",
    "3. 'last day' - Последний день текущего месяца"
   ]
  },
  {
   "cell_type": "code",
   "execution_count": 224,
   "metadata": {},
   "outputs": [],
   "source": [
    "def date_from_word(word):\n",
    "    dat=datetime.today()\n",
    "    \n",
    "    if word=='today':\n",
    "        dat=dat\n",
    "        \n",
    "    if word=='last monday':\n",
    "        flag=0\n",
    "        i=0\n",
    "        while flag<1:\n",
    "            if dat.weekday()==0:\n",
    "                flag=1\n",
    "                break\n",
    "            dat+=timedelta(days=-1)\n",
    "            i+=1\n",
    "            \n",
    "    if word=='last day':\n",
    "        flag=0\n",
    "        i=0\n",
    "        while flag<1:\n",
    "            if dat.month!=(dat+timedelta(days=1)).month:\n",
    "                flag=1\n",
    "                break\n",
    "            dat+=timedelta(days=1)\n",
    "            i+=1\n",
    "            \n",
    "    return datetime.strftime(dat,'%Y-%m-%d')"
   ]
  },
  {
   "cell_type": "code",
   "execution_count": 225,
   "metadata": {},
   "outputs": [
    {
     "data": {
      "text/plain": [
       "'2018-09-13'"
      ]
     },
     "execution_count": 225,
     "metadata": {},
     "output_type": "execute_result"
    }
   ],
   "source": [
    "date_from_word('today')"
   ]
  },
  {
   "cell_type": "code",
   "execution_count": 226,
   "metadata": {},
   "outputs": [
    {
     "data": {
      "text/plain": [
       "'2018-09-10'"
      ]
     },
     "execution_count": 226,
     "metadata": {},
     "output_type": "execute_result"
    }
   ],
   "source": [
    "date_from_word('last monday')"
   ]
  },
  {
   "cell_type": "code",
   "execution_count": 227,
   "metadata": {},
   "outputs": [
    {
     "data": {
      "text/plain": [
       "'2018-09-30'"
      ]
     },
     "execution_count": 227,
     "metadata": {},
     "output_type": "execute_result"
    }
   ],
   "source": [
    "date_from_word('last day')"
   ]
  },
  {
   "cell_type": "code",
   "execution_count": null,
   "metadata": {},
   "outputs": [],
   "source": [
    "#continued on 15:50\n",
    "#finished at 16:34. Total 5:18"
   ]
  },
  {
   "cell_type": "markdown",
   "metadata": {},
   "source": [
    "# Задание 6"
   ]
  },
  {
   "cell_type": "markdown",
   "metadata": {},
   "source": [
    "Напишите функцию, которая разбивает на недели с понедельника по воскресенье интервал дат \n",
    "между start_date и end_date. \n",
    "Считайте, что входные данные всегда корректны. В ответ должны входить только полные недели."
   ]
  },
  {
   "cell_type": "code",
   "execution_count": 248,
   "metadata": {},
   "outputs": [],
   "source": [
    "def date_range_weeks(start_date, end_date):\n",
    "    date_rng=[]\n",
    "    week_arr=[]\n",
    "    w_nmb=1\n",
    "    start_date_datetime = datetime.strptime(start_date, '%Y-%m-%d')\n",
    "    end_date_datetime = datetime.strptime(end_date, '%Y-%m-%d')\n",
    "    \n",
    "    #определяем первый понедельник, с которого начнутся целые недели\n",
    "    while start_date_datetime<=end_date_datetime and start_date_datetime.weekday()>0:\n",
    "        start_date_datetime += timedelta(days=1)\n",
    "    \n",
    "    #определяем последнее воскресенье, которым закончатся целые недели\n",
    "    while start_date_datetime<=end_date_datetime and end_date_datetime.weekday()<6:\n",
    "        end_date_datetime += timedelta(days=-1)\n",
    "\n",
    "    #  пишем в два массива дни и номера недель\n",
    "    while start_date_datetime<=end_date_datetime:\n",
    "        \n",
    "        date_rng.append(start_date_datetime.strftime('%Y-%m-%d'))\n",
    "        week_arr.append(w_nmb)\n",
    "        if start_date_datetime.weekday()==6:\n",
    "            w_nmb+=1\n",
    "        start_date_datetime += timedelta(days=1)\n",
    "    #return start_date_datetime, end_date_datetime\n",
    "    return list(zip(week_arr, date_rng))"
   ]
  },
  {
   "cell_type": "code",
   "execution_count": 251,
   "metadata": {},
   "outputs": [
    {
     "data": {
      "text/plain": [
       "[(1, '2018-08-06'),\n",
       " (1, '2018-08-07'),\n",
       " (1, '2018-08-08'),\n",
       " (1, '2018-08-09'),\n",
       " (1, '2018-08-10'),\n",
       " (1, '2018-08-11'),\n",
       " (1, '2018-08-12'),\n",
       " (2, '2018-08-13'),\n",
       " (2, '2018-08-14'),\n",
       " (2, '2018-08-15'),\n",
       " (2, '2018-08-16'),\n",
       " (2, '2018-08-17'),\n",
       " (2, '2018-08-18'),\n",
       " (2, '2018-08-19'),\n",
       " (3, '2018-08-20'),\n",
       " (3, '2018-08-21'),\n",
       " (3, '2018-08-22'),\n",
       " (3, '2018-08-23'),\n",
       " (3, '2018-08-24'),\n",
       " (3, '2018-08-25'),\n",
       " (3, '2018-08-26')]"
      ]
     },
     "execution_count": 251,
     "metadata": {},
     "output_type": "execute_result"
    }
   ],
   "source": [
    "start_date = '2018-08-01'\n",
    "end_date = '2018-08-30'\n",
    "\n",
    "date_range_weeks(start_date, end_date)"
   ]
  },
  {
   "cell_type": "code",
   "execution_count": null,
   "metadata": {},
   "outputs": [],
   "source": []
  }
 ],
 "metadata": {
  "kernelspec": {
   "display_name": "Python 3",
   "language": "python",
   "name": "python3"
  },
  "language_info": {
   "codemirror_mode": {
    "name": "ipython",
    "version": 3
   },
   "file_extension": ".py",
   "mimetype": "text/x-python",
   "name": "python",
   "nbconvert_exporter": "python",
   "pygments_lexer": "ipython3",
   "version": "3.6.5"
  }
 },
 "nbformat": 4,
 "nbformat_minor": 2
}
